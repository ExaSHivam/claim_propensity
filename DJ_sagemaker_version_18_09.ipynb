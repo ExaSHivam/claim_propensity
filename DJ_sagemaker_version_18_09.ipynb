{
 "cells": [
  {
   "cell_type": "markdown",
   "id": "0365bb3a-526d-4a78-b3f4-30e257d91082",
   "metadata": {
    "tags": []
   },
   "source": [
    "## Problem Statement"
   ]
  },
  {
   "cell_type": "markdown",
   "id": "5d58ba71-8482-4481-a184-c29c0e8ba53f",
   "metadata": {},
   "source": [
    "To develop a Claim Propensity Model to predict whether a policyholder is likely to file a claim. The model will classify customers into two categories:\n",
    "0: Unlikely to file a claim\n",
    "1: Likely to file a claim\n",
    "This model will also provide probability score for a customer to likely to file a claim, through which the overall efficiency in fixing the premium can be improved."
   ]
  },
  {
   "cell_type": "markdown",
   "id": "ecfc41fd-62c2-48e9-a7c1-f0259c07e08e",
   "metadata": {},
   "source": [
    "## Data"
   ]
  },
  {
   "cell_type": "code",
   "execution_count": 37,
   "id": "09df2afd-dbbf-409c-848d-8485dd65b122",
   "metadata": {
    "tags": []
   },
   "outputs": [],
   "source": [
    "\n",
    "# **Demographic Variables:**\n",
    "\n",
    "# * **Age:**  Older drivers tend to have fewer accidents, but this can vary by region and driving history.\n",
    "# * **Gender:**  Historically, males have had higher claim rates, but this is becoming less pronounced.\n",
    "# * **Marital Status:**  Married individuals might have different risk profiles.\n",
    "# * **Occupation:**  Certain occupations might involve higher risk of accidents.\n",
    "# * **Driving Experience:**  Years of driving experience can be a strong predictor.\n",
    "# * **Location:**  Urban vs. rural, specific city/region, traffic density.\n",
    "# * **Education:**  Higher education levels might correlate with safer driving habits.\n",
    "\n",
    "# **Vehicle-Related Variables:**\n",
    "\n",
    "# * **Vehicle Type:**  Sports cars, SUVs, etc. have different risk profiles.\n",
    "# * **Vehicle Age:**  Older vehicles might have higher maintenance issues.\n",
    "# * **Vehicle Value:**  More expensive vehicles might be associated with higher claim amounts.\n",
    "# * **Engine Size:**  Larger engines might correlate with higher speeds and risk.\n",
    "# * **Vehicle Modifications:**  Aftermarket modifications can impact safety and risk.\n",
    "# * **Vehicle Usage:**  Daily driver, weekend car, etc.\n",
    "# * **Parking Location:**  Street parking, garage, etc.\n",
    "\n",
    "# **Driving History:**\n",
    "\n",
    "# * **Number of Previous Claims:**  A key predictor of future claims.\n",
    "# * **Claim Severity:**  The cost of previous claims.\n",
    "# * **Traffic Violations:**  Speeding tickets, DUI, etc.\n",
    "# * **Accidents:**  Past accidents, even without claims.\n",
    "# * **Driving Habits:**  Commuting vs. recreational driving.\n",
    "\n",
    "# **Policy-Related Variables:**\n",
    "\n",
    "# * **Policy Type:**  Comprehensive, collision, etc.\n",
    "# * **Coverage Limits:**  Higher limits might indicate a higher risk tolerance.\n",
    "# * **Deductible:**  Higher deductibles might encourage safer driving.\n",
    "# * **Policy Duration:**  Longer policy durations might indicate lower risk.\n",
    "# * **Insurance History:**  Previous insurers, policy changes.\n"
   ]
  },
  {
   "cell_type": "markdown",
   "id": "201498db-894c-416e-b243-4032e95346fc",
   "metadata": {},
   "source": [
    "## Import Libraries"
   ]
  },
  {
   "cell_type": "code",
   "execution_count": 38,
   "id": "4e8d1285-62ec-4fa8-9ae3-d74f861907ef",
   "metadata": {
    "tags": []
   },
   "outputs": [],
   "source": [
    "import pandas as pd\n",
    "import matplotlib.pyplot as plt\n",
    "import seaborn as sns\n",
    "import matplotlib.pyplot as plt\n",
    "import seaborn as sns\n",
    "import numpy as np"
   ]
  },
  {
   "cell_type": "code",
   "execution_count": 53,
   "id": "0d2a0133-3395-4bf1-ad50-f4562383b4ad",
   "metadata": {
    "tags": []
   },
   "outputs": [
    {
     "name": "stdout",
     "output_type": "stream",
     "text": [
      "Collecting catboost\n",
      "  Downloading catboost-1.2.7-cp310-cp310-manylinux2014_x86_64.whl.metadata (1.2 kB)\n",
      "Collecting graphviz (from catboost)\n",
      "  Downloading graphviz-0.20.3-py3-none-any.whl.metadata (12 kB)\n",
      "Requirement already satisfied: matplotlib in /home/ec2-user/anaconda3/envs/python3/lib/python3.10/site-packages (from catboost) (3.8.4)\n",
      "Requirement already satisfied: numpy<2.0,>=1.16.0 in /home/ec2-user/anaconda3/envs/python3/lib/python3.10/site-packages (from catboost) (1.22.4)\n",
      "Requirement already satisfied: pandas>=0.24 in /home/ec2-user/anaconda3/envs/python3/lib/python3.10/site-packages (from catboost) (2.2.2)\n",
      "Requirement already satisfied: scipy in /home/ec2-user/anaconda3/envs/python3/lib/python3.10/site-packages (from catboost) (1.14.0)\n",
      "Requirement already satisfied: plotly in /home/ec2-user/anaconda3/envs/python3/lib/python3.10/site-packages (from catboost) (5.23.0)\n",
      "Requirement already satisfied: six in /home/ec2-user/anaconda3/envs/python3/lib/python3.10/site-packages (from catboost) (1.16.0)\n",
      "Requirement already satisfied: python-dateutil>=2.8.2 in /home/ec2-user/anaconda3/envs/python3/lib/python3.10/site-packages (from pandas>=0.24->catboost) (2.9.0)\n",
      "Requirement already satisfied: pytz>=2020.1 in /home/ec2-user/anaconda3/envs/python3/lib/python3.10/site-packages (from pandas>=0.24->catboost) (2024.1)\n",
      "Requirement already satisfied: tzdata>=2022.7 in /home/ec2-user/anaconda3/envs/python3/lib/python3.10/site-packages (from pandas>=0.24->catboost) (2024.1)\n",
      "Requirement already satisfied: contourpy>=1.0.1 in /home/ec2-user/anaconda3/envs/python3/lib/python3.10/site-packages (from matplotlib->catboost) (1.2.1)\n",
      "Requirement already satisfied: cycler>=0.10 in /home/ec2-user/anaconda3/envs/python3/lib/python3.10/site-packages (from matplotlib->catboost) (0.12.1)\n",
      "Requirement already satisfied: fonttools>=4.22.0 in /home/ec2-user/anaconda3/envs/python3/lib/python3.10/site-packages (from matplotlib->catboost) (4.53.1)\n",
      "Requirement already satisfied: kiwisolver>=1.3.1 in /home/ec2-user/anaconda3/envs/python3/lib/python3.10/site-packages (from matplotlib->catboost) (1.4.5)\n",
      "Requirement already satisfied: packaging>=20.0 in /home/ec2-user/anaconda3/envs/python3/lib/python3.10/site-packages (from matplotlib->catboost) (21.3)\n",
      "Requirement already satisfied: pillow>=8 in /home/ec2-user/anaconda3/envs/python3/lib/python3.10/site-packages (from matplotlib->catboost) (10.4.0)\n",
      "Requirement already satisfied: pyparsing>=2.3.1 in /home/ec2-user/anaconda3/envs/python3/lib/python3.10/site-packages (from matplotlib->catboost) (3.1.2)\n",
      "Requirement already satisfied: tenacity>=6.2.0 in /home/ec2-user/anaconda3/envs/python3/lib/python3.10/site-packages (from plotly->catboost) (9.0.0)\n",
      "Collecting numpy<2.0,>=1.16.0 (from catboost)\n",
      "  Downloading numpy-1.26.4-cp310-cp310-manylinux_2_17_x86_64.manylinux2014_x86_64.whl.metadata (61 kB)\n",
      "\u001b[2K     \u001b[90m━━━━━━━━━━━━━━━━━━━━━━━━━━━━━━━━━━━━━━━━\u001b[0m \u001b[32m61.0/61.0 kB\u001b[0m \u001b[31m9.0 MB/s\u001b[0m eta \u001b[36m0:00:00\u001b[0m\n",
      "\u001b[?25hDownloading catboost-1.2.7-cp310-cp310-manylinux2014_x86_64.whl (98.7 MB)\n",
      "\u001b[2K   \u001b[90m━━━━━━━━━━━━━━━━━━━━━━━━━━━━━━━━━━━━━━━━\u001b[0m \u001b[32m98.7/98.7 MB\u001b[0m \u001b[31m31.7 MB/s\u001b[0m eta \u001b[36m0:00:00\u001b[0m:00:01\u001b[0m0:01\u001b[0mm\n",
      "\u001b[?25hDownloading graphviz-0.20.3-py3-none-any.whl (47 kB)\n",
      "\u001b[2K   \u001b[90m━━━━━━━━━━━━━━━━━━━━━━━━━━━━━━━━━━━━━━━━\u001b[0m \u001b[32m47.1/47.1 kB\u001b[0m \u001b[31m5.2 MB/s\u001b[0m eta \u001b[36m0:00:00\u001b[0m\n",
      "\u001b[?25hDownloading numpy-1.26.4-cp310-cp310-manylinux_2_17_x86_64.manylinux2014_x86_64.whl (18.2 MB)\n",
      "\u001b[2K   \u001b[90m━━━━━━━━━━━━━━━━━━━━━━━━━━━━━━━━━━━━━━━━\u001b[0m \u001b[32m18.2/18.2 MB\u001b[0m \u001b[31m94.6 MB/s\u001b[0m eta \u001b[36m0:00:00\u001b[0m:00:01\u001b[0m00:01\u001b[0m\n",
      "\u001b[?25hInstalling collected packages: numpy, graphviz, catboost\n",
      "  Attempting uninstall: numpy\n",
      "    Found existing installation: numpy 1.22.4\n",
      "    Uninstalling numpy-1.22.4:\n",
      "      Successfully uninstalled numpy-1.22.4\n",
      "\u001b[31mERROR: pip's dependency resolver does not currently take into account all the packages that are installed. This behaviour is the source of the following dependency conflicts.\n",
      "mkl-fft 1.3.10 requires mkl, which is not installed.\n",
      "hdijupyterutils 0.21.0 requires pandas<2.0.0,>=0.17.1, but you have pandas 2.2.2 which is incompatible.\n",
      "sparkmagic 0.21.0 requires pandas<2.0.0,>=0.17.1, but you have pandas 2.2.2 which is incompatible.\u001b[0m\u001b[31m\n",
      "\u001b[0mSuccessfully installed catboost-1.2.7 graphviz-0.20.3 numpy-1.26.4\n"
     ]
    }
   ],
   "source": [
    "!pip install catboost"
   ]
  },
  {
   "cell_type": "code",
   "execution_count": 65,
   "id": "8b7350d7-49c2-4cee-93f7-25a48501ed4b",
   "metadata": {
    "tags": []
   },
   "outputs": [
    {
     "name": "stdout",
     "output_type": "stream",
     "text": [
      "Collecting imbalanced-learn\n",
      "  Downloading imbalanced_learn-0.12.3-py3-none-any.whl.metadata (8.3 kB)\n",
      "Requirement already satisfied: numpy>=1.17.3 in /home/ec2-user/anaconda3/envs/python3/lib/python3.10/site-packages (from imbalanced-learn) (1.26.4)\n",
      "Requirement already satisfied: scipy>=1.5.0 in /home/ec2-user/anaconda3/envs/python3/lib/python3.10/site-packages (from imbalanced-learn) (1.14.0)\n",
      "Requirement already satisfied: scikit-learn>=1.0.2 in /home/ec2-user/anaconda3/envs/python3/lib/python3.10/site-packages (from imbalanced-learn) (1.5.1)\n",
      "Requirement already satisfied: joblib>=1.1.1 in /home/ec2-user/anaconda3/envs/python3/lib/python3.10/site-packages (from imbalanced-learn) (1.4.2)\n",
      "Requirement already satisfied: threadpoolctl>=2.0.0 in /home/ec2-user/anaconda3/envs/python3/lib/python3.10/site-packages (from imbalanced-learn) (3.5.0)\n",
      "Downloading imbalanced_learn-0.12.3-py3-none-any.whl (258 kB)\n",
      "\u001b[2K   \u001b[90m━━━━━━━━━━━━━━━━━━━━━━━━━━━━━━━━━━━━━━━━\u001b[0m \u001b[32m258.3/258.3 kB\u001b[0m \u001b[31m10.8 MB/s\u001b[0m eta \u001b[36m0:00:00\u001b[0m\n",
      "\u001b[?25hInstalling collected packages: imbalanced-learn\n",
      "Successfully installed imbalanced-learn-0.12.3\n",
      "Note: you may need to restart the kernel to use updated packages.\n"
     ]
    }
   ],
   "source": [
    "pip install -U imbalanced-learn"
   ]
  },
  {
   "cell_type": "code",
   "execution_count": 66,
   "id": "95dc86fe-4038-46eb-833e-b0c44592b5ae",
   "metadata": {
    "tags": []
   },
   "outputs": [],
   "source": [
    "from sklearn.model_selection import train_test_split\n",
    "from catboost import CatBoostClassifier\n",
    "from sklearn.metrics import accuracy_score, precision_score, recall_score, f1_score, roc_auc_score\n",
    "from sklearn.preprocessing import StandardScaler, OneHotEncoder\n",
    "from imblearn.over_sampling import SMOTE"
   ]
  },
  {
   "cell_type": "markdown",
   "id": "c1bef378-4850-4023-9d9e-205677b1a362",
   "metadata": {},
   "source": [
    "## Data Load"
   ]
  },
  {
   "cell_type": "code",
   "execution_count": 18,
   "id": "958f36d5-9b36-4929-a47b-045a3ae9cd3b",
   "metadata": {
    "tags": []
   },
   "outputs": [],
   "source": [
    "# Load the dataset\n",
    "data = pd.read_csv('data_claim_d2.csv')"
   ]
  },
  {
   "cell_type": "markdown",
   "id": "5b95d849-a517-4bfb-988f-a3b331b552f1",
   "metadata": {
    "tags": []
   },
   "source": [
    "## Data Description"
   ]
  },
  {
   "cell_type": "code",
   "execution_count": 20,
   "id": "13fd32b2-6c92-4600-a9c9-92440a14a1b1",
   "metadata": {
    "tags": []
   },
   "outputs": [
    {
     "data": {
      "text/plain": [
       "Index(['Age', 'Gender', 'Marital_Status', 'Occupation', 'Driving_Experience',\n",
       "       'Location', 'Education', 'Vehicle_Type', 'Vehicle_Age', 'Vehicle_Value',\n",
       "       'Engine_Size', 'Vehicle_Modifications', 'Num_Previous_Claims',\n",
       "       'Claim_Severity', 'Traffic_Violations', 'Accidents', 'Policy_Type',\n",
       "       'Coverage_Limits', 'Deductible', 'Policy_Duration', 'Driving_Habits',\n",
       "       'Vehicle_Usage', 'Parking_Location', 'Insurance_History',\n",
       "       'Claim_Propensity', 'Driving_Experience_Bin'],\n",
       "      dtype='object')"
      ]
     },
     "execution_count": 20,
     "metadata": {},
     "output_type": "execute_result"
    }
   ],
   "source": [
    "data.columns"
   ]
  },
  {
   "cell_type": "code",
   "execution_count": 21,
   "id": "1f55c4b9-9027-4fce-ab74-4fab1dd0c382",
   "metadata": {
    "tags": []
   },
   "outputs": [
    {
     "name": "stdout",
     "output_type": "stream",
     "text": [
      "<class 'pandas.core.frame.DataFrame'>\n",
      "RangeIndex: 1000 entries, 0 to 999\n",
      "Data columns (total 26 columns):\n",
      " #   Column                  Non-Null Count  Dtype \n",
      "---  ------                  --------------  ----- \n",
      " 0   Age                     1000 non-null   int64 \n",
      " 1   Gender                  1000 non-null   object\n",
      " 2   Marital_Status          1000 non-null   object\n",
      " 3   Occupation              1000 non-null   object\n",
      " 4   Driving_Experience      1000 non-null   int64 \n",
      " 5   Location                1000 non-null   object\n",
      " 6   Education               1000 non-null   object\n",
      " 7   Vehicle_Type            1000 non-null   object\n",
      " 8   Vehicle_Age             1000 non-null   int64 \n",
      " 9   Vehicle_Value           1000 non-null   int64 \n",
      " 10  Engine_Size             1000 non-null   int64 \n",
      " 11  Vehicle_Modifications   745 non-null    object\n",
      " 12  Num_Previous_Claims     1000 non-null   int64 \n",
      " 13  Claim_Severity          1000 non-null   int64 \n",
      " 14  Traffic_Violations      1000 non-null   int64 \n",
      " 15  Accidents               1000 non-null   int64 \n",
      " 16  Policy_Type             1000 non-null   object\n",
      " 17  Coverage_Limits         1000 non-null   int64 \n",
      " 18  Deductible              1000 non-null   int64 \n",
      " 19  Policy_Duration         1000 non-null   int64 \n",
      " 20  Driving_Habits          1000 non-null   object\n",
      " 21  Vehicle_Usage           1000 non-null   object\n",
      " 22  Parking_Location        1000 non-null   object\n",
      " 23  Insurance_History       1000 non-null   object\n",
      " 24  Claim_Propensity        1000 non-null   int64 \n",
      " 25  Driving_Experience_Bin  545 non-null    object\n",
      "dtypes: int64(13), object(13)\n",
      "memory usage: 203.2+ KB\n",
      "None\n"
     ]
    }
   ],
   "source": [
    "print(data.info())"
   ]
  },
  {
   "cell_type": "code",
   "execution_count": 31,
   "id": "e8538c3a-0c88-487c-8992-244d78efb54a",
   "metadata": {
    "tags": []
   },
   "outputs": [
    {
     "data": {
      "image/png": "[encoded data removed]",
      "text/plain": [
       "<Figure size 1200x300 with 1 Axes>"
      ]
     },
     "metadata": {},
     "output_type": "display_data"
    }
   ],
   "source": [
    "import pandas as pd\n",
    "import matplotlib.pyplot as plt\n",
    "\n",
    "# Calculate missing value percentages\n",
    "missing_percentages = (data.isnull().sum() / len(data)) * 100\n",
    "\n",
    "plt.figure(figsize=(12, 3))\n",
    "plt.bar(missing_percentages.index, missing_percentages.values)\n",
    "plt.xlabel('Column Name')\n",
    "plt.ylabel('Missing Values (%)')\n",
    "plt.title('Missing Value Percentages')\n",
    "plt.xticks(rotation=90)\n",
    "\n",
    "for i, (index, value) in enumerate(missing_percentages.items()):\n",
    "    plt.text(i, value, f'{value:.1f}%', ha='center', va='bottom')\n",
    "\n",
    "plt.show()"
   ]
  },
  {
   "cell_type": "markdown",
   "id": "dc9a0be6-7387-4e5e-a1d2-71b30aebc269",
   "metadata": {},
   "source": [
    "## EDA"
   ]
  },
  {
   "cell_type": "code",
   "execution_count": 39,
   "id": "70b53cf4-8849-4709-a703-c89dd9767443",
   "metadata": {
    "tags": []
   },
   "outputs": [
    {
     "name": "stderr",
     "output_type": "stream",
     "text": [
      "/tmp/ipykernel_28941/3610636637.py:9: FutureWarning: \n",
      "\n",
      "Passing `palette` without assigning `hue` is deprecated and will be removed in v0.14.0. Assign the `x` variable to `hue` and set `legend=False` for the same effect.\n",
      "\n",
      "  sns.countplot(x='Claim_Propensity', data=data, palette=\"Set2\")\n"
     ]
    },
    {
     "data": {
      "image/png": "[encoded data removed]",
      "text/plain": [
       "<Figure size 400x300 with 1 Axes>"
      ]
     },
     "metadata": {},
     "output_type": "display_data"
    }
   ],
   "source": [
    "\n",
    "import matplotlib.pyplot as plt\n",
    "import seaborn as sns\n",
    "\n",
    "\n",
    "sns.set_style(\"whitegrid\")\n",
    "\n",
    "plt.figure(figsize=(4, 3))  # Set the figure size\n",
    "sns.countplot(x='Claim_Propensity', data=data, palette=\"Set2\")\n",
    "plt.title(\"Distribution of Claim\")\n",
    "plt.xlabel(\"Claim\")\n",
    "plt.ylabel(\"Count\")\n",
    "plt.show()"
   ]
  },
  {
   "cell_type": "code",
   "execution_count": 25,
   "id": "6607089c-53f1-4470-a844-f650cbfcfa75",
   "metadata": {
    "tags": []
   },
   "outputs": [
    {
     "data": {
      "image/png": "[encoded data removed]",
      "text/plain": [
       "<Figure size 500x300 with 1 Axes>"
      ]
     },
     "metadata": {},
     "output_type": "display_data"
    }
   ],
   "source": [
    "import matplotlib.pyplot as plt\n",
    "import seaborn as sns\n",
    "\n",
    "claim_data = data[data['Claim_Propensity'] == 1]\n",
    "\n",
    "# Group data by 'Location' and count the number of claims in each location\n",
    "location_counts = data['Location'].value_counts()\n",
    "\n",
    "# Create a bar graph\n",
    "plt.figure(figsize=(5, 3))\n",
    "sns.countplot(x='Location', data=claim_data)\n",
    "plt.title('Distribution of Location for Claims (Claim_Propensity = 1)')\n",
    "plt.xlabel('Location')\n",
    "plt.ylabel('Number of Claims')\n",
    "plt.xticks(rotation=90)  # Rotate x-axis labels for better readability\n",
    "plt.show()\n"
   ]
  },
  {
   "cell_type": "code",
   "execution_count": 3,
   "id": "ba0aea6e-a4ec-4e57-8908-89c447b5f6d9",
   "metadata": {
    "tags": []
   },
   "outputs": [
    {
     "name": "stderr",
     "output_type": "stream",
     "text": [
      "/tmp/ipykernel_28941/1723411783.py:8: FutureWarning: The default of observed=False is deprecated and will be changed to True in a future version of pandas. Pass observed=False to retain current behavior or observed=True to adopt the future default and silence this warning.\n",
      "  bin_counts = data.groupby(['Driving_Experience_Bin', 'Claim_Propensity']).size().unstack(fill_value=0)\n"
     ]
    },
    {
     "data": {
      "image/png": "[encoded data removed]",
      "text/plain": [
       "<Figure size 500x300 with 1 Axes>"
      ]
     },
     "metadata": {},
     "output_type": "display_data"
    },
    {
     "name": "stdout",
     "output_type": "stream",
     "text": [
      "Inference:\n",
      "The bar graph shows the distribution of Claim_Propensity (0 or 1) within different bins of Driving_Experience.  We can observe if there's a correlation between driving experience and claim propensity. For example, if we see a higher proportion of '1' (claim propensity) in lower experience bins, it could suggest that newer drivers tend to have more claims.\n"
     ]
    }
   ],
   "source": [
    "\n",
    "# Create bins for Driving_Experience\n",
    "bins = [0, 5, 10, 15, 20, 25]\n",
    "data['Driving_Experience_Bin'] = pd.cut(data['Driving_Experience'], bins=bins)\n",
    "\n",
    "# Group by Driving_Experience_Bin and Claim_Propensity, then count the occurrences\n",
    "bin_counts = data.groupby(['Driving_Experience_Bin', 'Claim_Propensity']).size().unstack(fill_value=0)\n",
    "\n",
    "# Plot the distribution\n",
    "bin_counts.plot(kind='bar', figsize=(5, 3))\n",
    "plt.title('Distribution of Claim in Driving Experience Bins')\n",
    "plt.xlabel('Driving Experience Bins')\n",
    "plt.ylabel('Count')\n",
    "plt.xticks(rotation=45)\n",
    "plt.legend(title='Claim ')\n",
    "plt.show()\n",
    "\n",
    "print(\"Inference:\")\n",
    "print(\"The bar graph shows the distribution of Claim_Propensity (0 or 1) within different bins of Driving_Experience.  We can observe if there's a correlation between driving experience and claim propensity. For example, if we see a higher proportion of '1' (claim propensity) in lower experience bins, it could suggest that newer drivers tend to have more claims.\")\n"
   ]
  },
  {
   "cell_type": "code",
   "execution_count": 50,
   "id": "0d2a13e9-0155-4013-85c1-82c472c87b59",
   "metadata": {
    "tags": []
   },
   "outputs": [
    {
     "data": {
      "image/png": "[encoded data removed]",
      "text/plain": [
       "<Figure size 400x300 with 1 Axes>"
      ]
     },
     "metadata": {},
     "output_type": "display_data"
    }
   ],
   "source": [
    "\n",
    "# Set the style for the plot\n",
    "sns.set_style(\"whitegrid\")\n",
    "\n",
    "# Create a countplot\n",
    "plt.figure(figsize=(4, 3))  # Set the figure size\n",
    "sns.countplot(x='Gender', hue='Claim_Propensity', data=data, palette=\"Set2\")\n",
    "plt.title(\"Claim by Gender\")\n",
    "plt.xlabel(\"Gender\")\n",
    "plt.ylabel(\"Count\")\n",
    "\n",
    "# Calculate percentages\n",
    "total = len(data)\n",
    "no_claim_male = data[(data['Claim_Propensity'] == 0) & (data['Gender'] == 'Male')].shape[0]\n",
    "claim_male = data[(data['Claim_Propensity'] == 1) & (data['Gender'] == 'Male')].shape[0]\n",
    "no_claim_female = data[(data['Claim_Propensity'] == 0) & (data['Gender'] == 'Female')].shape[0]\n",
    "claim_female = data[(data['Claim_Propensity'] == 1) & (data['Gender'] == 'Female')].shape[0]\n",
    "\n",
    "no_claim_male_percent = (no_claim_male / total) * 100\n",
    "claim_male_percent = (claim_male / total) * 100\n",
    "no_claim_female_percent = (no_claim_female / total) * 100\n",
    "claim_female_percent = (claim_female / total) * 100\n",
    "\n",
    "# Add percentage annotations\n",
    "plt.text(0, no_claim_male, f'{no_claim_male_percent:.1f}%', ha='center', va='bottom')\n",
    "plt.text(1, claim_male, f'{claim_male_percent:.1f}%', ha='center', va='bottom')\n",
    "plt.text(0, no_claim_female, f'{no_claim_female_percent:.1f}%', ha='center', va='bottom')\n",
    "plt.text(1, claim_female, f'{claim_female_percent:.1f}%', ha='center', va='bottom')\n",
    "\n",
    "plt.show()\n"
   ]
  },
  {
   "cell_type": "code",
   "execution_count": 51,
   "id": "5df8a165-779b-4a24-bb2d-2b8c7952f406",
   "metadata": {
    "tags": []
   },
   "outputs": [
    {
     "name": "stderr",
     "output_type": "stream",
     "text": [
      "/tmp/ipykernel_28941/1074438897.py:8: FutureWarning: The default of observed=False is deprecated and will be changed to True in a future version of pandas. Pass observed=False to retain current behavior or observed=True to adopt the future default and silence this warning.\n",
      "  age_bin_counts = data.groupby(['Age_Bin', 'Claim_Propensity']).size().unstack(fill_value=0)\n"
     ]
    },
    {
     "data": {
      "image/png": "[encoded data removed]",
      "text/plain": [
       "<Figure size 500x300 with 1 Axes>"
      ]
     },
     "metadata": {},
     "output_type": "display_data"
    }
   ],
   "source": [
    "\n",
    "# Create age bins\n",
    "bins = [18, 30, 40, 50, 60, 70]\n",
    "data['Age_Bin'] = pd.cut(data['Age'], bins=bins)\n",
    "\n",
    "# Group by Age_Bin and Claim_Propensity, then count the occurrences\n",
    "age_bin_counts = data.groupby(['Age_Bin', 'Claim_Propensity']).size().unstack(fill_value=0)\n",
    "\n",
    "# Calculate percentages\n",
    "total_count = age_bin_counts.sum(axis=1)\n",
    "age_bin_percentages = age_bin_counts.div(total_count, axis=0) * 100\n",
    "\n",
    "# Plot the distribution\n",
    "age_bin_percentages.plot(kind='bar', figsize=(5, 3))\n",
    "plt.title('Claim Propensity by Age Bin')\n",
    "plt.xlabel('Age Bin')\n",
    "plt.ylabel('Percentage')\n",
    "plt.xticks(rotation=45)\n",
    "plt.legend(title='Claim')\n",
    "plt.show()\n"
   ]
  },
  {
   "cell_type": "code",
   "execution_count": 47,
   "id": "410424b1-eaeb-4cde-a141-32336be9ed67",
   "metadata": {
    "tags": []
   },
   "outputs": [
    {
     "data": {
      "image/png": "[encoded data removed]",
      "text/plain": [
       "<Figure size 500x300 with 1 Axes>"
      ]
     },
     "metadata": {},
     "output_type": "display_data"
    }
   ],
   "source": [
    "import matplotlib.pyplot as plt\n",
    "import seaborn as sns\n",
    "\n",
    "# Filter data for claims = 1\n",
    "claim_data = data[data['Claim_Propensity'] == 1]\n",
    "\n",
    "# Group data by 'Location' and count the number of claims in each location\n",
    "location_counts = data['Num_Previous_Claims'].value_counts()\n",
    "\n",
    "# Create a bar graph\n",
    "plt.figure(figsize=(5, 3))\n",
    "sns.countplot(x='Num_Previous_Claims', data=claim_data)\n",
    "plt.title('Distribution of Previous Claims (Claim = 1)')\n",
    "plt.xlabel('Previous Claims')\n",
    "plt.ylabel('Number of Claims')\n",
    "plt.xticks(rotation=90)  # Rotate x-axis labels for better readability\n",
    "plt.show()\n"
   ]
  },
  {
   "cell_type": "markdown",
   "id": "2bc27bbf-6ed7-4bd0-b005-6a02f671b2b0",
   "metadata": {},
   "source": [
    "## Model Without Sagemaker usage "
   ]
  },
  {
   "cell_type": "code",
   "execution_count": 55,
   "id": "8f38aced-675b-4418-99e0-8f3b7cbba98b",
   "metadata": {
    "tags": []
   },
   "outputs": [],
   "source": [
    "# Add a claim_id column for tracking\n",
    "data['claim_id'] = data.index\n",
    "\n",
    "# Select features and target variable\n",
    "features = ['Age', 'Gender', 'Marital_Status', 'Occupation', 'Driving_Experience', 'Location', \n",
    "            'Education', 'Vehicle_Type', 'Vehicle_Age', 'Vehicle_Value', 'Engine_Size', \n",
    "            'Vehicle_Modifications', 'Num_Previous_Claims', 'Claim_Severity', 'Traffic_Violations', \n",
    "            'Accidents', 'Policy_Type', 'Coverage_Limits', 'Deductible', 'Policy_Duration', \n",
    "            'Driving_Habits', 'Vehicle_Usage', 'Parking_Location', 'Insurance_History']\n",
    "target = 'Claim_Propensity'\n",
    "\n",
    "X = data[features].copy()\n",
    "y = data[target]\n",
    "\n",
    "# Add claim_id to the features DataFrame\n",
    "X['claim_id'] = data['claim_id']"
   ]
  },
  {
   "cell_type": "code",
   "execution_count": 62,
   "id": "f63d3092-8cfe-41db-9251-3d178ef1b2f4",
   "metadata": {
    "tags": []
   },
   "outputs": [],
   "source": [
    "#Missing value Imputation\n",
    "data['Vehicle_Modifications'] = data['Vehicle_Modifications'].fillna('Not Modified')"
   ]
  },
  {
   "cell_type": "code",
   "execution_count": 63,
   "id": "f733a43b-4d81-4f96-8a09-1f02adf5e999",
   "metadata": {
    "tags": []
   },
   "outputs": [],
   "source": [
    "\n",
    "X = data[features].copy()\n",
    "y = data[target]\n",
    "\n",
    "# Add claim_id to the features DataFrame\n",
    "X['claim_id'] = data['claim_id']"
   ]
  },
  {
   "cell_type": "code",
   "execution_count": 67,
   "id": "a667c804-2284-4718-a933-b92fb622c3ab",
   "metadata": {
    "tags": []
   },
   "outputs": [],
   "source": [
    "\n",
    "# Convert categorical features to strings\n",
    "cat_features = ['Gender', 'Marital_Status', 'Occupation', 'Location', 'Education', \n",
    "                'Vehicle_Type', 'Vehicle_Modifications', 'Policy_Type', 'Driving_Habits', \n",
    "                'Vehicle_Usage', 'Parking_Location', 'Insurance_History']\n",
    "X[cat_features] = X[cat_features].astype(str)\n",
    "\n",
    "# Separate numerical and categorical features\n",
    "num_features = [col for col in features if col not in cat_features]\n",
    "\n",
    "# Scale numerical features\n",
    "scaler = StandardScaler()\n",
    "X[num_features] = scaler.fit_transform(X[num_features])\n",
    "\n",
    "# Apply one-hot encoding to categorical features\n",
    "encoder = OneHotEncoder(handle_unknown='ignore', sparse_output=False)  # Ensure output is dense\n",
    "encoded_features = encoder.fit_transform(X[cat_features])\n",
    "\n",
    "# Keep the claim_id for later mapping\n",
    "X_features_with_id = X.copy()\n",
    "\n",
    "# Remove claim_id for model training\n",
    "X_features = X.drop(columns=['claim_id'])\n",
    "\n",
    "# Concatenate numerical and encoded categorical features\n",
    "X_encoded = np.concatenate((X_features[num_features].values, encoded_features), axis=1)\n",
    "\n",
    "# Apply SMOTE to handle class imbalance\n",
    "smote = SMOTE(random_state=42)\n",
    "X_resampled, y_resampled = smote.fit_resample(X_encoded, y)\n",
    "\n",
    "# Split the data into training and testing sets\n",
    "X_train, X_test, y_train, y_test = train_test_split(X_resampled, y_resampled, test_size=0.2, random_state=42)\n"
   ]
  },
  {
   "cell_type": "code",
   "execution_count": 72,
   "id": "e2bc3ae3-9de2-4406-89f4-5d2b12e54a55",
   "metadata": {
    "tags": []
   },
   "outputs": [],
   "source": [
    "\n",
    "# Initialize the CatBoost classifier\n",
    "model = CatBoostClassifier(iterations=200, depth=8, learning_rate=0.05, loss_function='Logloss', \n",
    "                           eval_metric='AUC', random_seed=42, l2_leaf_reg=3, border_count=32)\n",
    "\n",
    "# Train the model\n",
    "model.fit(X_train, y_train, eval_set=(X_test, y_test), verbose=False)\n",
    "\n",
    "# Make predictions on the test set\n",
    "y_pred = model.predict(X_test)\n",
    "y_pred_proba = model.predict_proba(X_test)[:, 1]\n",
    "\n",
    "# Create a DataFrame with the original features and predictions\n",
    "X_test_encoded_df = pd.DataFrame(X_test, columns=np.concatenate([num_features, encoder.get_feature_names_out(cat_features)]))\n",
    "\n",
    "# Reverse the one-hot encoding\n",
    "X_test_original_cat = encoder.inverse_transform(X_test_encoded_df[encoder.get_feature_names_out(cat_features)])\n",
    "X_test_encoded_df[cat_features] = X_test_original_cat\n",
    "\n",
    "# Retrieve claim_id for the test set by aligning with the indices from the original DataFrame\n",
    "X_test_indices = np.where(np.isin(X_encoded, X_test, assume_unique=True))[0]\n",
    "X_test_claim_ids = X_features_with_id.iloc[X_test_indices]['claim_id'].reset_index(drop=True)\n",
    "\n",
    "# Add predictions and claim_id to the DataFrame\n",
    "##X_test_encoded_df['claim_id'] = X_test_claim_ids\n",
    "X_test_encoded_df['y_pred'] = y_pred\n",
    "X_test_encoded_df['y_pred_proba'] = y_pred_proba\n"
   ]
  },
  {
   "cell_type": "code",
   "execution_count": 73,
   "id": "e3d58716-d727-4605-a6bf-75d3a4945528",
   "metadata": {
    "tags": []
   },
   "outputs": [
    {
     "name": "stdout",
     "output_type": "stream",
     "text": [
      "        Age  Driving_Experience  Vehicle_Age  Vehicle_Value  Engine_Size  \\\n",
      "0 -0.489196           -1.414252    -0.638959      -0.499194     0.742386   \n",
      "1 -1.704316           -1.282829    -1.156474       0.290484    -1.380740   \n",
      "2  0.284062           -0.954269    -0.293949       1.010502     0.742386   \n",
      "3  0.897340           -1.328904    -0.551693      -0.912260    -0.884512   \n",
      "4 -1.151989           -0.100014     0.913587      -1.395539     0.034678   \n",
      "\n",
      "   Num_Previous_Claims  Claim_Severity  Traffic_Violations  Accidents  \\\n",
      "0             0.027561        1.501539           -0.140180  -1.212738   \n",
      "1             0.716577       -0.346764            0.188110   0.022229   \n",
      "2            -1.350472       -0.743100           -1.125048  -1.212738   \n",
      "3            -0.214000        1.430040            0.836193   0.824232   \n",
      "4            -0.661456        0.662218           -0.304324   0.022229   \n",
      "\n",
      "   Coverage_Limits  ...    Education  Vehicle_Type  Vehicle_Modifications  \\\n",
      "0        -1.080421  ...  High School         Sedan            Performance   \n",
      "1         0.099400  ...     Bachelor    Sports Car           Not Modified   \n",
      "2        -1.080421  ...     Bachelor           SUV           Not Modified   \n",
      "3         1.574177  ...  High School         Sedan            Performance   \n",
      "4        -0.637988  ...  High School         Sedan             Appearance   \n",
      "\n",
      "     Policy_Type  Driving_Habits  Vehicle_Usage  Parking_Location  \\\n",
      "0    Third Party            Both   Occasionally            Street   \n",
      "1  Comprehensive            Both    Weekend Car            Street   \n",
      "2    Third Party            Both    Weekend Car          Driveway   \n",
      "3    Third Party       Commuting   Occasionally            Garage   \n",
      "4    Third Party    Recreational   Occasionally            Garage   \n",
      "\n",
      "   Insurance_History  y_pred  y_pred_proba  \n",
      "0       New Customer       1      0.807937  \n",
      "1       New Customer       1      0.900701  \n",
      "2       New Customer       0      0.011772  \n",
      "3       New Customer       1      0.997830  \n",
      "4  Existing Customer       0      0.036425  \n",
      "\n",
      "[5 rows x 64 columns]\n"
     ]
    }
   ],
   "source": [
    "\n",
    "# Display the output DataFrame\n",
    "print(X_test_encoded_df.head())"
   ]
  },
  {
   "cell_type": "code",
   "execution_count": 70,
   "id": "e59c5f8d-d2fa-4bf8-bfe8-9a93438be1ee",
   "metadata": {
    "tags": []
   },
   "outputs": [
    {
     "name": "stdout",
     "output_type": "stream",
     "text": [
      "Accuracy: 0.9076923076923077\n",
      "Precision: 0.8903225806451613\n",
      "Recall: 0.9139072847682119\n",
      "F1-score: 0.9019607843137255\n",
      "AUC: 0.9770876151328309\n"
     ]
    }
   ],
   "source": [
    "\n",
    "# Evaluate the model\n",
    "accuracy = accuracy_score(y_test, y_pred)\n",
    "precision = precision_score(y_test, y_pred)\n",
    "recall = recall_score(y_test, y_pred)\n",
    "f1 = f1_score(y_test, y_pred)\n",
    "auc = roc_auc_score(y_test, y_pred_proba)\n",
    "\n",
    "print(\"Accuracy:\", accuracy)\n",
    "print(\"Precision:\", precision)\n",
    "print(\"Recall:\", recall)\n",
    "print(\"F1-score:\", f1)\n",
    "print(\"AUC:\", auc)\n"
   ]
  },
  {
   "cell_type": "code",
   "execution_count": 71,
   "id": "cc5ac587-30d7-4d5e-a697-5efb403f2c07",
   "metadata": {
    "tags": []
   },
   "outputs": [
    {
     "data": {
      "image/png": "[encoded data removed]",
      "text/plain": [
       "<Figure size 400x300 with 1 Axes>"
      ]
     },
     "metadata": {},
     "output_type": "display_data"
    }
   ],
   "source": [
    "import matplotlib.pyplot as plt\n",
    "import seaborn as sns\n",
    "from sklearn.metrics import confusion_matrix\n",
    "\n",
    "# Generate the confusion matrix\n",
    "conf_matrix = confusion_matrix(y_test, y_pred)\n",
    "\n",
    "# Plot the confusion matrix\n",
    "plt.figure(figsize=(4, 3))\n",
    "sns.heatmap(conf_matrix, annot=True, fmt=\"d\", cmap=\"Blues\", cbar=False,\n",
    "            xticklabels=['Predicted Negative', 'Predicted Positive'],\n",
    "            yticklabels=['Actual Negative', 'Actual Positive'])\n",
    "plt.title(\"Confusion Matrix\")\n",
    "plt.ylabel('Actual Class')\n",
    "plt.xlabel('Predicted Class')\n",
    "\n",
    "# Display the plot\n",
    "plt.show()"
   ]
  },
  {
   "cell_type": "markdown",
   "id": "16245316-e55a-4e95-b3fa-d37d317d35de",
   "metadata": {
    "tags": []
   },
   "source": [
    "## Model Build using Sagemaker "
   ]
  },
  {
   "cell_type": "code",
   "execution_count": 1,
   "id": "d04d092f-ff67-4504-90ed-2f0921aac7ac",
   "metadata": {
    "tags": []
   },
   "outputs": [
    {
     "name": "stderr",
     "output_type": "stream",
     "text": [
      "/home/ec2-user/anaconda3/envs/python3/lib/python3.10/site-packages/sklearn/utils/_param_validation.py:11: UserWarning: A NumPy version >=1.23.5 and <2.3.0 is required for this version of SciPy (detected version 1.22.4)\n",
      "  from scipy.sparse import csr_matrix, issparse\n"
     ]
    },
    {
     "name": "stdout",
     "output_type": "stream",
     "text": [
      "Scale_Pos_Weight: 4.298013245033113\n"
     ]
    },
    {
     "name": "stderr",
     "output_type": "stream",
     "text": [
      "/tmp/ipykernel_8741/3248145857.py:26: SettingWithCopyWarning: \n",
      "A value is trying to be set on a copy of a slice from a DataFrame.\n",
      "Try using .loc[row_indexer,col_indexer] = value instead\n",
      "\n",
      "See the caveats in the documentation: https://pandas.pydata.org/pandas-docs/stable/user_guide/indexing.html#returning-a-view-versus-a-copy\n",
      "  X[col] = le.fit_transform(X[col])\n",
      "/tmp/ipykernel_8741/3248145857.py:26: SettingWithCopyWarning: \n",
      "A value is trying to be set on a copy of a slice from a DataFrame.\n",
      "Try using .loc[row_indexer,col_indexer] = value instead\n",
      "\n",
      "See the caveats in the documentation: https://pandas.pydata.org/pandas-docs/stable/user_guide/indexing.html#returning-a-view-versus-a-copy\n",
      "  X[col] = le.fit_transform(X[col])\n",
      "/tmp/ipykernel_8741/3248145857.py:26: SettingWithCopyWarning: \n",
      "A value is trying to be set on a copy of a slice from a DataFrame.\n",
      "Try using .loc[row_indexer,col_indexer] = value instead\n",
      "\n",
      "See the caveats in the documentation: https://pandas.pydata.org/pandas-docs/stable/user_guide/indexing.html#returning-a-view-versus-a-copy\n",
      "  X[col] = le.fit_transform(X[col])\n",
      "/tmp/ipykernel_8741/3248145857.py:26: SettingWithCopyWarning: \n",
      "A value is trying to be set on a copy of a slice from a DataFrame.\n",
      "Try using .loc[row_indexer,col_indexer] = value instead\n",
      "\n",
      "See the caveats in the documentation: https://pandas.pydata.org/pandas-docs/stable/user_guide/indexing.html#returning-a-view-versus-a-copy\n",
      "  X[col] = le.fit_transform(X[col])\n",
      "/tmp/ipykernel_8741/3248145857.py:26: SettingWithCopyWarning: \n",
      "A value is trying to be set on a copy of a slice from a DataFrame.\n",
      "Try using .loc[row_indexer,col_indexer] = value instead\n",
      "\n",
      "See the caveats in the documentation: https://pandas.pydata.org/pandas-docs/stable/user_guide/indexing.html#returning-a-view-versus-a-copy\n",
      "  X[col] = le.fit_transform(X[col])\n",
      "/tmp/ipykernel_8741/3248145857.py:26: SettingWithCopyWarning: \n",
      "A value is trying to be set on a copy of a slice from a DataFrame.\n",
      "Try using .loc[row_indexer,col_indexer] = value instead\n",
      "\n",
      "See the caveats in the documentation: https://pandas.pydata.org/pandas-docs/stable/user_guide/indexing.html#returning-a-view-versus-a-copy\n",
      "  X[col] = le.fit_transform(X[col])\n",
      "/tmp/ipykernel_8741/3248145857.py:26: SettingWithCopyWarning: \n",
      "A value is trying to be set on a copy of a slice from a DataFrame.\n",
      "Try using .loc[row_indexer,col_indexer] = value instead\n",
      "\n",
      "See the caveats in the documentation: https://pandas.pydata.org/pandas-docs/stable/user_guide/indexing.html#returning-a-view-versus-a-copy\n",
      "  X[col] = le.fit_transform(X[col])\n",
      "/tmp/ipykernel_8741/3248145857.py:26: SettingWithCopyWarning: \n",
      "A value is trying to be set on a copy of a slice from a DataFrame.\n",
      "Try using .loc[row_indexer,col_indexer] = value instead\n",
      "\n",
      "See the caveats in the documentation: https://pandas.pydata.org/pandas-docs/stable/user_guide/indexing.html#returning-a-view-versus-a-copy\n",
      "  X[col] = le.fit_transform(X[col])\n",
      "/tmp/ipykernel_8741/3248145857.py:26: SettingWithCopyWarning: \n",
      "A value is trying to be set on a copy of a slice from a DataFrame.\n",
      "Try using .loc[row_indexer,col_indexer] = value instead\n",
      "\n",
      "See the caveats in the documentation: https://pandas.pydata.org/pandas-docs/stable/user_guide/indexing.html#returning-a-view-versus-a-copy\n",
      "  X[col] = le.fit_transform(X[col])\n",
      "/tmp/ipykernel_8741/3248145857.py:26: SettingWithCopyWarning: \n",
      "A value is trying to be set on a copy of a slice from a DataFrame.\n",
      "Try using .loc[row_indexer,col_indexer] = value instead\n",
      "\n",
      "See the caveats in the documentation: https://pandas.pydata.org/pandas-docs/stable/user_guide/indexing.html#returning-a-view-versus-a-copy\n",
      "  X[col] = le.fit_transform(X[col])\n",
      "/tmp/ipykernel_8741/3248145857.py:26: SettingWithCopyWarning: \n",
      "A value is trying to be set on a copy of a slice from a DataFrame.\n",
      "Try using .loc[row_indexer,col_indexer] = value instead\n",
      "\n",
      "See the caveats in the documentation: https://pandas.pydata.org/pandas-docs/stable/user_guide/indexing.html#returning-a-view-versus-a-copy\n",
      "  X[col] = le.fit_transform(X[col])\n",
      "/tmp/ipykernel_8741/3248145857.py:26: SettingWithCopyWarning: \n",
      "A value is trying to be set on a copy of a slice from a DataFrame.\n",
      "Try using .loc[row_indexer,col_indexer] = value instead\n",
      "\n",
      "See the caveats in the documentation: https://pandas.pydata.org/pandas-docs/stable/user_guide/indexing.html#returning-a-view-versus-a-copy\n",
      "  X[col] = le.fit_transform(X[col])\n",
      "/tmp/ipykernel_8741/3248145857.py:31: SettingWithCopyWarning: \n",
      "A value is trying to be set on a copy of a slice from a DataFrame.\n",
      "Try using .loc[row_indexer,col_indexer] = value instead\n",
      "\n",
      "See the caveats in the documentation: https://pandas.pydata.org/pandas-docs/stable/user_guide/indexing.html#returning-a-view-versus-a-copy\n",
      "  X[X.select_dtypes(include=['int64', 'float64']).columns] = scaler.fit_transform(X.select_dtypes(include=['int64', 'float64']))\n"
     ]
    }
   ],
   "source": [
    "import pandas as pd\n",
    "from sklearn.model_selection import train_test_split\n",
    "from sklearn.preprocessing import StandardScaler, LabelEncoder\n",
    "from sklearn.utils.class_weight import compute_class_weight\n",
    "import numpy as np\n",
    "\n",
    "# Load the dataset\n",
    "data = pd.read_csv('data_claim_d2.csv')\n",
    "\n",
    "# Feature and target columns\n",
    "features = ['Age', 'Gender', 'Marital_Status', 'Occupation', 'Driving_Experience', 'Location', \n",
    "            'Education', 'Vehicle_Type', 'Vehicle_Age', 'Vehicle_Value', 'Engine_Size', \n",
    "            'Vehicle_Modifications', 'Num_Previous_Claims', 'Claim_Severity', 'Traffic_Violations', \n",
    "            'Accidents', 'Policy_Type', 'Coverage_Limits', 'Deductible', 'Policy_Duration', \n",
    "            'Driving_Habits', 'Vehicle_Usage', 'Parking_Location', 'Insurance_History']\n",
    "target = 'Claim_Propensity'\n",
    "\n",
    "# Splitting features and target\n",
    "X = data[features]\n",
    "y = data[target]\n",
    "\n",
    "# Encode categorical features\n",
    "label_encoders = {}\n",
    "for col in X.select_dtypes(include=['object', 'category']).columns:\n",
    "    le = LabelEncoder()\n",
    "    X[col] = le.fit_transform(X[col])\n",
    "    label_encoders[col] = le  # Store encoders for potential inverse_transform or future use\n",
    "\n",
    "# Standardizing numerical features\n",
    "scaler = StandardScaler()\n",
    "X[X.select_dtypes(include=['int64', 'float64']).columns] = scaler.fit_transform(X.select_dtypes(include=['int64', 'float64']))\n",
    "\n",
    "# Splitting the data into train and test sets\n",
    "X_train, X_test, y_train, y_test = train_test_split(X, y, test_size=0.2, random_state=42, stratify=y)\n",
    "\n",
    "# Handling class imbalance: Compute scale_pos_weight for training data\n",
    "class_weights = compute_class_weight('balanced', classes=np.unique(y_train), y=y_train)\n",
    "scale_pos_weight = class_weights[1] / class_weights[0]  # If Claim_Propensity=1 is the minority class\n",
    "\n",
    "# Print scale_pos_weight for reference\n",
    "print(f'Scale_Pos_Weight: {scale_pos_weight}')\n",
    "\n",
    "# Now X_train, X_test, y_train, and y_test are ready for modeling.\n"
   ]
  },
  {
   "cell_type": "code",
   "execution_count": 26,
   "id": "30847fb0-e4e8-4c9f-bc49-b4d6155fed29",
   "metadata": {
    "tags": []
   },
   "outputs": [
    {
     "data": {
      "text/plain": [
       "(800, 24)"
      ]
     },
     "execution_count": 26,
     "metadata": {},
     "output_type": "execute_result"
    }
   ],
   "source": [
    "X_train.shape"
   ]
  },
  {
   "cell_type": "code",
   "execution_count": 2,
   "id": "8fa3c62d-6347-4f74-987b-7ec31e193e12",
   "metadata": {
    "tags": []
   },
   "outputs": [
    {
     "name": "stdout",
     "output_type": "stream",
     "text": [
      "float32\n",
      "Age                      float32\n",
      "Gender                   float32\n",
      "Marital_Status           float32\n",
      "Occupation               float32\n",
      "Driving_Experience       float32\n",
      "Location                 float32\n",
      "Education                float32\n",
      "Vehicle_Type             float32\n",
      "Vehicle_Age              float32\n",
      "Vehicle_Value            float32\n",
      "Engine_Size              float32\n",
      "Vehicle_Modifications    float32\n",
      "Num_Previous_Claims      float32\n",
      "Claim_Severity           float32\n",
      "Traffic_Violations       float32\n",
      "Accidents                float32\n",
      "Policy_Type              float32\n",
      "Coverage_Limits          float32\n",
      "Deductible               float32\n",
      "Policy_Duration          float32\n",
      "Driving_Habits           float32\n",
      "Vehicle_Usage            float32\n",
      "Parking_Location         float32\n",
      "Insurance_History        float32\n",
      "dtype: object\n"
     ]
    }
   ],
   "source": [
    "X_train = X_train.astype('float32')\n",
    "\n",
    "y_train = y_train.astype('float32')\n",
    "\n",
    "# Verify the change\n",
    "print(y_train.dtypes)\n",
    "\n",
    "# Verify the change\n",
    "print(X_train.dtypes)"
   ]
  },
  {
   "cell_type": "code",
   "execution_count": 3,
   "id": "641b6bcd-a558-4f1e-b91d-e7a4105b6e92",
   "metadata": {
    "tags": []
   },
   "outputs": [
    {
     "data": {
      "text/plain": [
       "pandas.core.frame.DataFrame"
      ]
     },
     "execution_count": 3,
     "metadata": {},
     "output_type": "execute_result"
    }
   ],
   "source": [
    "type(X_train)"
   ]
  },
  {
   "cell_type": "code",
   "execution_count": 4,
   "id": "8c1fdeb2-9b5a-45cf-8ff1-219bbcd48a7f",
   "metadata": {
    "tags": []
   },
   "outputs": [
    {
     "data": {
      "text/plain": [
       "(800,)"
      ]
     },
     "execution_count": 4,
     "metadata": {},
     "output_type": "execute_result"
    }
   ],
   "source": [
    "y_train.shape"
   ]
  },
  {
   "cell_type": "code",
   "execution_count": 5,
   "id": "8f641717-a5d1-4033-835c-8f30b1171723",
   "metadata": {
    "tags": []
   },
   "outputs": [
    {
     "name": "stdout",
     "output_type": "stream",
     "text": [
      "sagemaker.config INFO - Not applying SDK defaults from location: /etc/xdg/sagemaker/config.yaml\n",
      "sagemaker.config INFO - Not applying SDK defaults from location: /home/ec2-user/.config/sagemaker/config.yaml\n"
     ]
    },
    {
     "data": {
      "text/plain": [
       "0"
      ]
     },
     "execution_count": 5,
     "metadata": {},
     "output_type": "execute_result"
    }
   ],
   "source": [
    "import io # The io module allows for dealing with various types of I/O (text I/O, binary I/O and raw I/O). \n",
    "import numpy as np\n",
    "import sagemaker.amazon.common as smac # sagemaker common libary\n",
    "\n",
    "# Code below converts the data in numpy array format to RecordIO format\n",
    "# This is the format required by Sagemaker Linear Learner \n",
    "\n",
    "\n",
    "# Convert pandas DataFrames to NumPy arrays\n",
    "X_train_np = X_train.to_numpy()\n",
    "y_train_np = y_train.to_numpy()\n",
    "\n",
    "# Create an in-memory byte array (buf is a buffer to write to)\n",
    "buf = io.BytesIO()\n",
    "\n",
    "# Write the NumPy arrays to the dense tensor format\n",
    "smac.write_numpy_to_dense_tensor(buf, X_train_np, y_train_np)\n",
    "\n",
    "# Reset the buffer's position back to zero\n",
    "buf.seek(0)"
   ]
  },
  {
   "cell_type": "code",
   "execution_count": 8,
   "id": "19c5922d-bc63-4fb0-819a-27dacdc2e6e2",
   "metadata": {
    "tags": []
   },
   "outputs": [
    {
     "name": "stdout",
     "output_type": "stream",
     "text": [
      "uploaded training data location: s3://claim-prop-prod/data/train/claim_prop_prod_v1\n"
     ]
    }
   ],
   "source": [
    "import os\n",
    "import boto3\n",
    "# Code to upload RecordIO data to S3\n",
    " \n",
    "# Key refers to the name of the file    \n",
    "key = 'claim_prop_prod_v1'\n",
    "bucket = 'claim-prop-prod'\n",
    "prefix = 'data'\n",
    "# The following code uploads the data in record-io format to S3 bucket to be accessed later for training\n",
    "boto3.resource('s3').Bucket(bucket).Object(os.path.join(prefix, 'train', key)).upload_fileobj(buf)\n",
    "\n",
    "# Let's print out the training data location in s3\n",
    "s3_train_data = 's3://{}/{}/train/{}'.format(bucket, prefix, key)\n",
    "print('uploaded training data location: {}'.format(s3_train_data))"
   ]
  },
  {
   "cell_type": "code",
   "execution_count": 9,
   "id": "1c274127-e081-4470-90b8-843b2b6fb050",
   "metadata": {
    "tags": []
   },
   "outputs": [
    {
     "data": {
      "text/plain": [
       "(200, 24)"
      ]
     },
     "execution_count": 9,
     "metadata": {},
     "output_type": "execute_result"
    }
   ],
   "source": [
    "X_test.shape"
   ]
  },
  {
   "cell_type": "code",
   "execution_count": 10,
   "id": "6ec28400-835c-4d94-b422-1045304adb21",
   "metadata": {
    "tags": []
   },
   "outputs": [
    {
     "data": {
      "text/plain": [
       "(200,)"
      ]
     },
     "execution_count": 10,
     "metadata": {},
     "output_type": "execute_result"
    }
   ],
   "source": [
    "y_test.shape"
   ]
  },
  {
   "cell_type": "code",
   "execution_count": 55,
   "id": "b99a61a3-6387-45f2-ba49-c0fb4584b60d",
   "metadata": {
    "tags": []
   },
   "outputs": [],
   "source": [
    "# ##dont run \n",
    "# #consolidated\n",
    "# import io\n",
    "# import sagemaker.amazon.common as smac\n",
    "\n",
    "# # Convert pandas DataFrames to NumPy arrays\n",
    "# X_test_np = X_test.to_numpy()\n",
    "# y_test_np = y_test.to_numpy()\n",
    "\n",
    "# # Create an in-memory byte array (buf is a buffer to write to)\n",
    "# buf = io.BytesIO()\n",
    "\n",
    "# # Write the NumPy arrays to the dense tensor format\n",
    "# smac.write_numpy_to_dense_tensor(buf, X_test_np, y_test_np)\n",
    "\n",
    "# # Reset the buffer's position back to zero\n",
    "# buf.seek(0)\n",
    "\n",
    "# # Now you can upload this buffer to S3 using Sagemaker or Boto3 as per your requirement\n",
    "\n",
    "# # Key refers to the name of the file    \n",
    "# key = 'claim_prop_prod_v1'\n",
    "\n",
    "# # The following code uploads the data in record-io format to S3 bucket to be accessed later for training\n",
    "# boto3.resource('s3').Bucket(bucket).Object(os.path.join(prefix, 'test', key)).upload_fileobj(buf)\n",
    "\n",
    "# # Let's print out the testing data location in s3\n",
    "# s3_test_data = 's3://{}/{}/test/{}'.format(bucket, prefix, key)\n",
    "# print('uploaded training data location: {}'.format(s3_test_data))\n",
    "\n",
    "\n",
    "# # create an output placeholder in S3 bucket to store the linear learner output\n",
    "\n",
    "# output_location = 's3://{}/{}/output'.format(bucket, prefix)\n",
    "# print('Training artifacts will be uploaded to: {}'.format(output_location))\n",
    "\n",
    "# import boto3\n",
    "# import sagemaker\n",
    "# from sagemaker.amazon.amazon_estimator import get_image_uri\n",
    "\n",
    "# # Get the linear learner container for classification\n",
    "# container = get_image_uri(boto3.Session().region_name, 'linear-learner')\n",
    "\n",
    "\n",
    "# # Define the estimator for classification\n",
    "# linear_classifier = sagemaker.estimator.Estimator(container,\n",
    "#                                                   role, \n",
    "#                                                   train_instance_count=1, \n",
    "#                                                   train_instance_type='ml.m5.large',  # Changed to a different instance type\n",
    "#                                                   output_path=output_location,\n",
    "#                                                   sagemaker_session=sagemaker_session)\n",
    "\n",
    "# # Set hyperparameters for classification\n",
    "# linear_classifier.set_hyperparameters(feature_dim=24,\n",
    "#                                       predictor_type='binary_classifier',  # Changed to binary_classifier for classification\n",
    "#                                       mini_batch_size=5,\n",
    "#                                       epochs=5,\n",
    "#                                       num_models=32,\n",
    "#                                       loss='logistic')  # Using logistic loss for binary classification\n",
    "# # Pass in the training data from S3 to train the classification model\n",
    "# linear_classifier.fit({'train': s3_train_data})\n",
    "\n",
    "\n",
    "\n",
    "# # Sample test input (replace 'X_test_sample' with actual sample data for testing)\n",
    "# X_test_sample = X_test_np[0:10]  # You can select a portion of your test data to make a prediction\n",
    "\n",
    "# # Convert the NumPy array sample to CSV format and make predictions\n",
    "# predictions = linear_classifier_predictor.predict(X_test_sample)\n",
    "\n",
    "# # Print out the prediction\n",
    "# print(\"Predictions: \", predictions)\n",
    "\n",
    "# # Cleanup: Delete the endpoint when you're done\n",
    "# # linear_classifier_predictor.delete_endpoint()\n",
    "\n"
   ]
  },
  {
   "cell_type": "code",
   "execution_count": null,
   "id": "f699c2fa-67c0-45c4-ae2b-63e86144b7ee",
   "metadata": {},
   "outputs": [],
   "source": [
    "############"
   ]
  },
  {
   "cell_type": "code",
   "execution_count": 11,
   "id": "c457c07e-356b-4697-b322-37a81229878e",
   "metadata": {
    "tags": []
   },
   "outputs": [
    {
     "data": {
      "text/plain": [
       "0"
      ]
     },
     "execution_count": 11,
     "metadata": {},
     "output_type": "execute_result"
    }
   ],
   "source": [
    "import io\n",
    "import sagemaker.amazon.common as smac\n",
    "\n",
    "# Convert pandas DataFrames to NumPy arrays\n",
    "X_test_np = X_test.to_numpy()\n",
    "y_test_np = y_test.to_numpy()\n",
    "\n",
    "# Create an in-memory byte array (buf is a buffer to write to)\n",
    "buf = io.BytesIO()\n",
    "\n",
    "# Write the NumPy arrays to the dense tensor format\n",
    "smac.write_numpy_to_dense_tensor(buf, X_test_np, y_test_np)\n",
    "\n",
    "# Reset the buffer's position back to zero\n",
    "buf.seek(0)\n",
    "\n",
    "# Now you can upload this buffer to S3 using Sagemaker or Boto3 as per your requirement\n"
   ]
  },
  {
   "cell_type": "code",
   "execution_count": 12,
   "id": "f26aab36-5d45-4747-abe0-ef581040d5af",
   "metadata": {
    "tags": []
   },
   "outputs": [
    {
     "name": "stdout",
     "output_type": "stream",
     "text": [
      "uploaded training data location: s3://claim-prop-prod/data/test/claim_prop_prod_v1\n"
     ]
    }
   ],
   "source": [
    "# Key refers to the name of the file    \n",
    "key = 'claim_prop_prod_v1'\n",
    "\n",
    "# The following code uploads the data in record-io format to S3 bucket to be accessed later for training\n",
    "boto3.resource('s3').Bucket(bucket).Object(os.path.join(prefix, 'test', key)).upload_fileobj(buf)\n",
    "\n",
    "# Let's print out the testing data location in s3\n",
    "s3_test_data = 's3://{}/{}/test/{}'.format(bucket, prefix, key)\n",
    "print('uploaded training data location: {}'.format(s3_test_data))"
   ]
  },
  {
   "cell_type": "code",
   "execution_count": 13,
   "id": "610adb73-536b-4318-8586-5a6e7899785d",
   "metadata": {
    "tags": []
   },
   "outputs": [
    {
     "name": "stdout",
     "output_type": "stream",
     "text": [
      "Training artifacts will be uploaded to: s3://claim-prop-prod/model/output\n"
     ]
    }
   ],
   "source": [
    "# create an output placeholder in S3 bucket to store the linear learner output\n",
    "\n",
    "output_location = 's3://{}/{}/output'.format(bucket, 'model')\n",
    "print('Training artifacts will be uploaded to: {}'.format(output_location))"
   ]
  },
  {
   "cell_type": "code",
   "execution_count": 14,
   "id": "6037af10-6053-4781-8c81-ca8f0897975d",
   "metadata": {
    "tags": []
   },
   "outputs": [
    {
     "name": "stderr",
     "output_type": "stream",
     "text": [
      "The method get_image_uri has been renamed in sagemaker>=2.\n",
      "See: https://sagemaker.readthedocs.io/en/stable/v2.html for details.\n"
     ]
    }
   ],
   "source": [
    "import boto3\n",
    "import sagemaker\n",
    "from sagemaker.amazon.amazon_estimator import get_image_uri\n",
    "\n",
    "# Get the linear learner container for classification\n",
    "container = get_image_uri(boto3.Session().region_name, 'linear-learner')"
   ]
  },
  {
   "cell_type": "code",
   "execution_count": 15,
   "id": "71e90c49-7187-4bfc-a4fa-714c1df5a119",
   "metadata": {
    "tags": []
   },
   "outputs": [
    {
     "data": {
      "text/plain": [
       "'669576153137.dkr.ecr.eu-north-1.amazonaws.com/linear-learner:1'"
      ]
     },
     "execution_count": 15,
     "metadata": {},
     "output_type": "execute_result"
    }
   ],
   "source": [
    "container"
   ]
  },
  {
   "cell_type": "code",
   "execution_count": 19,
   "id": "77a5d135",
   "metadata": {},
   "outputs": [],
   "source": [
    "role = sagemaker.get_execution_role()\n",
    "sagemaker_session = sagemaker.Session()"
   ]
  },
  {
   "cell_type": "code",
   "execution_count": 20,
   "id": "e8e6810c-9517-443b-aa30-136de1ce1e89",
   "metadata": {
    "tags": []
   },
   "outputs": [
    {
     "name": "stderr",
     "output_type": "stream",
     "text": [
      "train_instance_count has been renamed in sagemaker>=2.\n",
      "See: https://sagemaker.readthedocs.io/en/stable/v2.html for details.\n",
      "train_instance_type has been renamed in sagemaker>=2.\n",
      "See: https://sagemaker.readthedocs.io/en/stable/v2.html for details.\n"
     ]
    }
   ],
   "source": [
    "\n",
    "# Define the estimator for classification\n",
    "linear_classifier = sagemaker.estimator.Estimator(container,\n",
    "                                                  role, \n",
    "                                                  train_instance_count=1, \n",
    "                                                  train_instance_type='ml.m5.large',  # Changed to a different instance type\n",
    "                                                  output_path=output_location,\n",
    "                                                  sagemaker_session=sagemaker_session)\n",
    "\n",
    "# Set hyperparameters for classification\n",
    "linear_classifier.set_hyperparameters(feature_dim=24,\n",
    "                                      predictor_type='binary_classifier',  # Changed to binary_classifier for classification\n",
    "                                      mini_batch_size=5,\n",
    "                                      epochs=5,\n",
    "                                      num_models=32,\n",
    "                                      loss='logistic')  # Using logistic loss for binary classification\n"
   ]
  },
  {
   "cell_type": "code",
   "execution_count": 21,
   "id": "e42e04b9-d864-43f1-a68a-b8d55103894c",
   "metadata": {
    "tags": []
   },
   "outputs": [
    {
     "name": "stderr",
     "output_type": "stream",
     "text": [
      "INFO:sagemaker:Creating training-job with name: linear-learner-2024-09-19-10-54-01-966\n"
     ]
    },
    {
     "name": "stdout",
     "output_type": "stream",
     "text": [
      "2024-09-19 10:54:02 Starting - Starting the training job...\n",
      "2024-09-19 10:54:25 Starting - Preparing the instances for training...\n",
      "2024-09-19 10:54:48 Downloading - Downloading input data...\n",
      "2024-09-19 10:55:23 Downloading - Downloading the training image.........\n",
      "2024-09-19 10:56:50 Training - Training image download completed. Training in progress.\u001b[34mDocker entrypoint called with argument(s): train\u001b[0m\n",
      "\u001b[34mRunning default environment configuration script\u001b[0m\n",
      "\u001b[34m[09/19/2024 10:56:54 INFO 139704748508992] Reading default configuration from /opt/amazon/lib/python3.8/site-packages/algorithm/resources/default-input.json: {'mini_batch_size': '1000', 'epochs': '15', 'feature_dim': 'auto', 'use_bias': 'true', 'binary_classifier_model_selection_criteria': 'accuracy', 'f_beta': '1.0', 'target_recall': '0.8', 'target_precision': '0.8', 'num_models': 'auto', 'num_calibration_samples': '10000000', 'init_method': 'uniform', 'init_scale': '0.07', 'init_sigma': '0.01', 'init_bias': '0.0', 'optimizer': 'auto', 'loss': 'auto', 'margin': '1.0', 'quantile': '0.5', 'loss_insensitivity': '0.01', 'huber_delta': '1.0', 'num_classes': '1', 'accuracy_top_k': '3', 'wd': 'auto', 'l1': 'auto', 'momentum': 'auto', 'learning_rate': 'auto', 'beta_1': 'auto', 'beta_2': 'auto', 'bias_lr_mult': 'auto', 'bias_wd_mult': 'auto', 'use_lr_scheduler': 'true', 'lr_scheduler_step': 'auto', 'lr_scheduler_factor': 'auto', 'lr_scheduler_minimum_lr': 'auto', 'positive_example_weight_mult': '1.0', 'balance_multiclass_weights': 'false', 'normalize_data': 'true', 'normalize_label': 'auto', 'unbias_data': 'auto', 'unbias_label': 'auto', 'num_point_for_scaler': '10000', '_kvstore': 'auto', '_num_gpus': 'auto', '_num_kv_servers': 'auto', '_log_level': 'info', '_tuning_objective_metric': '', 'early_stopping_patience': '3', 'early_stopping_tolerance': '0.001', '_enable_profiler': 'false'}\u001b[0m\n",
      "\u001b[34m[09/19/2024 10:56:54 INFO 139704748508992] Merging with provided configuration from /opt/ml/input/config/hyperparameters.json: {'epochs': '5', 'feature_dim': '24', 'loss': 'logistic', 'mini_batch_size': '5', 'num_models': '32', 'predictor_type': 'binary_classifier'}\u001b[0m\n",
      "\u001b[34m[09/19/2024 10:56:54 INFO 139704748508992] Final configuration: {'mini_batch_size': '5', 'epochs': '5', 'feature_dim': '24', 'use_bias': 'true', 'binary_classifier_model_selection_criteria': 'accuracy', 'f_beta': '1.0', 'target_recall': '0.8', 'target_precision': '0.8', 'num_models': '32', 'num_calibration_samples': '10000000', 'init_method': 'uniform', 'init_scale': '0.07', 'init_sigma': '0.01', 'init_bias': '0.0', 'optimizer': 'auto', 'loss': 'logistic', 'margin': '1.0', 'quantile': '0.5', 'loss_insensitivity': '0.01', 'huber_delta': '1.0', 'num_classes': '1', 'accuracy_top_k': '3', 'wd': 'auto', 'l1': 'auto', 'momentum': 'auto', 'learning_rate': 'auto', 'beta_1': 'auto', 'beta_2': 'auto', 'bias_lr_mult': 'auto', 'bias_wd_mult': 'auto', 'use_lr_scheduler': 'true', 'lr_scheduler_step': 'auto', 'lr_scheduler_factor': 'auto', 'lr_scheduler_minimum_lr': 'auto', 'positive_example_weight_mult': '1.0', 'balance_multiclass_weights': 'false', 'normalize_data': 'true', 'normalize_label': 'auto', 'unbias_data': 'auto', 'unbias_label': 'auto', 'num_point_for_scaler': '10000', '_kvstore': 'auto', '_num_gpus': 'auto', '_num_kv_servers': 'auto', '_log_level': 'info', '_tuning_objective_metric': '', 'early_stopping_patience': '3', 'early_stopping_tolerance': '0.001', '_enable_profiler': 'false', 'predictor_type': 'binary_classifier'}\u001b[0m\n",
      "\u001b[34m/opt/amazon/lib/python3.8/site-packages/mxnet/model.py:97: SyntaxWarning: \"is\" with a literal. Did you mean \"==\"?\n",
      "  if num_device is 1 and 'dist' not in kvstore:\u001b[0m\n",
      "\u001b[34m/opt/amazon/lib/python3.8/site-packages/scipy/optimize/_shgo.py:495: SyntaxWarning: \"is\" with a literal. Did you mean \"==\"?\n",
      "  if cons['type'] is 'ineq':\u001b[0m\n",
      "\u001b[34m/opt/amazon/lib/python3.8/site-packages/scipy/optimize/_shgo.py:743: SyntaxWarning: \"is not\" with a literal. Did you mean \"!=\"?\n",
      "  if len(self.X_min) is not 0:\u001b[0m\n",
      "\u001b[34m[09/19/2024 10:56:56 WARNING 139704748508992] Loggers have already been setup.\u001b[0m\n",
      "\u001b[34m[09/19/2024 10:56:56 INFO 139704748508992] Final configuration: {'mini_batch_size': '5', 'epochs': '5', 'feature_dim': '24', 'use_bias': 'true', 'binary_classifier_model_selection_criteria': 'accuracy', 'f_beta': '1.0', 'target_recall': '0.8', 'target_precision': '0.8', 'num_models': '32', 'num_calibration_samples': '10000000', 'init_method': 'uniform', 'init_scale': '0.07', 'init_sigma': '0.01', 'init_bias': '0.0', 'optimizer': 'auto', 'loss': 'logistic', 'margin': '1.0', 'quantile': '0.5', 'loss_insensitivity': '0.01', 'huber_delta': '1.0', 'num_classes': '1', 'accuracy_top_k': '3', 'wd': 'auto', 'l1': 'auto', 'momentum': 'auto', 'learning_rate': 'auto', 'beta_1': 'auto', 'beta_2': 'auto', 'bias_lr_mult': 'auto', 'bias_wd_mult': 'auto', 'use_lr_scheduler': 'true', 'lr_scheduler_step': 'auto', 'lr_scheduler_factor': 'auto', 'lr_scheduler_minimum_lr': 'auto', 'positive_example_weight_mult': '1.0', 'balance_multiclass_weights': 'false', 'normalize_data': 'true', 'normalize_label': 'auto', 'unbias_data': 'auto', 'unbias_label': 'auto', 'num_point_for_scaler': '10000', '_kvstore': 'auto', '_num_gpus': 'auto', '_num_kv_servers': 'auto', '_log_level': 'info', '_tuning_objective_metric': '', 'early_stopping_patience': '3', 'early_stopping_tolerance': '0.001', '_enable_profiler': 'false', 'predictor_type': 'binary_classifier'}\u001b[0m\n",
      "\u001b[34m[09/19/2024 10:56:56 WARNING 139704748508992] Loggers have already been setup.\u001b[0m\n",
      "\u001b[34mProcess 6 is a worker.\u001b[0m\n",
      "\u001b[34m[09/19/2024 10:56:56 INFO 139704748508992] Using default worker.\u001b[0m\n",
      "\u001b[34m[09/19/2024 10:56:57 INFO 139704748508992] Checkpoint loading and saving are disabled.\u001b[0m\n",
      "\u001b[34m[2024-09-19 10:56:57.023] [tensorio] [info] epoch_stats={\"data_pipeline\": \"/opt/ml/input/data/train\", \"epoch\": 0, \"duration\": 11, \"num_examples\": 1, \"num_bytes\": 700}\u001b[0m\n",
      "\u001b[34m[09/19/2024 10:56:57 INFO 139704748508992] Create Store: local\u001b[0m\n",
      "\u001b[34m[2024-09-19 10:56:57.432] [tensorio] [info] epoch_stats={\"data_pipeline\": \"/opt/ml/input/data/train\", \"epoch\": 1, \"duration\": 408, \"num_examples\": 160, \"num_bytes\": 112000}\u001b[0m\n",
      "\u001b[34m[09/19/2024 10:56:57 INFO 139704748508992] Scaler algorithm parameters\n",
      " <algorithm.scaler.ScalerAlgorithmStable object at 0x7f0f05243610>\u001b[0m\n",
      "\u001b[34m[09/19/2024 10:56:57 INFO 139704748508992] Scaling model computed with parameters:\n",
      " {'stdev_label': None, 'stdev_weight': \u001b[0m\n",
      "\u001b[34m[0.99828774 1.0006806  1.0033026  0.99703187 1.0062855  1.0019857\n",
      " 1.0028398  0.98724073 0.9972889  1.005597   0.9991672  0.9768952\n",
      " 0.9990586  1.001965   0.9898991  0.9986782  0.9958073  0.9979546\n",
      " 1.0061705  0.9977559  1.0046108  0.99797815 0.998519   0.99977845]\u001b[0m\n",
      "\u001b[34m<NDArray 24 @cpu(0)>, 'mean_label': None, 'mean_weight': \u001b[0m\n",
      "\u001b[34m[-0.01005236 -0.01851958 -0.00991914  0.01983895 -0.01171316  0.00271658\n",
      "  0.02562942  0.00288287 -0.01233411 -0.0074483  -0.01132333  0.01050115\n",
      "  0.00258379 -0.01883281  0.01226983 -0.01790704  0.03212086 -0.00199094\n",
      " -0.00467377  0.00661168  0.01644971 -0.00277258 -0.02516428  0.00700275]\u001b[0m\n",
      "\u001b[34m<NDArray 24 @cpu(0)>}\u001b[0m\n",
      "\u001b[34m/opt/amazon/python3.8/lib/python3.8/subprocess.py:848: RuntimeWarning: line buffering (buffering=1) isn't supported in binary mode, the default buffer size will be used\n",
      "  self.stdout = io.open(c2pread, 'rb', bufsize)\u001b[0m\n",
      "\u001b[34m[09/19/2024 10:56:57 INFO 139704748508992] nvidia-smi: took 0.032 seconds to run.\u001b[0m\n",
      "\u001b[34m[09/19/2024 10:56:57 INFO 139704748508992] nvidia-smi identified 0 GPUs.\u001b[0m\n",
      "\u001b[34m[09/19/2024 10:56:57 INFO 139704748508992] Number of GPUs being used: 0\u001b[0m\n",
      "\u001b[34m#metrics {\"StartTime\": 1726743417.5294385, \"EndTime\": 1726743417.5294907, \"Dimensions\": {\"Algorithm\": \"Linear Learner\", \"Host\": \"algo-1\", \"Operation\": \"training\", \"Meta\": \"init_train_data_iter\"}, \"Metrics\": {\"Total Records Seen\": {\"sum\": 805.0, \"count\": 1, \"min\": 805, \"max\": 805}, \"Total Batches Seen\": {\"sum\": 161.0, \"count\": 1, \"min\": 161, \"max\": 161}, \"Max Records Seen Between Resets\": {\"sum\": 800.0, \"count\": 1, \"min\": 800, \"max\": 800}, \"Max Batches Seen Between Resets\": {\"sum\": 160.0, \"count\": 1, \"min\": 160, \"max\": 160}, \"Reset Count\": {\"sum\": 2.0, \"count\": 1, \"min\": 2, \"max\": 2}, \"Number of Records Since Last Reset\": {\"sum\": 0.0, \"count\": 1, \"min\": 0, \"max\": 0}, \"Number of Batches Since Last Reset\": {\"sum\": 0.0, \"count\": 1, \"min\": 0, \"max\": 0}}}\u001b[0m\n",
      "\u001b[34m[2024-09-19 10:57:01.165] [tensorio] [info] epoch_stats={\"data_pipeline\": \"/opt/ml/input/data/train\", \"epoch\": 4, \"duration\": 3635, \"num_examples\": 160, \"num_bytes\": 112000}\u001b[0m\n",
      "\u001b[34m#metrics {\"StartTime\": 1726743421.1651244, \"EndTime\": 1726743421.1652303, \"Dimensions\": {\"Algorithm\": \"Linear Learner\", \"Host\": \"algo-1\", \"Operation\": \"training\", \"epoch\": 0, \"model\": 0}, \"Metrics\": {\"train_binary_classification_cross_entropy_objective\": {\"sum\": 0.4617383296042681, \"count\": 1, \"min\": 0.4617383296042681, \"max\": 0.4617383296042681}}}\u001b[0m\n",
      "\u001b[34m#metrics {\"StartTime\": 1726743421.1654177, \"EndTime\": 1726743421.1654396, \"Dimensions\": {\"Algorithm\": \"Linear Learner\", \"Host\": \"algo-1\", \"Operation\": \"training\", \"epoch\": 0, \"model\": 1}, \"Metrics\": {\"train_binary_classification_cross_entropy_objective\": {\"sum\": 0.46498924523591995, \"count\": 1, \"min\": 0.46498924523591995, \"max\": 0.46498924523591995}}}\u001b[0m\n",
      "\u001b[34m#metrics {\"StartTime\": 1726743421.1654897, \"EndTime\": 1726743421.1655006, \"Dimensions\": {\"Algorithm\": \"Linear Learner\", \"Host\": \"algo-1\", \"Operation\": \"training\", \"epoch\": 0, \"model\": 2}, \"Metrics\": {\"train_binary_classification_cross_entropy_objective\": {\"sum\": 0.4589109981805086, \"count\": 1, \"min\": 0.4589109981805086, \"max\": 0.4589109981805086}}}\u001b[0m\n",
      "\u001b[34m#metrics {\"StartTime\": 1726743421.1656587, \"EndTime\": 1726743421.165674, \"Dimensions\": {\"Algorithm\": \"Linear Learner\", \"Host\": \"algo-1\", \"Operation\": \"training\", \"epoch\": 0, \"model\": 3}, \"Metrics\": {\"train_binary_classification_cross_entropy_objective\": {\"sum\": 0.46944388598203657, \"count\": 1, \"min\": 0.46944388598203657, \"max\": 0.46944388598203657}}}\u001b[0m\n",
      "\u001b[34m#metrics {\"StartTime\": 1726743421.165749, \"EndTime\": 1726743421.165762, \"Dimensions\": {\"Algorithm\": \"Linear Learner\", \"Host\": \"algo-1\", \"Operation\": \"training\", \"epoch\": 0, \"model\": 4}, \"Metrics\": {\"train_binary_classification_cross_entropy_objective\": {\"sum\": 0.5541180914931465, \"count\": 1, \"min\": 0.5541180914931465, \"max\": 0.5541180914931465}}}\u001b[0m\n",
      "\u001b[34m#metrics {\"StartTime\": 1726743421.1657982, \"EndTime\": 1726743421.1658072, \"Dimensions\": {\"Algorithm\": \"Linear Learner\", \"Host\": \"algo-1\", \"Operation\": \"training\", \"epoch\": 0, \"model\": 5}, \"Metrics\": {\"train_binary_classification_cross_entropy_objective\": {\"sum\": 0.5683559312042781, \"count\": 1, \"min\": 0.5683559312042781, \"max\": 0.5683559312042781}}}\u001b[0m\n",
      "\u001b[34m#metrics {\"StartTime\": 1726743421.1659174, \"EndTime\": 1726743421.1659307, \"Dimensions\": {\"Algorithm\": \"Linear Learner\", \"Host\": \"algo-1\", \"Operation\": \"training\", \"epoch\": 0, \"model\": 6}, \"Metrics\": {\"train_binary_classification_cross_entropy_objective\": {\"sum\": 0.5550143819086952, \"count\": 1, \"min\": 0.5550143819086952, \"max\": 0.5550143819086952}}}\u001b[0m\n",
      "\u001b[34m#metrics {\"StartTime\": 1726743421.1660213, \"EndTime\": 1726743421.1660361, \"Dimensions\": {\"Algorithm\": \"Linear Learner\", \"Host\": \"algo-1\", \"Operation\": \"training\", \"epoch\": 0, \"model\": 7}, \"Metrics\": {\"train_binary_classification_cross_entropy_objective\": {\"sum\": 0.5670850401418284, \"count\": 1, \"min\": 0.5670850401418284, \"max\": 0.5670850401418284}}}\u001b[0m\n",
      "\u001b[34m#metrics {\"StartTime\": 1726743421.166111, \"EndTime\": 1726743421.1661239, \"Dimensions\": {\"Algorithm\": \"Linear Learner\", \"Host\": \"algo-1\", \"Operation\": \"training\", \"epoch\": 0, \"model\": 8}, \"Metrics\": {\"train_binary_classification_cross_entropy_objective\": {\"sum\": 0.46633356481790544, \"count\": 1, \"min\": 0.46633356481790544, \"max\": 0.46633356481790544}}}\u001b[0m\n",
      "\u001b[34m#metrics {\"StartTime\": 1726743421.1661968, \"EndTime\": 1726743421.1662092, \"Dimensions\": {\"Algorithm\": \"Linear Learner\", \"Host\": \"algo-1\", \"Operation\": \"training\", \"epoch\": 0, \"model\": 9}, \"Metrics\": {\"train_binary_classification_cross_entropy_objective\": {\"sum\": 0.4608471719175577, \"count\": 1, \"min\": 0.4608471719175577, \"max\": 0.4608471719175577}}}\u001b[0m\n",
      "\u001b[34m#metrics {\"StartTime\": 1726743421.1662457, \"EndTime\": 1726743421.1662543, \"Dimensions\": {\"Algorithm\": \"Linear Learner\", \"Host\": \"algo-1\", \"Operation\": \"training\", \"epoch\": 0, \"model\": 10}, \"Metrics\": {\"train_binary_classification_cross_entropy_objective\": {\"sum\": 0.4550017272680998, \"count\": 1, \"min\": 0.4550017272680998, \"max\": 0.4550017272680998}}}\u001b[0m\n",
      "\u001b[34m#metrics {\"StartTime\": 1726743421.1663299, \"EndTime\": 1726743421.16634, \"Dimensions\": {\"Algorithm\": \"Linear Learner\", \"Host\": \"algo-1\", \"Operation\": \"training\", \"epoch\": 0, \"model\": 11}, \"Metrics\": {\"train_binary_classification_cross_entropy_objective\": {\"sum\": 0.456381233856082, \"count\": 1, \"min\": 0.456381233856082, \"max\": 0.456381233856082}}}\u001b[0m\n",
      "\u001b[34m#metrics {\"StartTime\": 1726743421.1664119, \"EndTime\": 1726743421.1664228, \"Dimensions\": {\"Algorithm\": \"Linear Learner\", \"Host\": \"algo-1\", \"Operation\": \"training\", \"epoch\": 0, \"model\": 12}, \"Metrics\": {\"train_binary_classification_cross_entropy_objective\": {\"sum\": 0.5394254823622759, \"count\": 1, \"min\": 0.5394254823622759, \"max\": 0.5394254823622759}}}\u001b[0m\n",
      "\u001b[34m#metrics {\"StartTime\": 1726743421.1664934, \"EndTime\": 1726743421.1665041, \"Dimensions\": {\"Algorithm\": \"Linear Learner\", \"Host\": \"algo-1\", \"Operation\": \"training\", \"epoch\": 0, \"model\": 13}, \"Metrics\": {\"train_binary_classification_cross_entropy_objective\": {\"sum\": 0.5510402581293602, \"count\": 1, \"min\": 0.5510402581293602, \"max\": 0.5510402581293602}}}\u001b[0m\n",
      "\u001b[34m#metrics {\"StartTime\": 1726743421.166577, \"EndTime\": 1726743421.1665895, \"Dimensions\": {\"Algorithm\": \"Linear Learner\", \"Host\": \"algo-1\", \"Operation\": \"training\", \"epoch\": 0, \"model\": 14}, \"Metrics\": {\"train_binary_classification_cross_entropy_objective\": {\"sum\": 0.5394078373687807, \"count\": 1, \"min\": 0.5394078373687807, \"max\": 0.5394078373687807}}}\u001b[0m\n",
      "\u001b[34m#metrics {\"StartTime\": 1726743421.1666675, \"EndTime\": 1726743421.1666806, \"Dimensions\": {\"Algorithm\": \"Linear Learner\", \"Host\": \"algo-1\", \"Operation\": \"training\", \"epoch\": 0, \"model\": 15}, \"Metrics\": {\"train_binary_classification_cross_entropy_objective\": {\"sum\": 0.54849834189401, \"count\": 1, \"min\": 0.54849834189401, \"max\": 0.54849834189401}}}\u001b[0m\n",
      "\u001b[34m#metrics {\"StartTime\": 1726743421.1667557, \"EndTime\": 1726743421.1667678, \"Dimensions\": {\"Algorithm\": \"Linear Learner\", \"Host\": \"algo-1\", \"Operation\": \"training\", \"epoch\": 0, \"model\": 16}, \"Metrics\": {\"train_binary_classification_cross_entropy_objective\": {\"sum\": 0.47943901173770426, \"count\": 1, \"min\": 0.47943901173770426, \"max\": 0.47943901173770426}}}\u001b[0m\n",
      "\u001b[34m#metrics {\"StartTime\": 1726743421.1668034, \"EndTime\": 1726743421.1668468, \"Dimensions\": {\"Algorithm\": \"Linear Learner\", \"Host\": \"algo-1\", \"Operation\": \"training\", \"epoch\": 0, \"model\": 17}, \"Metrics\": {\"train_binary_classification_cross_entropy_objective\": {\"sum\": 0.48050739854574204, \"count\": 1, \"min\": 0.48050739854574204, \"max\": 0.48050739854574204}}}\u001b[0m\n",
      "\u001b[34m#metrics {\"StartTime\": 1726743421.166885, \"EndTime\": 1726743421.1668947, \"Dimensions\": {\"Algorithm\": \"Linear Learner\", \"Host\": \"algo-1\", \"Operation\": \"training\", \"epoch\": 0, \"model\": 18}, \"Metrics\": {\"train_binary_classification_cross_entropy_objective\": {\"sum\": 0.4805853509902954, \"count\": 1, \"min\": 0.4805853509902954, \"max\": 0.4805853509902954}}}\u001b[0m\n",
      "\u001b[34m#metrics {\"StartTime\": 1726743421.1669753, \"EndTime\": 1726743421.1670263, \"Dimensions\": {\"Algorithm\": \"Linear Learner\", \"Host\": \"algo-1\", \"Operation\": \"training\", \"epoch\": 0, \"model\": 19}, \"Metrics\": {\"train_binary_classification_cross_entropy_objective\": {\"sum\": 0.4848671992868185, \"count\": 1, \"min\": 0.4848671992868185, \"max\": 0.4848671992868185}}}\u001b[0m\n",
      "\u001b[34m#metrics {\"StartTime\": 1726743421.1670656, \"EndTime\": 1726743421.1671343, \"Dimensions\": {\"Algorithm\": \"Linear Learner\", \"Host\": \"algo-1\", \"Operation\": \"training\", \"epoch\": 0, \"model\": 20}, \"Metrics\": {\"train_binary_classification_cross_entropy_objective\": {\"sum\": 0.5330521290097385, \"count\": 1, \"min\": 0.5330521290097385, \"max\": 0.5330521290097385}}}\u001b[0m\n",
      "\u001b[34m#metrics {\"StartTime\": 1726743421.1672146, \"EndTime\": 1726743421.1672282, \"Dimensions\": {\"Algorithm\": \"Linear Learner\", \"Host\": \"algo-1\", \"Operation\": \"training\", \"epoch\": 0, \"model\": 21}, \"Metrics\": {\"train_binary_classification_cross_entropy_objective\": {\"sum\": 0.5406735049374402, \"count\": 1, \"min\": 0.5406735049374402, \"max\": 0.5406735049374402}}}\u001b[0m\n",
      "\u001b[34m#metrics {\"StartTime\": 1726743421.167267, \"EndTime\": 1726743421.1672761, \"Dimensions\": {\"Algorithm\": \"Linear Learner\", \"Host\": \"algo-1\", \"Operation\": \"training\", \"epoch\": 0, \"model\": 22}, \"Metrics\": {\"train_binary_classification_cross_entropy_objective\": {\"sum\": 0.5343670585285872, \"count\": 1, \"min\": 0.5343670585285872, \"max\": 0.5343670585285872}}}\u001b[0m\n",
      "\u001b[34m#metrics {\"StartTime\": 1726743421.1673548, \"EndTime\": 1726743421.1674073, \"Dimensions\": {\"Algorithm\": \"Linear Learner\", \"Host\": \"algo-1\", \"Operation\": \"training\", \"epoch\": 0, \"model\": 23}, \"Metrics\": {\"train_binary_classification_cross_entropy_objective\": {\"sum\": 0.5399109155312181, \"count\": 1, \"min\": 0.5399109155312181, \"max\": 0.5399109155312181}}}\u001b[0m\n",
      "\u001b[34m#metrics {\"StartTime\": 1726743421.167491, \"EndTime\": 1726743421.1675048, \"Dimensions\": {\"Algorithm\": \"Linear Learner\", \"Host\": \"algo-1\", \"Operation\": \"training\", \"epoch\": 0, \"model\": 24}, \"Metrics\": {\"train_binary_classification_cross_entropy_objective\": {\"sum\": 0.5013959752768278, \"count\": 1, \"min\": 0.5013959752768278, \"max\": 0.5013959752768278}}}\u001b[0m\n",
      "\u001b[34m#metrics {\"StartTime\": 1726743421.16754, \"EndTime\": 1726743421.1675503, \"Dimensions\": {\"Algorithm\": \"Linear Learner\", \"Host\": \"algo-1\", \"Operation\": \"training\", \"epoch\": 0, \"model\": 25}, \"Metrics\": {\"train_binary_classification_cross_entropy_objective\": {\"sum\": 0.5015327104181051, \"count\": 1, \"min\": 0.5015327104181051, \"max\": 0.5015327104181051}}}\u001b[0m\n",
      "\u001b[34m#metrics {\"StartTime\": 1726743421.167627, \"EndTime\": 1726743421.1676402, \"Dimensions\": {\"Algorithm\": \"Linear Learner\", \"Host\": \"algo-1\", \"Operation\": \"training\", \"epoch\": 0, \"model\": 26}, \"Metrics\": {\"train_binary_classification_cross_entropy_objective\": {\"sum\": 0.5002335525304079, \"count\": 1, \"min\": 0.5002335525304079, \"max\": 0.5002335525304079}}}\u001b[0m\n",
      "\u001b[34m#metrics {\"StartTime\": 1726743421.1677623, \"EndTime\": 1726743421.1677766, \"Dimensions\": {\"Algorithm\": \"Linear Learner\", \"Host\": \"algo-1\", \"Operation\": \"training\", \"epoch\": 0, \"model\": 27}, \"Metrics\": {\"train_binary_classification_cross_entropy_objective\": {\"sum\": 0.5013935029506683, \"count\": 1, \"min\": 0.5013935029506683, \"max\": 0.5013935029506683}}}\u001b[0m\n",
      "\u001b[34m#metrics {\"StartTime\": 1726743421.1678123, \"EndTime\": 1726743421.1678212, \"Dimensions\": {\"Algorithm\": \"Linear Learner\", \"Host\": \"algo-1\", \"Operation\": \"training\", \"epoch\": 0, \"model\": 28}, \"Metrics\": {\"train_binary_classification_cross_entropy_objective\": {\"sum\": 0.545756880575791, \"count\": 1, \"min\": 0.545756880575791, \"max\": 0.545756880575791}}}\u001b[0m\n",
      "\u001b[34m#metrics {\"StartTime\": 1726743421.1679678, \"EndTime\": 1726743421.1679823, \"Dimensions\": {\"Algorithm\": \"Linear Learner\", \"Host\": \"algo-1\", \"Operation\": \"training\", \"epoch\": 0, \"model\": 29}, \"Metrics\": {\"train_binary_classification_cross_entropy_objective\": {\"sum\": 0.5509852077905089, \"count\": 1, \"min\": 0.5509852077905089, \"max\": 0.5509852077905089}}}\u001b[0m\n",
      "\u001b[34m#metrics {\"StartTime\": 1726743421.168018, \"EndTime\": 1726743421.1680717, \"Dimensions\": {\"Algorithm\": \"Linear Learner\", \"Host\": \"algo-1\", \"Operation\": \"training\", \"epoch\": 0, \"model\": 30}, \"Metrics\": {\"train_binary_classification_cross_entropy_objective\": {\"sum\": 0.5447521977871657, \"count\": 1, \"min\": 0.5447521977871657, \"max\": 0.5447521977871657}}}\u001b[0m\n",
      "\u001b[34m#metrics {\"StartTime\": 1726743421.1681519, \"EndTime\": 1726743421.1681654, \"Dimensions\": {\"Algorithm\": \"Linear Learner\", \"Host\": \"algo-1\", \"Operation\": \"training\", \"epoch\": 0, \"model\": 31}, \"Metrics\": {\"train_binary_classification_cross_entropy_objective\": {\"sum\": 0.5517843237984925, \"count\": 1, \"min\": 0.5517843237984925, \"max\": 0.5517843237984925}}}\u001b[0m\n",
      "\u001b[34m[09/19/2024 10:57:01 INFO 139704748508992] #quality_metric: host=algo-1, epoch=0, train binary_classification_cross_entropy_objective <loss>=0.4617383296042681\u001b[0m\n",
      "\u001b[34m[09/19/2024 10:57:01 INFO 139704748508992] #early_stopping_criteria_metric: host=algo-1, epoch=0, criteria=binary_classification_cross_entropy_objective, value=0.4550017272680998\u001b[0m\n",
      "\u001b[34m[09/19/2024 10:57:01 INFO 139704748508992] Epoch 0: Loss improved. Updating best model\u001b[0m\n",
      "\u001b[34m[09/19/2024 10:57:01 INFO 139704748508992] Saving model for epoch: 0\u001b[0m\n",
      "\u001b[34m[09/19/2024 10:57:01 INFO 139704748508992] Saved checkpoint to \"/tmp/tmpjcimsdir/mx-mod-0000.params\"\u001b[0m\n",
      "\u001b[34m[09/19/2024 10:57:01 INFO 139704748508992] #progress_metric: host=algo-1, completed 20.0 % of epochs\u001b[0m\n",
      "\u001b[34m#metrics {\"StartTime\": 1726743417.5298219, \"EndTime\": 1726743421.176505, \"Dimensions\": {\"Algorithm\": \"Linear Learner\", \"Host\": \"algo-1\", \"Operation\": \"training\", \"epoch\": 0, \"Meta\": \"training_data_iter\"}, \"Metrics\": {\"Total Records Seen\": {\"sum\": 1605.0, \"count\": 1, \"min\": 1605, \"max\": 1605}, \"Total Batches Seen\": {\"sum\": 321.0, \"count\": 1, \"min\": 321, \"max\": 321}, \"Max Records Seen Between Resets\": {\"sum\": 800.0, \"count\": 1, \"min\": 800, \"max\": 800}, \"Max Batches Seen Between Resets\": {\"sum\": 160.0, \"count\": 1, \"min\": 160, \"max\": 160}, \"Reset Count\": {\"sum\": 3.0, \"count\": 1, \"min\": 3, \"max\": 3}, \"Number of Records Since Last Reset\": {\"sum\": 800.0, \"count\": 1, \"min\": 800, \"max\": 800}, \"Number of Batches Since Last Reset\": {\"sum\": 160.0, \"count\": 1, \"min\": 160, \"max\": 160}}}\u001b[0m\n",
      "\u001b[34m[09/19/2024 10:57:01 INFO 139704748508992] #throughput_metric: host=algo-1, train throughput=219.3680237270588 records/second\u001b[0m\n"
     ]
    },
    {
     "name": "stdout",
     "output_type": "stream",
     "text": [
      "\u001b[34m[2024-09-19 10:57:06.805] [tensorio] [info] epoch_stats={\"data_pipeline\": \"/opt/ml/input/data/train\", \"epoch\": 6, \"duration\": 5628, \"num_examples\": 160, \"num_bytes\": 112000}\u001b[0m\n",
      "\u001b[34m#metrics {\"StartTime\": 1726743426.805598, \"EndTime\": 1726743426.8058636, \"Dimensions\": {\"Algorithm\": \"Linear Learner\", \"Host\": \"algo-1\", \"Operation\": \"training\", \"epoch\": 1, \"model\": 0}, \"Metrics\": {\"train_binary_classification_cross_entropy_objective\": {\"sum\": 0.40134790886193517, \"count\": 1, \"min\": 0.40134790886193517, \"max\": 0.40134790886193517}}}\u001b[0m\n",
      "\u001b[34m#metrics {\"StartTime\": 1726743426.8059347, \"EndTime\": 1726743426.8059483, \"Dimensions\": {\"Algorithm\": \"Linear Learner\", \"Host\": \"algo-1\", \"Operation\": \"training\", \"epoch\": 1, \"model\": 1}, \"Metrics\": {\"train_binary_classification_cross_entropy_objective\": {\"sum\": 0.4005764202028513, \"count\": 1, \"min\": 0.4005764202028513, \"max\": 0.4005764202028513}}}\u001b[0m\n",
      "\u001b[34m#metrics {\"StartTime\": 1726743426.8060014, \"EndTime\": 1726743426.8060133, \"Dimensions\": {\"Algorithm\": \"Linear Learner\", \"Host\": \"algo-1\", \"Operation\": \"training\", \"epoch\": 1, \"model\": 2}, \"Metrics\": {\"train_binary_classification_cross_entropy_objective\": {\"sum\": 0.40079475186765195, \"count\": 1, \"min\": 0.40079475186765195, \"max\": 0.40079475186765195}}}\u001b[0m\n",
      "\u001b[34m#metrics {\"StartTime\": 1726743426.8060505, \"EndTime\": 1726743426.806061, \"Dimensions\": {\"Algorithm\": \"Linear Learner\", \"Host\": \"algo-1\", \"Operation\": \"training\", \"epoch\": 1, \"model\": 3}, \"Metrics\": {\"train_binary_classification_cross_entropy_objective\": {\"sum\": 0.40138561811298135, \"count\": 1, \"min\": 0.40138561811298135, \"max\": 0.40138561811298135}}}\u001b[0m\n",
      "\u001b[34m#metrics {\"StartTime\": 1726743426.8060987, \"EndTime\": 1726743426.806109, \"Dimensions\": {\"Algorithm\": \"Linear Learner\", \"Host\": \"algo-1\", \"Operation\": \"training\", \"epoch\": 1, \"model\": 4}, \"Metrics\": {\"train_binary_classification_cross_entropy_objective\": {\"sum\": 0.5127118175721261, \"count\": 1, \"min\": 0.5127118175721261, \"max\": 0.5127118175721261}}}\u001b[0m\n",
      "\u001b[34m#metrics {\"StartTime\": 1726743426.8061464, \"EndTime\": 1726743426.8061552, \"Dimensions\": {\"Algorithm\": \"Linear Learner\", \"Host\": \"algo-1\", \"Operation\": \"training\", \"epoch\": 1, \"model\": 5}, \"Metrics\": {\"train_binary_classification_cross_entropy_objective\": {\"sum\": 0.5528827645030105, \"count\": 1, \"min\": 0.5528827645030105, \"max\": 0.5528827645030105}}}\u001b[0m\n",
      "\u001b[34m#metrics {\"StartTime\": 1726743426.8061888, \"EndTime\": 1726743426.806199, \"Dimensions\": {\"Algorithm\": \"Linear Learner\", \"Host\": \"algo-1\", \"Operation\": \"training\", \"epoch\": 1, \"model\": 6}, \"Metrics\": {\"train_binary_classification_cross_entropy_objective\": {\"sum\": 0.5126174859202002, \"count\": 1, \"min\": 0.5126174859202002, \"max\": 0.5126174859202002}}}\u001b[0m\n",
      "\u001b[34m#metrics {\"StartTime\": 1726743426.8062375, \"EndTime\": 1726743426.8062482, \"Dimensions\": {\"Algorithm\": \"Linear Learner\", \"Host\": \"algo-1\", \"Operation\": \"training\", \"epoch\": 1, \"model\": 7}, \"Metrics\": {\"train_binary_classification_cross_entropy_objective\": {\"sum\": 0.5534934122167761, \"count\": 1, \"min\": 0.5534934122167761, \"max\": 0.5534934122167761}}}\u001b[0m\n",
      "\u001b[34m#metrics {\"StartTime\": 1726743426.806285, \"EndTime\": 1726743426.806294, \"Dimensions\": {\"Algorithm\": \"Linear Learner\", \"Host\": \"algo-1\", \"Operation\": \"training\", \"epoch\": 1, \"model\": 8}, \"Metrics\": {\"train_binary_classification_cross_entropy_objective\": {\"sum\": 0.4040920241177082, \"count\": 1, \"min\": 0.4040920241177082, \"max\": 0.4040920241177082}}}\u001b[0m\n",
      "\u001b[34m#metrics {\"StartTime\": 1726743426.8063302, \"EndTime\": 1726743426.8063405, \"Dimensions\": {\"Algorithm\": \"Linear Learner\", \"Host\": \"algo-1\", \"Operation\": \"training\", \"epoch\": 1, \"model\": 9}, \"Metrics\": {\"train_binary_classification_cross_entropy_objective\": {\"sum\": 0.39949233785271643, \"count\": 1, \"min\": 0.39949233785271643, \"max\": 0.39949233785271643}}}\u001b[0m\n",
      "\u001b[34m#metrics {\"StartTime\": 1726743426.8063776, \"EndTime\": 1726743426.806388, \"Dimensions\": {\"Algorithm\": \"Linear Learner\", \"Host\": \"algo-1\", \"Operation\": \"training\", \"epoch\": 1, \"model\": 10}, \"Metrics\": {\"train_binary_classification_cross_entropy_objective\": {\"sum\": 0.399667379707098, \"count\": 1, \"min\": 0.399667379707098, \"max\": 0.399667379707098}}}\u001b[0m\n",
      "\u001b[34m#metrics {\"StartTime\": 1726743426.8064268, \"EndTime\": 1726743426.8064365, \"Dimensions\": {\"Algorithm\": \"Linear Learner\", \"Host\": \"algo-1\", \"Operation\": \"training\", \"epoch\": 1, \"model\": 11}, \"Metrics\": {\"train_binary_classification_cross_entropy_objective\": {\"sum\": 0.3984895224124193, \"count\": 1, \"min\": 0.3984895224124193, \"max\": 0.3984895224124193}}}\u001b[0m\n",
      "\u001b[34m#metrics {\"StartTime\": 1726743426.8064754, \"EndTime\": 1726743426.8064857, \"Dimensions\": {\"Algorithm\": \"Linear Learner\", \"Host\": \"algo-1\", \"Operation\": \"training\", \"epoch\": 1, \"model\": 12}, \"Metrics\": {\"train_binary_classification_cross_entropy_objective\": {\"sum\": 0.5003747183200903, \"count\": 1, \"min\": 0.5003747183200903, \"max\": 0.5003747183200903}}}\u001b[0m\n",
      "\u001b[34m#metrics {\"StartTime\": 1726743426.806525, \"EndTime\": 1726743426.8065352, \"Dimensions\": {\"Algorithm\": \"Linear Learner\", \"Host\": \"algo-1\", \"Operation\": \"training\", \"epoch\": 1, \"model\": 13}, \"Metrics\": {\"train_binary_classification_cross_entropy_objective\": {\"sum\": 0.5376527720852755, \"count\": 1, \"min\": 0.5376527720852755, \"max\": 0.5376527720852755}}}\u001b[0m\n",
      "\u001b[34m#metrics {\"StartTime\": 1726743426.8065703, \"EndTime\": 1726743426.80658, \"Dimensions\": {\"Algorithm\": \"Linear Learner\", \"Host\": \"algo-1\", \"Operation\": \"training\", \"epoch\": 1, \"model\": 14}, \"Metrics\": {\"train_binary_classification_cross_entropy_objective\": {\"sum\": 0.500712123606354, \"count\": 1, \"min\": 0.500712123606354, \"max\": 0.500712123606354}}}\u001b[0m\n",
      "\u001b[34m#metrics {\"StartTime\": 1726743426.8066163, \"EndTime\": 1726743426.8066251, \"Dimensions\": {\"Algorithm\": \"Linear Learner\", \"Host\": \"algo-1\", \"Operation\": \"training\", \"epoch\": 1, \"model\": 15}, \"Metrics\": {\"train_binary_classification_cross_entropy_objective\": {\"sum\": 0.5385905692516826, \"count\": 1, \"min\": 0.5385905692516826, \"max\": 0.5385905692516826}}}\u001b[0m\n",
      "\u001b[34m#metrics {\"StartTime\": 1726743426.8066602, \"EndTime\": 1726743426.8066704, \"Dimensions\": {\"Algorithm\": \"Linear Learner\", \"Host\": \"algo-1\", \"Operation\": \"training\", \"epoch\": 1, \"model\": 16}, \"Metrics\": {\"train_binary_classification_cross_entropy_objective\": {\"sum\": 0.46132198996841906, \"count\": 1, \"min\": 0.46132198996841906, \"max\": 0.46132198996841906}}}\u001b[0m\n",
      "\u001b[34m#metrics {\"StartTime\": 1726743426.8067105, \"EndTime\": 1726743426.8067214, \"Dimensions\": {\"Algorithm\": \"Linear Learner\", \"Host\": \"algo-1\", \"Operation\": \"training\", \"epoch\": 1, \"model\": 17}, \"Metrics\": {\"train_binary_classification_cross_entropy_objective\": {\"sum\": 0.4615693441778421, \"count\": 1, \"min\": 0.4615693441778421, \"max\": 0.4615693441778421}}}\u001b[0m\n",
      "\u001b[34m#metrics {\"StartTime\": 1726743426.8067613, \"EndTime\": 1726743426.8067715, \"Dimensions\": {\"Algorithm\": \"Linear Learner\", \"Host\": \"algo-1\", \"Operation\": \"training\", \"epoch\": 1, \"model\": 18}, \"Metrics\": {\"train_binary_classification_cross_entropy_objective\": {\"sum\": 0.4613231643289328, \"count\": 1, \"min\": 0.4613231643289328, \"max\": 0.4613231643289328}}}\u001b[0m\n",
      "\u001b[34m#metrics {\"StartTime\": 1726743426.8068092, \"EndTime\": 1726743426.8068194, \"Dimensions\": {\"Algorithm\": \"Linear Learner\", \"Host\": \"algo-1\", \"Operation\": \"training\", \"epoch\": 1, \"model\": 19}, \"Metrics\": {\"train_binary_classification_cross_entropy_objective\": {\"sum\": 0.461561099588871, \"count\": 1, \"min\": 0.461561099588871, \"max\": 0.461561099588871}}}\u001b[0m\n",
      "\u001b[34m#metrics {\"StartTime\": 1726743426.8068597, \"EndTime\": 1726743426.8068695, \"Dimensions\": {\"Algorithm\": \"Linear Learner\", \"Host\": \"algo-1\", \"Operation\": \"training\", \"epoch\": 1, \"model\": 20}, \"Metrics\": {\"train_binary_classification_cross_entropy_objective\": {\"sum\": 0.527499779118225, \"count\": 1, \"min\": 0.527499779118225, \"max\": 0.527499779118225}}}\u001b[0m\n",
      "\u001b[34m#metrics {\"StartTime\": 1726743426.8069098, \"EndTime\": 1726743426.8069205, \"Dimensions\": {\"Algorithm\": \"Linear Learner\", \"Host\": \"algo-1\", \"Operation\": \"training\", \"epoch\": 1, \"model\": 21}, \"Metrics\": {\"train_binary_classification_cross_entropy_objective\": {\"sum\": 0.5500139310862869, \"count\": 1, \"min\": 0.5500139310862869, \"max\": 0.5500139310862869}}}\u001b[0m\n",
      "\u001b[34m#metrics {\"StartTime\": 1726743426.8069565, \"EndTime\": 1726743426.806967, \"Dimensions\": {\"Algorithm\": \"Linear Learner\", \"Host\": \"algo-1\", \"Operation\": \"training\", \"epoch\": 1, \"model\": 22}, \"Metrics\": {\"train_binary_classification_cross_entropy_objective\": {\"sum\": 0.5273458670265972, \"count\": 1, \"min\": 0.5273458670265972, \"max\": 0.5273458670265972}}}\u001b[0m\n",
      "\u001b[34m#metrics {\"StartTime\": 1726743426.8070056, \"EndTime\": 1726743426.807016, \"Dimensions\": {\"Algorithm\": \"Linear Learner\", \"Host\": \"algo-1\", \"Operation\": \"training\", \"epoch\": 1, \"model\": 23}, \"Metrics\": {\"train_binary_classification_cross_entropy_objective\": {\"sum\": 0.5499536349438131, \"count\": 1, \"min\": 0.5499536349438131, \"max\": 0.5499536349438131}}}\u001b[0m\n",
      "\u001b[34m#metrics {\"StartTime\": 1726743426.8070555, \"EndTime\": 1726743426.8070655, \"Dimensions\": {\"Algorithm\": \"Linear Learner\", \"Host\": \"algo-1\", \"Operation\": \"training\", \"epoch\": 1, \"model\": 24}, \"Metrics\": {\"train_binary_classification_cross_entropy_objective\": {\"sum\": 0.48728480711579325, \"count\": 1, \"min\": 0.48728480711579325, \"max\": 0.48728480711579325}}}\u001b[0m\n",
      "\u001b[34m#metrics {\"StartTime\": 1726743426.807103, \"EndTime\": 1726743426.8071132, \"Dimensions\": {\"Algorithm\": \"Linear Learner\", \"Host\": \"algo-1\", \"Operation\": \"training\", \"epoch\": 1, \"model\": 25}, \"Metrics\": {\"train_binary_classification_cross_entropy_objective\": {\"sum\": 0.4876160623133183, \"count\": 1, \"min\": 0.4876160623133183, \"max\": 0.4876160623133183}}}\u001b[0m\n",
      "\u001b[34m#metrics {\"StartTime\": 1726743426.807154, \"EndTime\": 1726743426.8071637, \"Dimensions\": {\"Algorithm\": \"Linear Learner\", \"Host\": \"algo-1\", \"Operation\": \"training\", \"epoch\": 1, \"model\": 26}, \"Metrics\": {\"train_binary_classification_cross_entropy_objective\": {\"sum\": 0.487261960208416, \"count\": 1, \"min\": 0.487261960208416, \"max\": 0.487261960208416}}}\u001b[0m\n",
      "\u001b[34m#metrics {\"StartTime\": 1726743426.807201, \"EndTime\": 1726743426.8072107, \"Dimensions\": {\"Algorithm\": \"Linear Learner\", \"Host\": \"algo-1\", \"Operation\": \"training\", \"epoch\": 1, \"model\": 27}, \"Metrics\": {\"train_binary_classification_cross_entropy_objective\": {\"sum\": 0.4875946169346571, \"count\": 1, \"min\": 0.4875946169346571, \"max\": 0.4875946169346571}}}\u001b[0m\n",
      "\u001b[34m#metrics {\"StartTime\": 1726743426.8072517, \"EndTime\": 1726743426.8072615, \"Dimensions\": {\"Algorithm\": \"Linear Learner\", \"Host\": \"algo-1\", \"Operation\": \"training\", \"epoch\": 1, \"model\": 28}, \"Metrics\": {\"train_binary_classification_cross_entropy_objective\": {\"sum\": 0.5448584285192192, \"count\": 1, \"min\": 0.5448584285192192, \"max\": 0.5448584285192192}}}\u001b[0m\n",
      "\u001b[34m#metrics {\"StartTime\": 1726743426.8072991, \"EndTime\": 1726743426.8073099, \"Dimensions\": {\"Algorithm\": \"Linear Learner\", \"Host\": \"algo-1\", \"Operation\": \"training\", \"epoch\": 1, \"model\": 29}, \"Metrics\": {\"train_binary_classification_cross_entropy_objective\": {\"sum\": 0.5629016681574285, \"count\": 1, \"min\": 0.5629016681574285, \"max\": 0.5629016681574285}}}\u001b[0m\n",
      "\u001b[34m#metrics {\"StartTime\": 1726743426.8073575, \"EndTime\": 1726743426.8073661, \"Dimensions\": {\"Algorithm\": \"Linear Learner\", \"Host\": \"algo-1\", \"Operation\": \"training\", \"epoch\": 1, \"model\": 30}, \"Metrics\": {\"train_binary_classification_cross_entropy_objective\": {\"sum\": 0.5449373208545149, \"count\": 1, \"min\": 0.5449373208545149, \"max\": 0.5449373208545149}}}\u001b[0m\n",
      "\u001b[34m#metrics {\"StartTime\": 1726743426.8073986, \"EndTime\": 1726743426.8074076, \"Dimensions\": {\"Algorithm\": \"Linear Learner\", \"Host\": \"algo-1\", \"Operation\": \"training\", \"epoch\": 1, \"model\": 31}, \"Metrics\": {\"train_binary_classification_cross_entropy_objective\": {\"sum\": 0.562617325913161, \"count\": 1, \"min\": 0.562617325913161, \"max\": 0.562617325913161}}}\u001b[0m\n",
      "\u001b[34m[09/19/2024 10:57:06 INFO 139704748508992] #quality_metric: host=algo-1, epoch=1, train binary_classification_cross_entropy_objective <loss>=0.40134790886193517\u001b[0m\n",
      "\u001b[34m[09/19/2024 10:57:06 INFO 139704748508992] #early_stopping_criteria_metric: host=algo-1, epoch=1, criteria=binary_classification_cross_entropy_objective, value=0.3984895224124193\u001b[0m\n",
      "\u001b[34m[09/19/2024 10:57:06 INFO 139704748508992] Epoch 1: Loss improved. Updating best model\u001b[0m\n",
      "\u001b[34m[09/19/2024 10:57:06 INFO 139704748508992] Saving model for epoch: 1\u001b[0m\n",
      "\u001b[34m[09/19/2024 10:57:06 INFO 139704748508992] Saved checkpoint to \"/tmp/tmp4nk2r_iz/mx-mod-0000.params\"\u001b[0m\n",
      "\u001b[34m[09/19/2024 10:57:06 INFO 139704748508992] #progress_metric: host=algo-1, completed 40.0 % of epochs\u001b[0m\n",
      "\u001b[34m#metrics {\"StartTime\": 1726743421.176905, \"EndTime\": 1726743426.8147094, \"Dimensions\": {\"Algorithm\": \"Linear Learner\", \"Host\": \"algo-1\", \"Operation\": \"training\", \"epoch\": 1, \"Meta\": \"training_data_iter\"}, \"Metrics\": {\"Total Records Seen\": {\"sum\": 2405.0, \"count\": 1, \"min\": 2405, \"max\": 2405}, \"Total Batches Seen\": {\"sum\": 481.0, \"count\": 1, \"min\": 481, \"max\": 481}, \"Max Records Seen Between Resets\": {\"sum\": 800.0, \"count\": 1, \"min\": 800, \"max\": 800}, \"Max Batches Seen Between Resets\": {\"sum\": 160.0, \"count\": 1, \"min\": 160, \"max\": 160}, \"Reset Count\": {\"sum\": 4.0, \"count\": 1, \"min\": 4, \"max\": 4}, \"Number of Records Since Last Reset\": {\"sum\": 800.0, \"count\": 1, \"min\": 800, \"max\": 800}, \"Number of Batches Since Last Reset\": {\"sum\": 160.0, \"count\": 1, \"min\": 160, \"max\": 160}}}\u001b[0m\n",
      "\u001b[34m[09/19/2024 10:57:06 INFO 139704748508992] #throughput_metric: host=algo-1, train throughput=141.8953325435043 records/second\u001b[0m\n",
      "\u001b[34m[2024-09-19 10:57:10.498] [tensorio] [info] epoch_stats={\"data_pipeline\": \"/opt/ml/input/data/train\", \"epoch\": 8, \"duration\": 3682, \"num_examples\": 160, \"num_bytes\": 112000}\u001b[0m\n",
      "\u001b[34m#metrics {\"StartTime\": 1726743430.4980776, \"EndTime\": 1726743430.4981558, \"Dimensions\": {\"Algorithm\": \"Linear Learner\", \"Host\": \"algo-1\", \"Operation\": \"training\", \"epoch\": 2, \"model\": 0}, \"Metrics\": {\"train_binary_classification_cross_entropy_objective\": {\"sum\": 0.3854987972974777, \"count\": 1, \"min\": 0.3854987972974777, \"max\": 0.3854987972974777}}}\u001b[0m\n",
      "\u001b[34m#metrics {\"StartTime\": 1726743430.498335, \"EndTime\": 1726743430.4983575, \"Dimensions\": {\"Algorithm\": \"Linear Learner\", \"Host\": \"algo-1\", \"Operation\": \"training\", \"epoch\": 2, \"model\": 1}, \"Metrics\": {\"train_binary_classification_cross_entropy_objective\": {\"sum\": 0.3842843051627278, \"count\": 1, \"min\": 0.3842843051627278, \"max\": 0.3842843051627278}}}\u001b[0m\n",
      "\u001b[34m#metrics {\"StartTime\": 1726743430.4984138, \"EndTime\": 1726743430.4984822, \"Dimensions\": {\"Algorithm\": \"Linear Learner\", \"Host\": \"algo-1\", \"Operation\": \"training\", \"epoch\": 2, \"model\": 2}, \"Metrics\": {\"train_binary_classification_cross_entropy_objective\": {\"sum\": 0.38534191861748696, \"count\": 1, \"min\": 0.38534191861748696, \"max\": 0.38534191861748696}}}\u001b[0m\n",
      "\u001b[34m#metrics {\"StartTime\": 1726743430.498588, \"EndTime\": 1726743430.4986038, \"Dimensions\": {\"Algorithm\": \"Linear Learner\", \"Host\": \"algo-1\", \"Operation\": \"training\", \"epoch\": 2, \"model\": 3}, \"Metrics\": {\"train_binary_classification_cross_entropy_objective\": {\"sum\": 0.3845130550116301, \"count\": 1, \"min\": 0.3845130550116301, \"max\": 0.3845130550116301}}}\u001b[0m\n",
      "\u001b[34m#metrics {\"StartTime\": 1726743430.4986837, \"EndTime\": 1726743430.498699, \"Dimensions\": {\"Algorithm\": \"Linear Learner\", \"Host\": \"algo-1\", \"Operation\": \"training\", \"epoch\": 2, \"model\": 4}, \"Metrics\": {\"train_binary_classification_cross_entropy_objective\": {\"sum\": 0.4866591316089034, \"count\": 1, \"min\": 0.4866591316089034, \"max\": 0.4866591316089034}}}\u001b[0m\n",
      "\u001b[34m#metrics {\"StartTime\": 1726743430.4987738, \"EndTime\": 1726743430.4987876, \"Dimensions\": {\"Algorithm\": \"Linear Learner\", \"Host\": \"algo-1\", \"Operation\": \"training\", \"epoch\": 2, \"model\": 5}, \"Metrics\": {\"train_binary_classification_cross_entropy_objective\": {\"sum\": 0.548661055334378, \"count\": 1, \"min\": 0.548661055334378, \"max\": 0.548661055334378}}}\u001b[0m\n",
      "\u001b[34m#metrics {\"StartTime\": 1726743430.4988594, \"EndTime\": 1726743430.4988725, \"Dimensions\": {\"Algorithm\": \"Linear Learner\", \"Host\": \"algo-1\", \"Operation\": \"training\", \"epoch\": 2, \"model\": 6}, \"Metrics\": {\"train_binary_classification_cross_entropy_objective\": {\"sum\": 0.48665389937814324, \"count\": 1, \"min\": 0.48665389937814324, \"max\": 0.48665389937814324}}}\u001b[0m\n",
      "\u001b[34m#metrics {\"StartTime\": 1726743430.498911, \"EndTime\": 1726743430.4989204, \"Dimensions\": {\"Algorithm\": \"Linear Learner\", \"Host\": \"algo-1\", \"Operation\": \"training\", \"epoch\": 2, \"model\": 7}, \"Metrics\": {\"train_binary_classification_cross_entropy_objective\": {\"sum\": 0.5488950948172715, \"count\": 1, \"min\": 0.5488950948172715, \"max\": 0.5488950948172715}}}\u001b[0m\n",
      "\u001b[34m#metrics {\"StartTime\": 1726743430.4989944, \"EndTime\": 1726743430.499005, \"Dimensions\": {\"Algorithm\": \"Linear Learner\", \"Host\": \"algo-1\", \"Operation\": \"training\", \"epoch\": 2, \"model\": 8}, \"Metrics\": {\"train_binary_classification_cross_entropy_objective\": {\"sum\": 0.3877895798534155, \"count\": 1, \"min\": 0.3877895798534155, \"max\": 0.3877895798534155}}}\u001b[0m\n",
      "\u001b[34m#metrics {\"StartTime\": 1726743430.4990788, \"EndTime\": 1726743430.499122, \"Dimensions\": {\"Algorithm\": \"Linear Learner\", \"Host\": \"algo-1\", \"Operation\": \"training\", \"epoch\": 2, \"model\": 9}, \"Metrics\": {\"train_binary_classification_cross_entropy_objective\": {\"sum\": 0.38494771454483273, \"count\": 1, \"min\": 0.38494771454483273, \"max\": 0.38494771454483273}}}\u001b[0m\n",
      "\u001b[34m#metrics {\"StartTime\": 1726743430.499162, \"EndTime\": 1726743430.4992213, \"Dimensions\": {\"Algorithm\": \"Linear Learner\", \"Host\": \"algo-1\", \"Operation\": \"training\", \"epoch\": 2, \"model\": 10}, \"Metrics\": {\"train_binary_classification_cross_entropy_objective\": {\"sum\": 0.3856225360184908, \"count\": 1, \"min\": 0.3856225360184908, \"max\": 0.3856225360184908}}}\u001b[0m\n",
      "\u001b[34m#metrics {\"StartTime\": 1726743430.4992962, \"EndTime\": 1726743430.49931, \"Dimensions\": {\"Algorithm\": \"Linear Learner\", \"Host\": \"algo-1\", \"Operation\": \"training\", \"epoch\": 2, \"model\": 11}, \"Metrics\": {\"train_binary_classification_cross_entropy_objective\": {\"sum\": 0.3845395664870739, \"count\": 1, \"min\": 0.3845395664870739, \"max\": 0.3845395664870739}}}\u001b[0m\n",
      "\u001b[34m#metrics {\"StartTime\": 1726743430.4993787, \"EndTime\": 1726743430.4993923, \"Dimensions\": {\"Algorithm\": \"Linear Learner\", \"Host\": \"algo-1\", \"Operation\": \"training\", \"epoch\": 2, \"model\": 12}, \"Metrics\": {\"train_binary_classification_cross_entropy_objective\": {\"sum\": 0.4770903433021158, \"count\": 1, \"min\": 0.4770903433021158, \"max\": 0.4770903433021158}}}\u001b[0m\n",
      "\u001b[34m#metrics {\"StartTime\": 1726743430.4994297, \"EndTime\": 1726743430.4994752, \"Dimensions\": {\"Algorithm\": \"Linear Learner\", \"Host\": \"algo-1\", \"Operation\": \"training\", \"epoch\": 2, \"model\": 13}, \"Metrics\": {\"train_binary_classification_cross_entropy_objective\": {\"sum\": 0.533200016914634, \"count\": 1, \"min\": 0.533200016914634, \"max\": 0.533200016914634}}}\u001b[0m\n",
      "\u001b[34m#metrics {\"StartTime\": 1726743430.4995134, \"EndTime\": 1726743430.499558, \"Dimensions\": {\"Algorithm\": \"Linear Learner\", \"Host\": \"algo-1\", \"Operation\": \"training\", \"epoch\": 2, \"model\": 14}, \"Metrics\": {\"train_binary_classification_cross_entropy_objective\": {\"sum\": 0.47715844134800134, \"count\": 1, \"min\": 0.47715844134800134, \"max\": 0.47715844134800134}}}\u001b[0m\n",
      "\u001b[34m#metrics {\"StartTime\": 1726743430.4996288, \"EndTime\": 1726743430.4996428, \"Dimensions\": {\"Algorithm\": \"Linear Learner\", \"Host\": \"algo-1\", \"Operation\": \"training\", \"epoch\": 2, \"model\": 15}, \"Metrics\": {\"train_binary_classification_cross_entropy_objective\": {\"sum\": 0.5335072721913456, \"count\": 1, \"min\": 0.5335072721913456, \"max\": 0.5335072721913456}}}\u001b[0m\n",
      "\u001b[34m#metrics {\"StartTime\": 1726743430.4997144, \"EndTime\": 1726743430.4997277, \"Dimensions\": {\"Algorithm\": \"Linear Learner\", \"Host\": \"algo-1\", \"Operation\": \"training\", \"epoch\": 2, \"model\": 16}, \"Metrics\": {\"train_binary_classification_cross_entropy_objective\": {\"sum\": 0.4610590779036283, \"count\": 1, \"min\": 0.4610590779036283, \"max\": 0.4610590779036283}}}\u001b[0m\n",
      "\u001b[34m#metrics {\"StartTime\": 1726743430.4997647, \"EndTime\": 1726743430.4998183, \"Dimensions\": {\"Algorithm\": \"Linear Learner\", \"Host\": \"algo-1\", \"Operation\": \"training\", \"epoch\": 2, \"model\": 17}, \"Metrics\": {\"train_binary_classification_cross_entropy_objective\": {\"sum\": 0.46163452073931693, \"count\": 1, \"min\": 0.46163452073931693, \"max\": 0.46163452073931693}}}\u001b[0m\n",
      "\u001b[34m#metrics {\"StartTime\": 1726743430.4999187, \"EndTime\": 1726743430.499933, \"Dimensions\": {\"Algorithm\": \"Linear Learner\", \"Host\": \"algo-1\", \"Operation\": \"training\", \"epoch\": 2, \"model\": 18}, \"Metrics\": {\"train_binary_classification_cross_entropy_objective\": {\"sum\": 0.461058509722352, \"count\": 1, \"min\": 0.461058509722352, \"max\": 0.461058509722352}}}\u001b[0m\n",
      "\u001b[34m#metrics {\"StartTime\": 1726743430.4999716, \"EndTime\": 1726743430.4999804, \"Dimensions\": {\"Algorithm\": \"Linear Learner\", \"Host\": \"algo-1\", \"Operation\": \"training\", \"epoch\": 2, \"model\": 19}, \"Metrics\": {\"train_binary_classification_cross_entropy_objective\": {\"sum\": 0.4616291993111372, \"count\": 1, \"min\": 0.4616291993111372, \"max\": 0.4616291993111372}}}\u001b[0m\n",
      "\u001b[34m#metrics {\"StartTime\": 1726743430.5000606, \"EndTime\": 1726743430.5000732, \"Dimensions\": {\"Algorithm\": \"Linear Learner\", \"Host\": \"algo-1\", \"Operation\": \"training\", \"epoch\": 2, \"model\": 20}, \"Metrics\": {\"train_binary_classification_cross_entropy_objective\": {\"sum\": 0.5131151152215898, \"count\": 1, \"min\": 0.5131151152215898, \"max\": 0.5131151152215898}}}\u001b[0m\n",
      "\u001b[34m#metrics {\"StartTime\": 1726743430.5001526, \"EndTime\": 1726743430.500212, \"Dimensions\": {\"Algorithm\": \"Linear Learner\", \"Host\": \"algo-1\", \"Operation\": \"training\", \"epoch\": 2, \"model\": 21}, \"Metrics\": {\"train_binary_classification_cross_entropy_objective\": {\"sum\": 0.5472619358729571, \"count\": 1, \"min\": 0.5472619358729571, \"max\": 0.5472619358729571}}}\u001b[0m\n",
      "\u001b[34m#metrics {\"StartTime\": 1726743430.5002935, \"EndTime\": 1726743430.5003061, \"Dimensions\": {\"Algorithm\": \"Linear Learner\", \"Host\": \"algo-1\", \"Operation\": \"training\", \"epoch\": 2, \"model\": 22}, \"Metrics\": {\"train_binary_classification_cross_entropy_objective\": {\"sum\": 0.5130337880924344, \"count\": 1, \"min\": 0.5130337880924344, \"max\": 0.5130337880924344}}}\u001b[0m\n",
      "\u001b[34m#metrics {\"StartTime\": 1726743430.500341, \"EndTime\": 1726743430.5003958, \"Dimensions\": {\"Algorithm\": \"Linear Learner\", \"Host\": \"algo-1\", \"Operation\": \"training\", \"epoch\": 2, \"model\": 23}, \"Metrics\": {\"train_binary_classification_cross_entropy_objective\": {\"sum\": 0.5472376329544931, \"count\": 1, \"min\": 0.5472376329544931, \"max\": 0.5472376329544931}}}\u001b[0m\n",
      "\u001b[34m#metrics {\"StartTime\": 1726743430.5004756, \"EndTime\": 1726743430.5004888, \"Dimensions\": {\"Algorithm\": \"Linear Learner\", \"Host\": \"algo-1\", \"Operation\": \"training\", \"epoch\": 2, \"model\": 24}, \"Metrics\": {\"train_binary_classification_cross_entropy_objective\": {\"sum\": 0.4871118650585413, \"count\": 1, \"min\": 0.4871118650585413, \"max\": 0.4871118650585413}}}\u001b[0m\n",
      "\u001b[34m#metrics {\"StartTime\": 1726743430.5005226, \"EndTime\": 1726743430.5005765, \"Dimensions\": {\"Algorithm\": \"Linear Learner\", \"Host\": \"algo-1\", \"Operation\": \"training\", \"epoch\": 2, \"model\": 25}, \"Metrics\": {\"train_binary_classification_cross_entropy_objective\": {\"sum\": 0.487720939964056, \"count\": 1, \"min\": 0.487720939964056, \"max\": 0.487720939964056}}}\u001b[0m\n",
      "\u001b[34m#metrics {\"StartTime\": 1726743430.5006552, \"EndTime\": 1726743430.5006688, \"Dimensions\": {\"Algorithm\": \"Linear Learner\", \"Host\": \"algo-1\", \"Operation\": \"training\", \"epoch\": 2, \"model\": 26}, \"Metrics\": {\"train_binary_classification_cross_entropy_objective\": {\"sum\": 0.4870671007782221, \"count\": 1, \"min\": 0.4870671007782221, \"max\": 0.4870671007782221}}}\u001b[0m\n",
      "\u001b[34m#metrics {\"StartTime\": 1726743430.5007026, \"EndTime\": 1726743430.5007536, \"Dimensions\": {\"Algorithm\": \"Linear Learner\", \"Host\": \"algo-1\", \"Operation\": \"training\", \"epoch\": 2, \"model\": 27}, \"Metrics\": {\"train_binary_classification_cross_entropy_objective\": {\"sum\": 0.4876425363868475, \"count\": 1, \"min\": 0.4876425363868475, \"max\": 0.4876425363868475}}}\u001b[0m\n",
      "\u001b[34m#metrics {\"StartTime\": 1726743430.500838, \"EndTime\": 1726743430.5008516, \"Dimensions\": {\"Algorithm\": \"Linear Learner\", \"Host\": \"algo-1\", \"Operation\": \"training\", \"epoch\": 2, \"model\": 28}, \"Metrics\": {\"train_binary_classification_cross_entropy_objective\": {\"sum\": 0.5330256592482329, \"count\": 1, \"min\": 0.5330256592482329, \"max\": 0.5330256592482329}}}\u001b[0m\n",
      "\u001b[34m#metrics {\"StartTime\": 1726743430.5009336, \"EndTime\": 1726743430.500947, \"Dimensions\": {\"Algorithm\": \"Linear Learner\", \"Host\": \"algo-1\", \"Operation\": \"training\", \"epoch\": 2, \"model\": 29}, \"Metrics\": {\"train_binary_classification_cross_entropy_objective\": {\"sum\": 0.5602829009573906, \"count\": 1, \"min\": 0.5602829009573906, \"max\": 0.5602829009573906}}}\u001b[0m\n",
      "\u001b[34m#metrics {\"StartTime\": 1726743430.501025, \"EndTime\": 1726743430.5010378, \"Dimensions\": {\"Algorithm\": \"Linear Learner\", \"Host\": \"algo-1\", \"Operation\": \"training\", \"epoch\": 2, \"model\": 30}, \"Metrics\": {\"train_binary_classification_cross_entropy_objective\": {\"sum\": 0.53336060564965, \"count\": 1, \"min\": 0.53336060564965, \"max\": 0.53336060564965}}}\u001b[0m\n",
      "\u001b[34m#metrics {\"StartTime\": 1726743430.5011148, \"EndTime\": 1726743430.5011287, \"Dimensions\": {\"Algorithm\": \"Linear Learner\", \"Host\": \"algo-1\", \"Operation\": \"training\", \"epoch\": 2, \"model\": 31}, \"Metrics\": {\"train_binary_classification_cross_entropy_objective\": {\"sum\": 0.5604463701695204, \"count\": 1, \"min\": 0.5604463701695204, \"max\": 0.5604463701695204}}}\u001b[0m\n",
      "\u001b[34m[09/19/2024 10:57:10 INFO 139704748508992] #quality_metric: host=algo-1, epoch=2, train binary_classification_cross_entropy_objective <loss>=0.3854987972974777\u001b[0m\n",
      "\u001b[34m[09/19/2024 10:57:10 INFO 139704748508992] #early_stopping_criteria_metric: host=algo-1, epoch=2, criteria=binary_classification_cross_entropy_objective, value=0.3842843051627278\u001b[0m\n",
      "\u001b[34m[09/19/2024 10:57:10 INFO 139704748508992] Epoch 2: Loss improved. Updating best model\u001b[0m\n",
      "\u001b[34m[09/19/2024 10:57:10 INFO 139704748508992] Saving model for epoch: 2\u001b[0m\n",
      "\u001b[34m[09/19/2024 10:57:10 INFO 139704748508992] Saved checkpoint to \"/tmp/tmp1o7qkd6r/mx-mod-0000.params\"\u001b[0m\n",
      "\u001b[34m[09/19/2024 10:57:10 INFO 139704748508992] #progress_metric: host=algo-1, completed 60.0 % of epochs\u001b[0m\n",
      "\u001b[34m#metrics {\"StartTime\": 1726743426.8149557, \"EndTime\": 1726743430.5094244, \"Dimensions\": {\"Algorithm\": \"Linear Learner\", \"Host\": \"algo-1\", \"Operation\": \"training\", \"epoch\": 2, \"Meta\": \"training_data_iter\"}, \"Metrics\": {\"Total Records Seen\": {\"sum\": 3205.0, \"count\": 1, \"min\": 3205, \"max\": 3205}, \"Total Batches Seen\": {\"sum\": 641.0, \"count\": 1, \"min\": 641, \"max\": 641}, \"Max Records Seen Between Resets\": {\"sum\": 800.0, \"count\": 1, \"min\": 800, \"max\": 800}, \"Max Batches Seen Between Resets\": {\"sum\": 160.0, \"count\": 1, \"min\": 160, \"max\": 160}, \"Reset Count\": {\"sum\": 5.0, \"count\": 1, \"min\": 5, \"max\": 5}, \"Number of Records Since Last Reset\": {\"sum\": 800.0, \"count\": 1, \"min\": 800, \"max\": 800}, \"Number of Batches Since Last Reset\": {\"sum\": 160.0, \"count\": 1, \"min\": 160, \"max\": 160}}}\u001b[0m\n",
      "\u001b[34m[09/19/2024 10:57:10 INFO 139704748508992] #throughput_metric: host=algo-1, train throughput=216.5089532532771 records/second\u001b[0m\n"
     ]
    },
    {
     "name": "stdout",
     "output_type": "stream",
     "text": [
      "\u001b[34m[2024-09-19 10:57:14.159] [tensorio] [info] epoch_stats={\"data_pipeline\": \"/opt/ml/input/data/train\", \"epoch\": 10, \"duration\": 3649, \"num_examples\": 160, \"num_bytes\": 112000}\u001b[0m\n",
      "\u001b[34m#metrics {\"StartTime\": 1726743434.159998, \"EndTime\": 1726743434.160119, \"Dimensions\": {\"Algorithm\": \"Linear Learner\", \"Host\": \"algo-1\", \"Operation\": \"training\", \"epoch\": 3, \"model\": 0}, \"Metrics\": {\"train_binary_classification_cross_entropy_objective\": {\"sum\": 0.37820781126618386, \"count\": 1, \"min\": 0.37820781126618386, \"max\": 0.37820781126618386}}}\u001b[0m\n",
      "\u001b[34m#metrics {\"StartTime\": 1726743434.1602397, \"EndTime\": 1726743434.1602592, \"Dimensions\": {\"Algorithm\": \"Linear Learner\", \"Host\": \"algo-1\", \"Operation\": \"training\", \"epoch\": 3, \"model\": 1}, \"Metrics\": {\"train_binary_classification_cross_entropy_objective\": {\"sum\": 0.37782835129648445, \"count\": 1, \"min\": 0.37782835129648445, \"max\": 0.37782835129648445}}}\u001b[0m\n",
      "\u001b[34m#metrics {\"StartTime\": 1726743434.1603343, \"EndTime\": 1726743434.1603885, \"Dimensions\": {\"Algorithm\": \"Linear Learner\", \"Host\": \"algo-1\", \"Operation\": \"training\", \"epoch\": 3, \"model\": 2}, \"Metrics\": {\"train_binary_classification_cross_entropy_objective\": {\"sum\": 0.378161306232214, \"count\": 1, \"min\": 0.378161306232214, \"max\": 0.378161306232214}}}\u001b[0m\n",
      "\u001b[34m#metrics {\"StartTime\": 1726743434.1604757, \"EndTime\": 1726743434.1604893, \"Dimensions\": {\"Algorithm\": \"Linear Learner\", \"Host\": \"algo-1\", \"Operation\": \"training\", \"epoch\": 3, \"model\": 3}, \"Metrics\": {\"train_binary_classification_cross_entropy_objective\": {\"sum\": 0.377893493771553, \"count\": 1, \"min\": 0.377893493771553, \"max\": 0.377893493771553}}}\u001b[0m\n",
      "\u001b[34m#metrics {\"StartTime\": 1726743434.1605713, \"EndTime\": 1726743434.1605852, \"Dimensions\": {\"Algorithm\": \"Linear Learner\", \"Host\": \"algo-1\", \"Operation\": \"training\", \"epoch\": 3, \"model\": 4}, \"Metrics\": {\"train_binary_classification_cross_entropy_objective\": {\"sum\": 0.46625945751089604, \"count\": 1, \"min\": 0.46625945751089604, \"max\": 0.46625945751089604}}}\u001b[0m\n",
      "\u001b[34m#metrics {\"StartTime\": 1726743434.1606622, \"EndTime\": 1726743434.160684, \"Dimensions\": {\"Algorithm\": \"Linear Learner\", \"Host\": \"algo-1\", \"Operation\": \"training\", \"epoch\": 3, \"model\": 5}, \"Metrics\": {\"train_binary_classification_cross_entropy_objective\": {\"sum\": 0.5448633914120729, \"count\": 1, \"min\": 0.5448633914120729, \"max\": 0.5448633914120729}}}\u001b[0m\n",
      "\u001b[34m#metrics {\"StartTime\": 1726743434.1607518, \"EndTime\": 1726743434.1607637, \"Dimensions\": {\"Algorithm\": \"Linear Learner\", \"Host\": \"algo-1\", \"Operation\": \"training\", \"epoch\": 3, \"model\": 6}, \"Metrics\": {\"train_binary_classification_cross_entropy_objective\": {\"sum\": 0.4662579649477266, \"count\": 1, \"min\": 0.4662579649477266, \"max\": 0.4662579649477266}}}\u001b[0m\n",
      "\u001b[34m#metrics {\"StartTime\": 1726743434.1608381, \"EndTime\": 1726743434.1608496, \"Dimensions\": {\"Algorithm\": \"Linear Learner\", \"Host\": \"algo-1\", \"Operation\": \"training\", \"epoch\": 3, \"model\": 7}, \"Metrics\": {\"train_binary_classification_cross_entropy_objective\": {\"sum\": 0.5449929415620863, \"count\": 1, \"min\": 0.5449929415620863, \"max\": 0.5449929415620863}}}\u001b[0m\n",
      "\u001b[34m#metrics {\"StartTime\": 1726743434.1609163, \"EndTime\": 1726743434.160937, \"Dimensions\": {\"Algorithm\": \"Linear Learner\", \"Host\": \"algo-1\", \"Operation\": \"training\", \"epoch\": 3, \"model\": 8}, \"Metrics\": {\"train_binary_classification_cross_entropy_objective\": {\"sum\": 0.3803606233745813, \"count\": 1, \"min\": 0.3803606233745813, \"max\": 0.3803606233745813}}}\u001b[0m\n",
      "\u001b[34m#metrics {\"StartTime\": 1726743434.1609983, \"EndTime\": 1726743434.1610096, \"Dimensions\": {\"Algorithm\": \"Linear Learner\", \"Host\": \"algo-1\", \"Operation\": \"training\", \"epoch\": 3, \"model\": 9}, \"Metrics\": {\"train_binary_classification_cross_entropy_objective\": {\"sum\": 0.3791423089802265, \"count\": 1, \"min\": 0.3791423089802265, \"max\": 0.3791423089802265}}}\u001b[0m\n",
      "\u001b[34m#metrics {\"StartTime\": 1726743434.161073, \"EndTime\": 1726743434.1610925, \"Dimensions\": {\"Algorithm\": \"Linear Learner\", \"Host\": \"algo-1\", \"Operation\": \"training\", \"epoch\": 3, \"model\": 10}, \"Metrics\": {\"train_binary_classification_cross_entropy_objective\": {\"sum\": 0.37910118710249663, \"count\": 1, \"min\": 0.37910118710249663, \"max\": 0.37910118710249663}}}\u001b[0m\n",
      "\u001b[34m#metrics {\"StartTime\": 1726743434.161128, \"EndTime\": 1726743434.1611722, \"Dimensions\": {\"Algorithm\": \"Linear Learner\", \"Host\": \"algo-1\", \"Operation\": \"training\", \"epoch\": 3, \"model\": 11}, \"Metrics\": {\"train_binary_classification_cross_entropy_objective\": {\"sum\": 0.3789483362063766, \"count\": 1, \"min\": 0.3789483362063766, \"max\": 0.3789483362063766}}}\u001b[0m\n",
      "\u001b[34m#metrics {\"StartTime\": 1726743434.1612122, \"EndTime\": 1726743434.1612482, \"Dimensions\": {\"Algorithm\": \"Linear Learner\", \"Host\": \"algo-1\", \"Operation\": \"training\", \"epoch\": 3, \"model\": 12}, \"Metrics\": {\"train_binary_classification_cross_entropy_objective\": {\"sum\": 0.45881889342330395, \"count\": 1, \"min\": 0.45881889342330395, \"max\": 0.45881889342330395}}}\u001b[0m\n",
      "\u001b[34m#metrics {\"StartTime\": 1726743434.1612883, \"EndTime\": 1726743434.161298, \"Dimensions\": {\"Algorithm\": \"Linear Learner\", \"Host\": \"algo-1\", \"Operation\": \"training\", \"epoch\": 3, \"model\": 13}, \"Metrics\": {\"train_binary_classification_cross_entropy_objective\": {\"sum\": 0.5296518835984171, \"count\": 1, \"min\": 0.5296518835984171, \"max\": 0.5296518835984171}}}\u001b[0m\n",
      "\u001b[34m#metrics {\"StartTime\": 1726743434.1613715, \"EndTime\": 1726743434.1613824, \"Dimensions\": {\"Algorithm\": \"Linear Learner\", \"Host\": \"algo-1\", \"Operation\": \"training\", \"epoch\": 3, \"model\": 14}, \"Metrics\": {\"train_binary_classification_cross_entropy_objective\": {\"sum\": 0.45884151839651166, \"count\": 1, \"min\": 0.45884151839651166, \"max\": 0.45884151839651166}}}\u001b[0m\n",
      "\u001b[34m#metrics {\"StartTime\": 1726743434.1614451, \"EndTime\": 1726743434.1614573, \"Dimensions\": {\"Algorithm\": \"Linear Learner\", \"Host\": \"algo-1\", \"Operation\": \"training\", \"epoch\": 3, \"model\": 15}, \"Metrics\": {\"train_binary_classification_cross_entropy_objective\": {\"sum\": 0.5298166078829672, \"count\": 1, \"min\": 0.5298166078829672, \"max\": 0.5298166078829672}}}\u001b[0m\n",
      "\u001b[34m#metrics {\"StartTime\": 1726743434.1615286, \"EndTime\": 1726743434.1615403, \"Dimensions\": {\"Algorithm\": \"Linear Learner\", \"Host\": \"algo-1\", \"Operation\": \"training\", \"epoch\": 3, \"model\": 16}, \"Metrics\": {\"train_binary_classification_cross_entropy_objective\": {\"sum\": 0.46068710915744304, \"count\": 1, \"min\": 0.46068710915744304, \"max\": 0.46068710915744304}}}\u001b[0m\n",
      "\u001b[34m#metrics {\"StartTime\": 1726743434.161609, \"EndTime\": 1726743434.1616206, \"Dimensions\": {\"Algorithm\": \"Linear Learner\", \"Host\": \"algo-1\", \"Operation\": \"training\", \"epoch\": 3, \"model\": 17}, \"Metrics\": {\"train_binary_classification_cross_entropy_objective\": {\"sum\": 0.46158904403448103, \"count\": 1, \"min\": 0.46158904403448103, \"max\": 0.46158904403448103}}}\u001b[0m\n",
      "\u001b[34m#metrics {\"StartTime\": 1726743434.1616838, \"EndTime\": 1726743434.1616957, \"Dimensions\": {\"Algorithm\": \"Linear Learner\", \"Host\": \"algo-1\", \"Operation\": \"training\", \"epoch\": 3, \"model\": 18}, \"Metrics\": {\"train_binary_classification_cross_entropy_objective\": {\"sum\": 0.46068621799349785, \"count\": 1, \"min\": 0.46068621799349785, \"max\": 0.46068621799349785}}}\u001b[0m\n",
      "\u001b[34m#metrics {\"StartTime\": 1726743434.1617622, \"EndTime\": 1726743434.1617756, \"Dimensions\": {\"Algorithm\": \"Linear Learner\", \"Host\": \"algo-1\", \"Operation\": \"training\", \"epoch\": 3, \"model\": 19}, \"Metrics\": {\"train_binary_classification_cross_entropy_objective\": {\"sum\": 0.4615860138833523, \"count\": 1, \"min\": 0.4615860138833523, \"max\": 0.4615860138833523}}}\u001b[0m\n",
      "\u001b[34m#metrics {\"StartTime\": 1726743434.1618135, \"EndTime\": 1726743434.1618462, \"Dimensions\": {\"Algorithm\": \"Linear Learner\", \"Host\": \"algo-1\", \"Operation\": \"training\", \"epoch\": 3, \"model\": 20}, \"Metrics\": {\"train_binary_classification_cross_entropy_objective\": {\"sum\": 0.5024014791473747, \"count\": 1, \"min\": 0.5024014791473747, \"max\": 0.5024014791473747}}}\u001b[0m\n",
      "\u001b[34m#metrics {\"StartTime\": 1726743434.161908, \"EndTime\": 1726743434.1619196, \"Dimensions\": {\"Algorithm\": \"Linear Learner\", \"Host\": \"algo-1\", \"Operation\": \"training\", \"epoch\": 3, \"model\": 21}, \"Metrics\": {\"train_binary_classification_cross_entropy_objective\": {\"sum\": 0.5454758618120104, \"count\": 1, \"min\": 0.5454758618120104, \"max\": 0.5454758618120104}}}\u001b[0m\n",
      "\u001b[34m#metrics {\"StartTime\": 1726743434.1619937, \"EndTime\": 1726743434.162006, \"Dimensions\": {\"Algorithm\": \"Linear Learner\", \"Host\": \"algo-1\", \"Operation\": \"training\", \"epoch\": 3, \"model\": 22}, \"Metrics\": {\"train_binary_classification_cross_entropy_objective\": {\"sum\": 0.5023504888825119, \"count\": 1, \"min\": 0.5023504888825119, \"max\": 0.5023504888825119}}}\u001b[0m\n",
      "\u001b[34m#metrics {\"StartTime\": 1726743434.1620786, \"EndTime\": 1726743434.1620905, \"Dimensions\": {\"Algorithm\": \"Linear Learner\", \"Host\": \"algo-1\", \"Operation\": \"training\", \"epoch\": 3, \"model\": 23}, \"Metrics\": {\"train_binary_classification_cross_entropy_objective\": {\"sum\": 0.5454623132199049, \"count\": 1, \"min\": 0.5454623132199049, \"max\": 0.5454623132199049}}}\u001b[0m\n",
      "\u001b[34m#metrics {\"StartTime\": 1726743434.1621234, \"EndTime\": 1726743434.1621664, \"Dimensions\": {\"Algorithm\": \"Linear Learner\", \"Host\": \"algo-1\", \"Operation\": \"training\", \"epoch\": 3, \"model\": 24}, \"Metrics\": {\"train_binary_classification_cross_entropy_objective\": {\"sum\": 0.48691639825701716, \"count\": 1, \"min\": 0.48691639825701716, \"max\": 0.48691639825701716}}}\u001b[0m\n",
      "\u001b[34m#metrics {\"StartTime\": 1726743434.1622036, \"EndTime\": 1726743434.1622403, \"Dimensions\": {\"Algorithm\": \"Linear Learner\", \"Host\": \"algo-1\", \"Operation\": \"training\", \"epoch\": 3, \"model\": 25}, \"Metrics\": {\"train_binary_classification_cross_entropy_objective\": {\"sum\": 0.4877238739281893, \"count\": 1, \"min\": 0.4877238739281893, \"max\": 0.4877238739281893}}}\u001b[0m\n",
      "\u001b[34m#metrics {\"StartTime\": 1726743434.162279, \"EndTime\": 1726743434.1623108, \"Dimensions\": {\"Algorithm\": \"Linear Learner\", \"Host\": \"algo-1\", \"Operation\": \"training\", \"epoch\": 3, \"model\": 26}, \"Metrics\": {\"train_binary_classification_cross_entropy_objective\": {\"sum\": 0.48686580583453176, \"count\": 1, \"min\": 0.48686580583453176, \"max\": 0.48686580583453176}}}\u001b[0m\n",
      "\u001b[34m#metrics {\"StartTime\": 1726743434.162371, \"EndTime\": 1726743434.1623824, \"Dimensions\": {\"Algorithm\": \"Linear Learner\", \"Host\": \"algo-1\", \"Operation\": \"training\", \"epoch\": 3, \"model\": 27}, \"Metrics\": {\"train_binary_classification_cross_entropy_objective\": {\"sum\": 0.48765108644962313, \"count\": 1, \"min\": 0.48765108644962313, \"max\": 0.48765108644962313}}}\u001b[0m\n",
      "\u001b[34m#metrics {\"StartTime\": 1726743434.1624467, \"EndTime\": 1726743434.162467, \"Dimensions\": {\"Algorithm\": \"Linear Learner\", \"Host\": \"algo-1\", \"Operation\": \"training\", \"epoch\": 3, \"model\": 28}, \"Metrics\": {\"train_binary_classification_cross_entropy_objective\": {\"sum\": 0.524064913392067, \"count\": 1, \"min\": 0.524064913392067, \"max\": 0.524064913392067}}}\u001b[0m\n",
      "\u001b[34m#metrics {\"StartTime\": 1726743434.1625276, \"EndTime\": 1726743434.1625392, \"Dimensions\": {\"Algorithm\": \"Linear Learner\", \"Host\": \"algo-1\", \"Operation\": \"training\", \"epoch\": 3, \"model\": 29}, \"Metrics\": {\"train_binary_classification_cross_entropy_objective\": {\"sum\": 0.5591576278954744, \"count\": 1, \"min\": 0.5591576278954744, \"max\": 0.5591576278954744}}}\u001b[0m\n",
      "\u001b[34m#metrics {\"StartTime\": 1726743434.1625972, \"EndTime\": 1726743434.1626081, \"Dimensions\": {\"Algorithm\": \"Linear Learner\", \"Host\": \"algo-1\", \"Operation\": \"training\", \"epoch\": 3, \"model\": 30}, \"Metrics\": {\"train_binary_classification_cross_entropy_objective\": {\"sum\": 0.524346339982003, \"count\": 1, \"min\": 0.524346339982003, \"max\": 0.524346339982003}}}\u001b[0m\n",
      "\u001b[34m#metrics {\"StartTime\": 1726743434.1626787, \"EndTime\": 1726743434.162691, \"Dimensions\": {\"Algorithm\": \"Linear Learner\", \"Host\": \"algo-1\", \"Operation\": \"training\", \"epoch\": 3, \"model\": 31}, \"Metrics\": {\"train_binary_classification_cross_entropy_objective\": {\"sum\": 0.5589197567105293, \"count\": 1, \"min\": 0.5589197567105293, \"max\": 0.5589197567105293}}}\u001b[0m\n",
      "\u001b[34m[09/19/2024 10:57:14 INFO 139704748508992] #quality_metric: host=algo-1, epoch=3, train binary_classification_cross_entropy_objective <loss>=0.37820781126618386\u001b[0m\n",
      "\u001b[34m[09/19/2024 10:57:14 INFO 139704748508992] #early_stopping_criteria_metric: host=algo-1, epoch=3, criteria=binary_classification_cross_entropy_objective, value=0.37782835129648445\u001b[0m\n",
      "\u001b[34m[09/19/2024 10:57:14 INFO 139704748508992] Epoch 3: Loss improved. Updating best model\u001b[0m\n",
      "\u001b[34m[09/19/2024 10:57:14 INFO 139704748508992] Saving model for epoch: 3\u001b[0m\n",
      "\u001b[34m[09/19/2024 10:57:14 INFO 139704748508992] Saved checkpoint to \"/tmp/tmpzs4wvily/mx-mod-0000.params\"\u001b[0m\n",
      "\u001b[34m[09/19/2024 10:57:14 INFO 139704748508992] #progress_metric: host=algo-1, completed 80.0 % of epochs\u001b[0m\n",
      "\u001b[34m#metrics {\"StartTime\": 1726743430.51021, \"EndTime\": 1726743434.1697524, \"Dimensions\": {\"Algorithm\": \"Linear Learner\", \"Host\": \"algo-1\", \"Operation\": \"training\", \"epoch\": 3, \"Meta\": \"training_data_iter\"}, \"Metrics\": {\"Total Records Seen\": {\"sum\": 4005.0, \"count\": 1, \"min\": 4005, \"max\": 4005}, \"Total Batches Seen\": {\"sum\": 801.0, \"count\": 1, \"min\": 801, \"max\": 801}, \"Max Records Seen Between Resets\": {\"sum\": 800.0, \"count\": 1, \"min\": 800, \"max\": 800}, \"Max Batches Seen Between Resets\": {\"sum\": 160.0, \"count\": 1, \"min\": 160, \"max\": 160}, \"Reset Count\": {\"sum\": 6.0, \"count\": 1, \"min\": 6, \"max\": 6}, \"Number of Records Since Last Reset\": {\"sum\": 800.0, \"count\": 1, \"min\": 800, \"max\": 800}, \"Number of Batches Since Last Reset\": {\"sum\": 160.0, \"count\": 1, \"min\": 160, \"max\": 160}}}\u001b[0m\n",
      "\u001b[34m[09/19/2024 10:57:14 INFO 139704748508992] #throughput_metric: host=algo-1, train throughput=218.5945943973951 records/second\u001b[0m\n",
      "\u001b[34m[2024-09-19 10:57:17.819] [tensorio] [info] epoch_stats={\"data_pipeline\": \"/opt/ml/input/data/train\", \"epoch\": 12, \"duration\": 3649, \"num_examples\": 160, \"num_bytes\": 112000}\u001b[0m\n",
      "\u001b[34m#metrics {\"StartTime\": 1726743437.8194482, \"EndTime\": 1726743437.8195293, \"Dimensions\": {\"Algorithm\": \"Linear Learner\", \"Host\": \"algo-1\", \"Operation\": \"training\", \"epoch\": 4, \"model\": 0}, \"Metrics\": {\"train_binary_classification_cross_entropy_objective\": {\"sum\": 0.37413157891482113, \"count\": 1, \"min\": 0.37413157891482113, \"max\": 0.37413157891482113}}}\u001b[0m\n",
      "\u001b[34m#metrics {\"StartTime\": 1726743437.8197157, \"EndTime\": 1726743437.8197422, \"Dimensions\": {\"Algorithm\": \"Linear Learner\", \"Host\": \"algo-1\", \"Operation\": \"training\", \"epoch\": 4, \"model\": 1}, \"Metrics\": {\"train_binary_classification_cross_entropy_objective\": {\"sum\": 0.37490762028843166, \"count\": 1, \"min\": 0.37490762028843166, \"max\": 0.37490762028843166}}}\u001b[0m\n",
      "\u001b[34m#metrics {\"StartTime\": 1726743437.8197997, \"EndTime\": 1726743437.8198125, \"Dimensions\": {\"Algorithm\": \"Linear Learner\", \"Host\": \"algo-1\", \"Operation\": \"training\", \"epoch\": 4, \"model\": 2}, \"Metrics\": {\"train_binary_classification_cross_entropy_objective\": {\"sum\": 0.37412179972976445, \"count\": 1, \"min\": 0.37412179972976445, \"max\": 0.37412179972976445}}}\u001b[0m\n",
      "\u001b[34m#metrics {\"StartTime\": 1726743437.8198714, \"EndTime\": 1726743437.8198833, \"Dimensions\": {\"Algorithm\": \"Linear Learner\", \"Host\": \"algo-1\", \"Operation\": \"training\", \"epoch\": 4, \"model\": 3}, \"Metrics\": {\"train_binary_classification_cross_entropy_objective\": {\"sum\": 0.37492432789877056, \"count\": 1, \"min\": 0.37492432789877056, \"max\": 0.37492432789877056}}}\u001b[0m\n",
      "\u001b[34m#metrics {\"StartTime\": 1726743437.8199248, \"EndTime\": 1726743437.8199441, \"Dimensions\": {\"Algorithm\": \"Linear Learner\", \"Host\": \"algo-1\", \"Operation\": \"training\", \"epoch\": 4, \"model\": 4}, \"Metrics\": {\"train_binary_classification_cross_entropy_objective\": {\"sum\": 0.44985916164238005, \"count\": 1, \"min\": 0.44985916164238005, \"max\": 0.44985916164238005}}}\u001b[0m\n",
      "\u001b[34m#metrics {\"StartTime\": 1726743437.8199773, \"EndTime\": 1726743437.8199859, \"Dimensions\": {\"Algorithm\": \"Linear Learner\", \"Host\": \"algo-1\", \"Operation\": \"training\", \"epoch\": 4, \"model\": 5}, \"Metrics\": {\"train_binary_classification_cross_entropy_objective\": {\"sum\": 0.5409720562200527, \"count\": 1, \"min\": 0.5409720562200527, \"max\": 0.5409720562200527}}}\u001b[0m\n",
      "\u001b[34m#metrics {\"StartTime\": 1726743437.8200145, \"EndTime\": 1726743437.8200226, \"Dimensions\": {\"Algorithm\": \"Linear Learner\", \"Host\": \"algo-1\", \"Operation\": \"training\", \"epoch\": 4, \"model\": 6}, \"Metrics\": {\"train_binary_classification_cross_entropy_objective\": {\"sum\": 0.44985907497815786, \"count\": 1, \"min\": 0.44985907497815786, \"max\": 0.44985907497815786}}}\u001b[0m\n",
      "\u001b[34m#metrics {\"StartTime\": 1726743437.820051, \"EndTime\": 1726743437.8200583, \"Dimensions\": {\"Algorithm\": \"Linear Learner\", \"Host\": \"algo-1\", \"Operation\": \"training\", \"epoch\": 4, \"model\": 7}, \"Metrics\": {\"train_binary_classification_cross_entropy_objective\": {\"sum\": 0.5410538158327108, \"count\": 1, \"min\": 0.5410538158327108, \"max\": 0.5410538158327108}}}\u001b[0m\n",
      "\u001b[34m#metrics {\"StartTime\": 1726743437.8200905, \"EndTime\": 1726743437.820099, \"Dimensions\": {\"Algorithm\": \"Linear Learner\", \"Host\": \"algo-1\", \"Operation\": \"training\", \"epoch\": 4, \"model\": 8}, \"Metrics\": {\"train_binary_classification_cross_entropy_objective\": {\"sum\": 0.37620945151895285, \"count\": 1, \"min\": 0.37620945151895285, \"max\": 0.37620945151895285}}}\u001b[0m\n",
      "\u001b[34m#metrics {\"StartTime\": 1726743437.820127, \"EndTime\": 1726743437.8201346, \"Dimensions\": {\"Algorithm\": \"Linear Learner\", \"Host\": \"algo-1\", \"Operation\": \"training\", \"epoch\": 4, \"model\": 9}, \"Metrics\": {\"train_binary_classification_cross_entropy_objective\": {\"sum\": 0.3764275380223989, \"count\": 1, \"min\": 0.3764275380223989, \"max\": 0.3764275380223989}}}\u001b[0m\n",
      "\u001b[34m#metrics {\"StartTime\": 1726743437.8201632, \"EndTime\": 1726743437.820171, \"Dimensions\": {\"Algorithm\": \"Linear Learner\", \"Host\": \"algo-1\", \"Operation\": \"training\", \"epoch\": 4, \"model\": 10}, \"Metrics\": {\"train_binary_classification_cross_entropy_objective\": {\"sum\": 0.3753857932239771, \"count\": 1, \"min\": 0.3753857932239771, \"max\": 0.3753857932239771}}}\u001b[0m\n",
      "\u001b[34m#metrics {\"StartTime\": 1726743437.8202002, \"EndTime\": 1726743437.8202088, \"Dimensions\": {\"Algorithm\": \"Linear Learner\", \"Host\": \"algo-1\", \"Operation\": \"training\", \"epoch\": 4, \"model\": 11}, \"Metrics\": {\"train_binary_classification_cross_entropy_objective\": {\"sum\": 0.37632632434368135, \"count\": 1, \"min\": 0.37632632434368135, \"max\": 0.37632632434368135}}}\u001b[0m\n",
      "\u001b[34m#metrics {\"StartTime\": 1726743437.8202386, \"EndTime\": 1726743437.8202467, \"Dimensions\": {\"Algorithm\": \"Linear Learner\", \"Host\": \"algo-1\", \"Operation\": \"training\", \"epoch\": 4, \"model\": 12}, \"Metrics\": {\"train_binary_classification_cross_entropy_objective\": {\"sum\": 0.4442277543991804, \"count\": 1, \"min\": 0.4442277543991804, \"max\": 0.4442277543991804}}}\u001b[0m\n",
      "\u001b[34m#metrics {\"StartTime\": 1726743437.8202763, \"EndTime\": 1726743437.820284, \"Dimensions\": {\"Algorithm\": \"Linear Learner\", \"Host\": \"algo-1\", \"Operation\": \"training\", \"epoch\": 4, \"model\": 13}, \"Metrics\": {\"train_binary_classification_cross_entropy_objective\": {\"sum\": 0.5260645392164588, \"count\": 1, \"min\": 0.5260645392164588, \"max\": 0.5260645392164588}}}\u001b[0m\n",
      "\u001b[34m#metrics {\"StartTime\": 1726743437.820311, \"EndTime\": 1726743437.8203197, \"Dimensions\": {\"Algorithm\": \"Linear Learner\", \"Host\": \"algo-1\", \"Operation\": \"training\", \"epoch\": 4, \"model\": 14}, \"Metrics\": {\"train_binary_classification_cross_entropy_objective\": {\"sum\": 0.44423718145117164, \"count\": 1, \"min\": 0.44423718145117164, \"max\": 0.44423718145117164}}}\u001b[0m\n",
      "\u001b[34m#metrics {\"StartTime\": 1726743437.8203492, \"EndTime\": 1726743437.8203573, \"Dimensions\": {\"Algorithm\": \"Linear Learner\", \"Host\": \"algo-1\", \"Operation\": \"training\", \"epoch\": 4, \"model\": 15}, \"Metrics\": {\"train_binary_classification_cross_entropy_objective\": {\"sum\": 0.526164533989504, \"count\": 1, \"min\": 0.526164533989504, \"max\": 0.526164533989504}}}\u001b[0m\n",
      "\u001b[34m#metrics {\"StartTime\": 1726743437.820386, \"EndTime\": 1726743437.8203928, \"Dimensions\": {\"Algorithm\": \"Linear Learner\", \"Host\": \"algo-1\", \"Operation\": \"training\", \"epoch\": 4, \"model\": 16}, \"Metrics\": {\"train_binary_classification_cross_entropy_objective\": {\"sum\": 0.46023365736007693, \"count\": 1, \"min\": 0.46023365736007693, \"max\": 0.46023365736007693}}}\u001b[0m\n",
      "\u001b[34m#metrics {\"StartTime\": 1726743437.8204212, \"EndTime\": 1726743437.8204286, \"Dimensions\": {\"Algorithm\": \"Linear Learner\", \"Host\": \"algo-1\", \"Operation\": \"training\", \"epoch\": 4, \"model\": 17}, \"Metrics\": {\"train_binary_classification_cross_entropy_objective\": {\"sum\": 0.4616129784286022, \"count\": 1, \"min\": 0.4616129784286022, \"max\": 0.4616129784286022}}}\u001b[0m\n",
      "\u001b[34m#metrics {\"StartTime\": 1726743437.8204563, \"EndTime\": 1726743437.820464, \"Dimensions\": {\"Algorithm\": \"Linear Learner\", \"Host\": \"algo-1\", \"Operation\": \"training\", \"epoch\": 4, \"model\": 18}, \"Metrics\": {\"train_binary_classification_cross_entropy_objective\": {\"sum\": 0.46023274280130866, \"count\": 1, \"min\": 0.46023274280130866, \"max\": 0.46023274280130866}}}\u001b[0m\n",
      "\u001b[34m#metrics {\"StartTime\": 1726743437.820495, \"EndTime\": 1726743437.8205028, \"Dimensions\": {\"Algorithm\": \"Linear Learner\", \"Host\": \"algo-1\", \"Operation\": \"training\", \"epoch\": 4, \"model\": 19}, \"Metrics\": {\"train_binary_classification_cross_entropy_objective\": {\"sum\": 0.4616108340770006, \"count\": 1, \"min\": 0.4616108340770006, \"max\": 0.4616108340770006}}}\u001b[0m\n",
      "\u001b[34m#metrics {\"StartTime\": 1726743437.8205326, \"EndTime\": 1726743437.8205404, \"Dimensions\": {\"Algorithm\": \"Linear Learner\", \"Host\": \"algo-1\", \"Operation\": \"training\", \"epoch\": 4, \"model\": 20}, \"Metrics\": {\"train_binary_classification_cross_entropy_objective\": {\"sum\": 0.4945553492754698, \"count\": 1, \"min\": 0.4945553492754698, \"max\": 0.4945553492754698}}}\u001b[0m\n",
      "\u001b[34m#metrics {\"StartTime\": 1726743437.8205714, \"EndTime\": 1726743437.8205802, \"Dimensions\": {\"Algorithm\": \"Linear Learner\", \"Host\": \"algo-1\", \"Operation\": \"training\", \"epoch\": 4, \"model\": 21}, \"Metrics\": {\"train_binary_classification_cross_entropy_objective\": {\"sum\": 0.5432915431633591, \"count\": 1, \"min\": 0.5432915431633591, \"max\": 0.5432915431633591}}}\u001b[0m\n",
      "\u001b[34m#metrics {\"StartTime\": 1726743437.8206103, \"EndTime\": 1726743437.820619, \"Dimensions\": {\"Algorithm\": \"Linear Learner\", \"Host\": \"algo-1\", \"Operation\": \"training\", \"epoch\": 4, \"model\": 22}, \"Metrics\": {\"train_binary_classification_cross_entropy_objective\": {\"sum\": 0.4945231537334621, \"count\": 1, \"min\": 0.4945231537334621, \"max\": 0.4945231537334621}}}\u001b[0m\n",
      "\u001b[34m#metrics {\"StartTime\": 1726743437.820648, \"EndTime\": 1726743437.820656, \"Dimensions\": {\"Algorithm\": \"Linear Learner\", \"Host\": \"algo-1\", \"Operation\": \"training\", \"epoch\": 4, \"model\": 23}, \"Metrics\": {\"train_binary_classification_cross_entropy_objective\": {\"sum\": 0.5432830734644085, \"count\": 1, \"min\": 0.5432830734644085, \"max\": 0.5432830734644085}}}\u001b[0m\n",
      "\u001b[34m#metrics {\"StartTime\": 1726743437.820687, \"EndTime\": 1726743437.8206947, \"Dimensions\": {\"Algorithm\": \"Linear Learner\", \"Host\": \"algo-1\", \"Operation\": \"training\", \"epoch\": 4, \"model\": 24}, \"Metrics\": {\"train_binary_classification_cross_entropy_objective\": {\"sum\": 0.4866834530979395, \"count\": 1, \"min\": 0.4866834530979395, \"max\": 0.4866834530979395}}}\u001b[0m\n",
      "\u001b[34m#metrics {\"StartTime\": 1726743437.8207242, \"EndTime\": 1726743437.8207326, \"Dimensions\": {\"Algorithm\": \"Linear Learner\", \"Host\": \"algo-1\", \"Operation\": \"training\", \"epoch\": 4, \"model\": 25}, \"Metrics\": {\"train_binary_classification_cross_entropy_objective\": {\"sum\": 0.48773265928030013, \"count\": 1, \"min\": 0.48773265928030013, \"max\": 0.48773265928030013}}}\u001b[0m\n",
      "\u001b[34m#metrics {\"StartTime\": 1726743437.8207633, \"EndTime\": 1726743437.8207726, \"Dimensions\": {\"Algorithm\": \"Linear Learner\", \"Host\": \"algo-1\", \"Operation\": \"training\", \"epoch\": 4, \"model\": 26}, \"Metrics\": {\"train_binary_classification_cross_entropy_objective\": {\"sum\": 0.486642187461257, \"count\": 1, \"min\": 0.486642187461257, \"max\": 0.486642187461257}}}\u001b[0m\n",
      "\u001b[34m#metrics {\"StartTime\": 1726743437.8208025, \"EndTime\": 1726743437.8208113, \"Dimensions\": {\"Algorithm\": \"Linear Learner\", \"Host\": \"algo-1\", \"Operation\": \"training\", \"epoch\": 4, \"model\": 27}, \"Metrics\": {\"train_binary_classification_cross_entropy_objective\": {\"sum\": 0.48767993681132793, \"count\": 1, \"min\": 0.48767993681132793, \"max\": 0.48767993681132793}}}\u001b[0m\n",
      "\u001b[34m#metrics {\"StartTime\": 1726743437.8208404, \"EndTime\": 1726743437.8208487, \"Dimensions\": {\"Algorithm\": \"Linear Learner\", \"Host\": \"algo-1\", \"Operation\": \"training\", \"epoch\": 4, \"model\": 28}, \"Metrics\": {\"train_binary_classification_cross_entropy_objective\": {\"sum\": 0.5171613238751889, \"count\": 1, \"min\": 0.5171613238751889, \"max\": 0.5171613238751889}}}\u001b[0m\n",
      "\u001b[34m#metrics {\"StartTime\": 1726743437.8208802, \"EndTime\": 1726743437.8208883, \"Dimensions\": {\"Algorithm\": \"Linear Learner\", \"Host\": \"algo-1\", \"Operation\": \"training\", \"epoch\": 4, \"model\": 29}, \"Metrics\": {\"train_binary_classification_cross_entropy_objective\": {\"sum\": 0.5575293504446744, \"count\": 1, \"min\": 0.5575293504446744, \"max\": 0.5575293504446744}}}\u001b[0m\n",
      "\u001b[34m#metrics {\"StartTime\": 1726743437.8209183, \"EndTime\": 1726743437.820926, \"Dimensions\": {\"Algorithm\": \"Linear Learner\", \"Host\": \"algo-1\", \"Operation\": \"training\", \"epoch\": 4, \"model\": 30}, \"Metrics\": {\"train_binary_classification_cross_entropy_objective\": {\"sum\": 0.517214240655303, \"count\": 1, \"min\": 0.517214240655303, \"max\": 0.517214240655303}}}\u001b[0m\n",
      "\u001b[34m#metrics {\"StartTime\": 1726743437.8209572, \"EndTime\": 1726743437.8209662, \"Dimensions\": {\"Algorithm\": \"Linear Learner\", \"Host\": \"algo-1\", \"Operation\": \"training\", \"epoch\": 4, \"model\": 31}, \"Metrics\": {\"train_binary_classification_cross_entropy_objective\": {\"sum\": 0.5573365912307053, \"count\": 1, \"min\": 0.5573365912307053, \"max\": 0.5573365912307053}}}\u001b[0m\n",
      "\u001b[34m[09/19/2024 10:57:17 INFO 139704748508992] #quality_metric: host=algo-1, epoch=4, train binary_classification_cross_entropy_objective <loss>=0.37413157891482113\u001b[0m\n",
      "\u001b[34m[09/19/2024 10:57:17 INFO 139704748508992] #early_stopping_criteria_metric: host=algo-1, epoch=4, criteria=binary_classification_cross_entropy_objective, value=0.37412179972976445\u001b[0m\n",
      "\u001b[34m[09/19/2024 10:57:17 INFO 139704748508992] Epoch 4: Loss improved. Updating best model\u001b[0m\n",
      "\u001b[34m[09/19/2024 10:57:17 INFO 139704748508992] Saving model for epoch: 4\u001b[0m\n",
      "\u001b[34m[09/19/2024 10:57:17 INFO 139704748508992] Saved checkpoint to \"/tmp/tmprodjodw9/mx-mod-0000.params\"\u001b[0m\n",
      "\u001b[34m[09/19/2024 10:57:17 INFO 139704748508992] #progress_metric: host=algo-1, completed 100.0 % of epochs\u001b[0m\n",
      "\u001b[34m#metrics {\"StartTime\": 1726743434.170104, \"EndTime\": 1726743437.828932, \"Dimensions\": {\"Algorithm\": \"Linear Learner\", \"Host\": \"algo-1\", \"Operation\": \"training\", \"epoch\": 4, \"Meta\": \"training_data_iter\"}, \"Metrics\": {\"Total Records Seen\": {\"sum\": 4805.0, \"count\": 1, \"min\": 4805, \"max\": 4805}, \"Total Batches Seen\": {\"sum\": 961.0, \"count\": 1, \"min\": 961, \"max\": 961}, \"Max Records Seen Between Resets\": {\"sum\": 800.0, \"count\": 1, \"min\": 800, \"max\": 800}, \"Max Batches Seen Between Resets\": {\"sum\": 160.0, \"count\": 1, \"min\": 160, \"max\": 160}, \"Reset Count\": {\"sum\": 7.0, \"count\": 1, \"min\": 7, \"max\": 7}, \"Number of Records Since Last Reset\": {\"sum\": 800.0, \"count\": 1, \"min\": 800, \"max\": 800}, \"Number of Batches Since Last Reset\": {\"sum\": 160.0, \"count\": 1, \"min\": 160, \"max\": 160}}}\u001b[0m\n",
      "\u001b[34m[09/19/2024 10:57:17 INFO 139704748508992] #throughput_metric: host=algo-1, train throughput=218.64084347859006 records/second\u001b[0m\n",
      "\u001b[34m[09/19/2024 10:57:17 WARNING 139704748508992] wait_for_all_workers will not sync workers since the kv store is not running distributed\u001b[0m\n",
      "\u001b[34m[09/19/2024 10:57:17 WARNING 139704748508992] wait_for_all_workers will not sync workers since the kv store is not running distributed\u001b[0m\n",
      "\u001b[34m[2024-09-19 10:57:17.832] [tensorio] [info] epoch_stats={\"data_pipeline\": \"/opt/ml/input/data/train\", \"epoch\": 14, \"duration\": 0, \"num_examples\": 1, \"num_bytes\": 700}\u001b[0m\n",
      "\u001b[34m[2024-09-19 10:57:18.181] [tensorio] [info] epoch_stats={\"data_pipeline\": \"/opt/ml/input/data/train\", \"epoch\": 17, \"duration\": 346, \"num_examples\": 160, \"num_bytes\": 112000}\u001b[0m\n",
      "\u001b[34m[2024-09-19 10:57:18.509] [tensorio] [info] epoch_stats={\"data_pipeline\": \"/opt/ml/input/data/train\", \"epoch\": 19, \"duration\": 317, \"num_examples\": 160, \"num_bytes\": 112000}\u001b[0m\n",
      "\u001b[34m[09/19/2024 10:57:18 INFO 139704748508992] #train_score (algo-1) : ('binary_classification_cross_entropy_objective', 0.36781981475651265)\u001b[0m\n",
      "\u001b[34m[09/19/2024 10:57:18 INFO 139704748508992] #train_score (algo-1) : ('binary_classification_accuracy', 0.85375)\u001b[0m\n",
      "\u001b[34m[09/19/2024 10:57:18 INFO 139704748508992] #train_score (algo-1) : ('binary_f_1.000', 0.4845814977973568)\u001b[0m\n",
      "\u001b[34m[09/19/2024 10:57:18 INFO 139704748508992] #train_score (algo-1) : ('precision', 0.7236842105263158)\u001b[0m\n",
      "\u001b[34m[09/19/2024 10:57:18 INFO 139704748508992] #train_score (algo-1) : ('recall', 0.36423841059602646)\u001b[0m\n",
      "\u001b[34m[09/19/2024 10:57:18 INFO 139704748508992] #train_score (algo-1) : ('roc_auc_score', 0.8328554373003807)\u001b[0m\n",
      "\u001b[34m[09/19/2024 10:57:18 INFO 139704748508992] #train_score (algo-1) : ('binary_balanced_accuracy', 0.5)\u001b[0m\n",
      "\u001b[34m[09/19/2024 10:57:18 INFO 139704748508992] #train_score (algo-1) : ('binary_log_loss', 0.730742081069093)\u001b[0m\n",
      "\u001b[34m[09/19/2024 10:57:18 INFO 139704748508992] #quality_metric: host=algo-1, train binary_classification_cross_entropy_objective <loss>=0.36781981475651265\u001b[0m\n",
      "\u001b[34m[09/19/2024 10:57:18 INFO 139704748508992] #quality_metric: host=algo-1, train binary_classification_accuracy <score>=0.85375\u001b[0m\n",
      "\u001b[34m[09/19/2024 10:57:18 INFO 139704748508992] #quality_metric: host=algo-1, train binary_f_1.000 <score>=0.4845814977973568\u001b[0m\n",
      "\u001b[34m[09/19/2024 10:57:18 INFO 139704748508992] #quality_metric: host=algo-1, train precision <score>=0.7236842105263158\u001b[0m\n",
      "\u001b[34m[09/19/2024 10:57:18 INFO 139704748508992] #quality_metric: host=algo-1, train recall <score>=0.36423841059602646\u001b[0m\n",
      "\u001b[34m[09/19/2024 10:57:18 INFO 139704748508992] #quality_metric: host=algo-1, train roc_auc_score <score>=0.8328554373003807\u001b[0m\n",
      "\u001b[34m[09/19/2024 10:57:18 INFO 139704748508992] #quality_metric: host=algo-1, train binary_balanced_accuracy <score>=0.5\u001b[0m\n",
      "\u001b[34m[09/19/2024 10:57:18 INFO 139704748508992] #quality_metric: host=algo-1, train binary_log_loss <score>=0.730742081069093\u001b[0m\n",
      "\u001b[34m[09/19/2024 10:57:18 INFO 139704748508992] Best model found for hyperparameters: {\"optimizer\": \"adam\", \"learning_rate\": 0.005, \"wd\": 0.0001, \"l1\": 0.0, \"lr_scheduler_step\": 10, \"lr_scheduler_factor\": 0.99, \"lr_scheduler_minimum_lr\": 0.0001}\u001b[0m\n",
      "\u001b[34m[09/19/2024 10:57:18 INFO 139704748508992] Saved checkpoint to \"/tmp/tmpnwlscscb/mx-mod-0000.params\"\u001b[0m\n",
      "\u001b[34m[09/19/2024 10:57:18 INFO 139704748508992] Test data is not provided.\u001b[0m\n",
      "\u001b[34m#metrics {\"StartTime\": 1726743417.0111327, \"EndTime\": 1726743438.5205889, \"Dimensions\": {\"Algorithm\": \"Linear Learner\", \"Host\": \"algo-1\", \"Operation\": \"training\"}, \"Metrics\": {\"initialize.time\": {\"sum\": 517.2898769378662, \"count\": 1, \"min\": 517.2898769378662, \"max\": 517.2898769378662}, \"epochs\": {\"sum\": 5.0, \"count\": 1, \"min\": 5, \"max\": 5}, \"check_early_stopping.time\": {\"sum\": 4.343509674072266, \"count\": 5, \"min\": 0.8370876312255859, \"max\": 0.8997917175292969}, \"update.time\": {\"sum\": 20285.067319869995, \"count\": 5, \"min\": 3643.9411640167236, \"max\": 5635.651111602783}, \"finalize.time\": {\"sum\": 684.0405464172363, \"count\": 1, \"min\": 684.0405464172363, \"max\": 684.0405464172363}, \"setuptime\": {\"sum\": 2.1445751190185547, \"count\": 1, \"min\": 2.1445751190185547, \"max\": 2.1445751190185547}, \"totaltime\": {\"sum\": 21615.05675315857, \"count\": 1, \"min\": 21615.05675315857, \"max\": 21615.05675315857}}}\u001b[0m\n"
     ]
    },
    {
     "name": "stdout",
     "output_type": "stream",
     "text": [
      "\n",
      "2024-09-19 10:57:39 Uploading - Uploading generated training model\n",
      "2024-09-19 10:57:39 Completed - Training job completed\n",
      "Training seconds: 171\n",
      "Billable seconds: 171\n"
     ]
    }
   ],
   "source": [
    "# Pass in the training data from S3 to train the classification model\n",
    "linear_classifier.fit({'train': s3_train_data})"
   ]
  },
  {
   "cell_type": "code",
   "execution_count": 22,
   "id": "f79a7341-b16e-4a64-99f5-4c6ef32cb3a6",
   "metadata": {
    "tags": []
   },
   "outputs": [
    {
     "name": "stderr",
     "output_type": "stream",
     "text": [
      "INFO:sagemaker:Creating model with name: linear-learner-2024-09-19-11-02-41-442\n",
      "INFO:sagemaker:Creating endpoint-config with name linear-learner-2024-09-19-11-02-41-442\n",
      "INFO:sagemaker:Creating endpoint with name linear-learner-2024-09-19-11-02-41-442\n"
     ]
    },
    {
     "name": "stdout",
     "output_type": "stream",
     "text": [
      "-------!"
     ]
    }
   ],
   "source": [
    "# Deploy the model after training\n",
    "linear_classifier_predictor = linear_classifier.deploy(\n",
    "    initial_instance_count=1,\n",
    "    instance_type='ml.m5.large'\n",
    ")\n",
    "\n",
    "# Now we define how the input will be serialized before sending it to the endpoint and how the output will be deserialized\n",
    "from sagemaker.serializers import CSVSerializer\n",
    "from sagemaker.deserializers import JSONDeserializer\n",
    "\n",
    "# Set the serializer and deserializer\n",
    "linear_classifier_predictor.serializer = CSVSerializer()  # Serializes input data into CSV format for the model\n",
    "linear_classifier_predictor.deserializer = JSONDeserializer()  # Deserializes output from JSON"
   ]
  },
  {
   "cell_type": "code",
   "execution_count": 58,
   "id": "94b2a922-7075-43b3-bc84-9d51de7457d2",
   "metadata": {
    "tags": []
   },
   "outputs": [
    {
     "name": "stdout",
     "output_type": "stream",
     "text": [
      "Predictions:  {'predictions': [{'score': 0.1697852462530136, 'predicted_label': 0}, {'score': 0.3657095730304718, 'predicted_label': 0}, {'score': 0.3799239993095398, 'predicted_label': 0}, {'score': 0.2614441215991974, 'predicted_label': 0}, {'score': 0.5143691897392273, 'predicted_label': 1}, {'score': 0.049808427691459656, 'predicted_label': 0}, {'score': 0.2558673918247223, 'predicted_label': 0}, {'score': 0.0340065099298954, 'predicted_label': 0}, {'score': 0.09319023042917252, 'predicted_label': 0}, {'score': 0.11408821493387222, 'predicted_label': 0}]}\n"
     ]
    }
   ],
   "source": [
    "\n",
    "\n",
    "# Sample test input (replace 'X_test_sample' with actual sample data for testing)\n",
    "X_test_sample = X_test_np[0:10]  # You can select a portion of your test data to make a prediction\n",
    "\n",
    "# Convert the NumPy array sample to CSV format and make predictions\n",
    "predictions = linear_classifier_predictor.predict(X_test_sample)\n",
    "\n",
    "# Print out the prediction\n",
    "print(\"Predictions: \", predictions)\n",
    "\n",
    "# Cleanup: Delete the endpoint when you're done\n",
    "# linear_classifier_predictor.delete_endpoint()\n"
   ]
  },
  {
   "cell_type": "code",
   "execution_count": null,
   "id": "2b7e090a-90ad-4810-8f98-c5a3bf1ef49b",
   "metadata": {},
   "outputs": [],
   "source": []
  },
  {
   "cell_type": "code",
   "execution_count": 23,
   "id": "3ddc02a6-a1ad-4f0d-a09b-71c0664b4471",
   "metadata": {
    "tags": []
   },
   "outputs": [
    {
     "name": "stderr",
     "output_type": "stream",
     "text": [
      "INFO:sagemaker:Deleting endpoint configuration with name: linear-learner-2024-09-19-11-02-41-442\n",
      "INFO:sagemaker:Deleting endpoint with name: linear-learner-2024-09-19-11-02-41-442\n"
     ]
    }
   ],
   "source": [
    "# Cleanup: Delete the endpoint when you're done\n",
    "linear_classifier_predictor.delete_endpoint()"
   ]
  },
  {
   "cell_type": "raw",
   "id": "b8f4a88b-0b5d-4b02-a965-b54eb72541db",
   "metadata": {},
   "source": [
    "###metrix"
   ]
  },
  {
   "cell_type": "code",
   "execution_count": 5,
   "id": "1b270e17-b677-46b4-9b26-1769677a1d9c",
   "metadata": {
    "tags": []
   },
   "outputs": [],
   "source": [
    "import boto3\n",
    "import sagemaker\n",
    "import boto3 \n",
    "from sagemaker import Session"
   ]
  },
  {
   "cell_type": "code",
   "execution_count": 6,
   "id": "0ca016da-dd8e-4f37-9440-ea61990c1fcc",
   "metadata": {
    "tags": []
   },
   "outputs": [],
   "source": [
    "role = sagemaker.get_execution_role()"
   ]
  },
  {
   "cell_type": "code",
   "execution_count": 24,
   "id": "4708b8a6-0a00-4973-9f08-530fcfcced48",
   "metadata": {
    "tags": []
   },
   "outputs": [],
   "source": [
    "# from sagemaker import linear_classifier\n",
    "# from sagemaker.model import Model\n",
    "\n",
    "# # Replace with your S3 model artifact path\n",
    "# model_artifact_path = 's3://sagemaker-eu-north-1-686583312671/claim_prop_prod_v1/output/linear-learner-2024-09-17-08-57-03-107/output/model.tar.gz'\n",
    "\n",
    "# # # Define the model\n",
    "# linear_classifier = linear_classifier(role=role,\n",
    "#                                   instance_count=1,\n",
    "#                                   instance_type='ml.m5.large',\n",
    "#                                   model_uri=model_artifact_path)\n",
    "\n",
    "# INSTEAD\n",
    "from sagemaker import LinearLearner\n",
    "output_location = 's3://sagemaker-eu-north-1-686583312671/claim_prop_prod_v1/output'\n",
    "linear_classifier = LinearLearner(\n",
    "    role=role,\n",
    "    instance_count=1,\n",
    "    instance_type='ml.m5.large',\n",
    "    predictor_type='binary_classifier',\n",
    "    output_path=output_location,\n",
    "    epochs=5,\n",
    "    mini_batch_size=5\n",
    ")\n"
   ]
  },
  {
   "cell_type": "code",
   "execution_count": 13,
   "id": "4716d379-bee3-4bd0-b259-fac7b3d0f739",
   "metadata": {
    "tags": []
   },
   "outputs": [
    {
     "ename": "ValueError",
     "evalue": "Estimator is not associated with a training job",
     "output_type": "error",
     "traceback": [
      "\u001b[0;31m---------------------------------------------------------------------------\u001b[0m",
      "\u001b[0;31mValueError\u001b[0m                                Traceback (most recent call last)",
      "Cell \u001b[0;32mIn[13], line 2\u001b[0m\n\u001b[1;32m      1\u001b[0m \u001b[38;5;66;03m# Deploy the model\u001b[39;00m\n\u001b[0;32m----> 2\u001b[0m linear_classifier_predictor_v2 \u001b[38;5;241m=\u001b[39m \u001b[43mlinear_classifier\u001b[49m\u001b[38;5;241;43m.\u001b[39;49m\u001b[43mdeploy\u001b[49m\u001b[43m(\u001b[49m\n\u001b[1;32m      3\u001b[0m \u001b[43m    \u001b[49m\u001b[43minitial_instance_count\u001b[49m\u001b[38;5;241;43m=\u001b[39;49m\u001b[38;5;241;43m1\u001b[39;49m\u001b[43m,\u001b[49m\n\u001b[1;32m      4\u001b[0m \u001b[43m    \u001b[49m\u001b[43minstance_type\u001b[49m\u001b[38;5;241;43m=\u001b[39;49m\u001b[38;5;124;43m'\u001b[39;49m\u001b[38;5;124;43mml.m5.large\u001b[39;49m\u001b[38;5;124;43m'\u001b[39;49m\n\u001b[1;32m      5\u001b[0m \u001b[43m)\u001b[49m\n",
      "File \u001b[0;32m~/anaconda3/envs/python3/lib/python3.10/site-packages/sagemaker/estimator.py:1671\u001b[0m, in \u001b[0;36mEstimatorBase.deploy\u001b[0;34m(self, initial_instance_count, instance_type, serializer, deserializer, accelerator_type, endpoint_name, use_compiled_model, wait, model_name, kms_key, data_capture_config, tags, serverless_inference_config, async_inference_config, volume_size, model_data_download_timeout, container_startup_health_check_timeout, inference_recommendation_id, explainer_config, **kwargs)\u001b[0m\n\u001b[1;32m   1669\u001b[0m removed_kwargs(\u001b[38;5;124m\"\u001b[39m\u001b[38;5;124mupdate_endpoint\u001b[39m\u001b[38;5;124m\"\u001b[39m, kwargs)\n\u001b[1;32m   1670\u001b[0m is_serverless \u001b[38;5;241m=\u001b[39m serverless_inference_config \u001b[38;5;129;01mis\u001b[39;00m \u001b[38;5;129;01mnot\u001b[39;00m \u001b[38;5;28;01mNone\u001b[39;00m\n\u001b[0;32m-> 1671\u001b[0m \u001b[38;5;28;43mself\u001b[39;49m\u001b[38;5;241;43m.\u001b[39;49m\u001b[43m_ensure_latest_training_job\u001b[49m\u001b[43m(\u001b[49m\u001b[43m)\u001b[49m\n\u001b[1;32m   1672\u001b[0m \u001b[38;5;28mself\u001b[39m\u001b[38;5;241m.\u001b[39m_ensure_base_job_name()\n\u001b[1;32m   1674\u001b[0m jumpstart_base_name \u001b[38;5;241m=\u001b[39m get_jumpstart_base_name_if_jumpstart_model(\n\u001b[1;32m   1675\u001b[0m     kwargs\u001b[38;5;241m.\u001b[39mget(\u001b[38;5;124m\"\u001b[39m\u001b[38;5;124msource_dir\u001b[39m\u001b[38;5;124m\"\u001b[39m), \u001b[38;5;28mself\u001b[39m\u001b[38;5;241m.\u001b[39msource_dir, kwargs\u001b[38;5;241m.\u001b[39mget(\u001b[38;5;124m\"\u001b[39m\u001b[38;5;124mmodel_data\u001b[39m\u001b[38;5;124m\"\u001b[39m), \u001b[38;5;28mself\u001b[39m\u001b[38;5;241m.\u001b[39mmodel_uri\n\u001b[1;32m   1676\u001b[0m )\n",
      "File \u001b[0;32m~/anaconda3/envs/python3/lib/python3.10/site-packages/sagemaker/estimator.py:2202\u001b[0m, in \u001b[0;36mEstimatorBase._ensure_latest_training_job\u001b[0;34m(self, error_message)\u001b[0m\n\u001b[1;32m   2200\u001b[0m \u001b[38;5;250m\u001b[39m\u001b[38;5;124;03m\"\"\"Placeholder docstring\"\"\"\u001b[39;00m\n\u001b[1;32m   2201\u001b[0m \u001b[38;5;28;01mif\u001b[39;00m \u001b[38;5;28mself\u001b[39m\u001b[38;5;241m.\u001b[39mlatest_training_job \u001b[38;5;129;01mis\u001b[39;00m \u001b[38;5;28;01mNone\u001b[39;00m:\n\u001b[0;32m-> 2202\u001b[0m     \u001b[38;5;28;01mraise\u001b[39;00m \u001b[38;5;167;01mValueError\u001b[39;00m(error_message)\n",
      "\u001b[0;31mValueError\u001b[0m: Estimator is not associated with a training job"
     ]
    }
   ],
   "source": [
    "# # Deploy the model\n",
    "# linear_classifier_predictor_v2 = linear_classifier.deploy(\n",
    "#     initial_instance_count=1,\n",
    "#     instance_type='ml.m5.large'\n",
    "# )"
   ]
  },
  {
   "cell_type": "code",
   "execution_count": 18,
   "id": "7632755c-b174-4a9c-b96f-422d8f14280f",
   "metadata": {
    "tags": []
   },
   "outputs": [
    {
     "ename": "TypeError",
     "evalue": "expected string or bytes-like object",
     "output_type": "error",
     "traceback": [
      "\u001b[0;31m---------------------------------------------------------------------------\u001b[0m",
      "\u001b[0;31mTypeError\u001b[0m                                 Traceback (most recent call last)",
      "Cell \u001b[0;32mIn[18], line 20\u001b[0m\n\u001b[1;32m     13\u001b[0m model \u001b[38;5;241m=\u001b[39m Model(\n\u001b[1;32m     14\u001b[0m     model_data\u001b[38;5;241m=\u001b[39mmodel_artifact_path,\n\u001b[1;32m     15\u001b[0m     role\u001b[38;5;241m=\u001b[39mrole,\n\u001b[1;32m     16\u001b[0m     sagemaker_session\u001b[38;5;241m=\u001b[39msagemaker_session\n\u001b[1;32m     17\u001b[0m )\n\u001b[1;32m     19\u001b[0m \u001b[38;5;66;03m# Redeploy the model\u001b[39;00m\n\u001b[0;32m---> 20\u001b[0m linear_classifier_predictor \u001b[38;5;241m=\u001b[39m \u001b[43mmodel\u001b[49m\u001b[38;5;241;43m.\u001b[39;49m\u001b[43mdeploy\u001b[49m\u001b[43m(\u001b[49m\n\u001b[1;32m     21\u001b[0m \u001b[43m    \u001b[49m\u001b[43minitial_instance_count\u001b[49m\u001b[38;5;241;43m=\u001b[39;49m\u001b[38;5;241;43m1\u001b[39;49m\u001b[43m,\u001b[49m\n\u001b[1;32m     22\u001b[0m \u001b[43m    \u001b[49m\u001b[43minstance_type\u001b[49m\u001b[38;5;241;43m=\u001b[39;49m\u001b[38;5;124;43m'\u001b[39;49m\u001b[38;5;124;43mml.m5.large\u001b[39;49m\u001b[38;5;124;43m'\u001b[39;49m\u001b[43m,\u001b[49m\n\u001b[1;32m     23\u001b[0m \u001b[43m    \u001b[49m\u001b[43mendpoint_name\u001b[49m\u001b[38;5;241;43m=\u001b[39;49m\u001b[38;5;124;43m'\u001b[39;49m\u001b[38;5;124;43mlinear-classifier-endpoint-v2\u001b[39;49m\u001b[38;5;124;43m'\u001b[39;49m\u001b[43m  \u001b[49m\u001b[38;5;66;43;03m# Specify a new endpoint name\u001b[39;49;00m\n\u001b[1;32m     24\u001b[0m \u001b[43m)\u001b[49m\n\u001b[1;32m     26\u001b[0m \u001b[38;5;66;03m# Set the serializer and deserializer\u001b[39;00m\n\u001b[1;32m     27\u001b[0m linear_classifier_predictor\u001b[38;5;241m.\u001b[39mserializer \u001b[38;5;241m=\u001b[39m CSVSerializer()  \u001b[38;5;66;03m# Serialize input data to CSV\u001b[39;00m\n",
      "File \u001b[0;32m~/anaconda3/envs/python3/lib/python3.10/site-packages/sagemaker/model.py:1698\u001b[0m, in \u001b[0;36mModel.deploy\u001b[0;34m(self, initial_instance_count, instance_type, serializer, deserializer, accelerator_type, endpoint_name, tags, kms_key, wait, data_capture_config, async_inference_config, serverless_inference_config, volume_size, model_data_download_timeout, container_startup_health_check_timeout, inference_recommendation_id, explainer_config, accept_eula, endpoint_logging, resources, endpoint_type, managed_instance_scaling, inference_component_name, routing_config, model_reference_arn, **kwargs)\u001b[0m\n\u001b[1;32m   1695\u001b[0m     \u001b[38;5;28;01mreturn\u001b[39;00m \u001b[38;5;28;01mNone\u001b[39;00m\n\u001b[1;32m   1697\u001b[0m \u001b[38;5;28;01melse\u001b[39;00m:  \u001b[38;5;66;03m# existing single model endpoint path\u001b[39;00m\n\u001b[0;32m-> 1698\u001b[0m     \u001b[38;5;28;43mself\u001b[39;49m\u001b[38;5;241;43m.\u001b[39;49m\u001b[43m_create_sagemaker_model\u001b[49m\u001b[43m(\u001b[49m\n\u001b[1;32m   1699\u001b[0m \u001b[43m        \u001b[49m\u001b[43minstance_type\u001b[49m\u001b[38;5;241;43m=\u001b[39;49m\u001b[43minstance_type\u001b[49m\u001b[43m,\u001b[49m\n\u001b[1;32m   1700\u001b[0m \u001b[43m        \u001b[49m\u001b[43maccelerator_type\u001b[49m\u001b[38;5;241;43m=\u001b[39;49m\u001b[43maccelerator_type\u001b[49m\u001b[43m,\u001b[49m\n\u001b[1;32m   1701\u001b[0m \u001b[43m        \u001b[49m\u001b[43mtags\u001b[49m\u001b[38;5;241;43m=\u001b[39;49m\u001b[43mtags\u001b[49m\u001b[43m,\u001b[49m\n\u001b[1;32m   1702\u001b[0m \u001b[43m        \u001b[49m\u001b[43mserverless_inference_config\u001b[49m\u001b[38;5;241;43m=\u001b[39;49m\u001b[43mserverless_inference_config\u001b[49m\u001b[43m,\u001b[49m\n\u001b[1;32m   1703\u001b[0m \u001b[43m        \u001b[49m\u001b[43maccept_eula\u001b[49m\u001b[38;5;241;43m=\u001b[39;49m\u001b[43maccept_eula\u001b[49m\u001b[43m,\u001b[49m\n\u001b[1;32m   1704\u001b[0m \u001b[43m        \u001b[49m\u001b[43mmodel_reference_arn\u001b[49m\u001b[38;5;241;43m=\u001b[39;49m\u001b[43mmodel_reference_arn\u001b[49m\u001b[43m,\u001b[49m\n\u001b[1;32m   1705\u001b[0m \u001b[43m    \u001b[49m\u001b[43m)\u001b[49m\n\u001b[1;32m   1706\u001b[0m     serverless_inference_config_dict \u001b[38;5;241m=\u001b[39m (\n\u001b[1;32m   1707\u001b[0m         serverless_inference_config\u001b[38;5;241m.\u001b[39m_to_request_dict() \u001b[38;5;28;01mif\u001b[39;00m is_serverless \u001b[38;5;28;01melse\u001b[39;00m \u001b[38;5;28;01mNone\u001b[39;00m\n\u001b[1;32m   1708\u001b[0m     )\n\u001b[1;32m   1709\u001b[0m     production_variant \u001b[38;5;241m=\u001b[39m sagemaker\u001b[38;5;241m.\u001b[39mproduction_variant(\n\u001b[1;32m   1710\u001b[0m         \u001b[38;5;28mself\u001b[39m\u001b[38;5;241m.\u001b[39mname,\n\u001b[1;32m   1711\u001b[0m         instance_type,\n\u001b[0;32m   (...)\u001b[0m\n\u001b[1;32m   1718\u001b[0m         routing_config\u001b[38;5;241m=\u001b[39mrouting_config,\n\u001b[1;32m   1719\u001b[0m     )\n",
      "File \u001b[0;32m~/anaconda3/envs/python3/lib/python3.10/site-packages/sagemaker/model.py:930\u001b[0m, in \u001b[0;36mModel._create_sagemaker_model\u001b[0;34m(self, instance_type, accelerator_type, tags, serverless_inference_config, accept_eula, model_reference_arn)\u001b[0m\n\u001b[1;32m    928\u001b[0m         \u001b[38;5;28mself\u001b[39m\u001b[38;5;241m.\u001b[39mname \u001b[38;5;241m=\u001b[39m model_package\u001b[38;5;241m.\u001b[39mname\n\u001b[1;32m    929\u001b[0m \u001b[38;5;28;01melse\u001b[39;00m:\n\u001b[0;32m--> 930\u001b[0m     container_def \u001b[38;5;241m=\u001b[39m \u001b[38;5;28;43mself\u001b[39;49m\u001b[38;5;241;43m.\u001b[39;49m\u001b[43mprepare_container_def\u001b[49m\u001b[43m(\u001b[49m\n\u001b[1;32m    931\u001b[0m \u001b[43m        \u001b[49m\u001b[43minstance_type\u001b[49m\u001b[43m,\u001b[49m\n\u001b[1;32m    932\u001b[0m \u001b[43m        \u001b[49m\u001b[43maccelerator_type\u001b[49m\u001b[38;5;241;43m=\u001b[39;49m\u001b[43maccelerator_type\u001b[49m\u001b[43m,\u001b[49m\n\u001b[1;32m    933\u001b[0m \u001b[43m        \u001b[49m\u001b[43mserverless_inference_config\u001b[49m\u001b[38;5;241;43m=\u001b[39;49m\u001b[43mserverless_inference_config\u001b[49m\u001b[43m,\u001b[49m\n\u001b[1;32m    934\u001b[0m \u001b[43m        \u001b[49m\u001b[43maccept_eula\u001b[49m\u001b[38;5;241;43m=\u001b[39;49m\u001b[43maccept_eula\u001b[49m\u001b[43m,\u001b[49m\n\u001b[1;32m    935\u001b[0m \u001b[43m        \u001b[49m\u001b[43mmodel_reference_arn\u001b[49m\u001b[38;5;241;43m=\u001b[39;49m\u001b[43mmodel_reference_arn\u001b[49m\u001b[43m,\u001b[49m\n\u001b[1;32m    936\u001b[0m \u001b[43m    \u001b[49m\u001b[43m)\u001b[49m\n\u001b[1;32m    938\u001b[0m     \u001b[38;5;28;01mif\u001b[39;00m \u001b[38;5;129;01mnot\u001b[39;00m \u001b[38;5;28misinstance\u001b[39m(\u001b[38;5;28mself\u001b[39m\u001b[38;5;241m.\u001b[39msagemaker_session, PipelineSession):\n\u001b[1;32m    939\u001b[0m         \u001b[38;5;66;03m# _base_name, model_name are not needed under PipelineSession.\u001b[39;00m\n\u001b[1;32m    940\u001b[0m         \u001b[38;5;66;03m# the model_data may be Pipeline variable\u001b[39;00m\n\u001b[1;32m    941\u001b[0m         \u001b[38;5;66;03m# which may break the _base_name generation\u001b[39;00m\n\u001b[1;32m    942\u001b[0m         \u001b[38;5;28mself\u001b[39m\u001b[38;5;241m.\u001b[39m_ensure_base_name_if_needed(\n\u001b[1;32m    943\u001b[0m             image_uri\u001b[38;5;241m=\u001b[39mcontainer_def[\u001b[38;5;124m\"\u001b[39m\u001b[38;5;124mImage\u001b[39m\u001b[38;5;124m\"\u001b[39m],\n\u001b[1;32m    944\u001b[0m             script_uri\u001b[38;5;241m=\u001b[39m\u001b[38;5;28mself\u001b[39m\u001b[38;5;241m.\u001b[39msource_dir,\n\u001b[1;32m    945\u001b[0m             model_uri\u001b[38;5;241m=\u001b[39m\u001b[38;5;28mself\u001b[39m\u001b[38;5;241m.\u001b[39m_get_model_uri(),\n\u001b[1;32m    946\u001b[0m         )\n",
      "File \u001b[0;32m~/anaconda3/envs/python3/lib/python3.10/site-packages/sagemaker/model.py:713\u001b[0m, in \u001b[0;36mModel.prepare_container_def\u001b[0;34m(self, instance_type, accelerator_type, serverless_inference_config, accept_eula, model_reference_arn)\u001b[0m\n\u001b[1;32m    680\u001b[0m \u001b[38;5;28;01mdef\u001b[39;00m \u001b[38;5;21mprepare_container_def\u001b[39m(\n\u001b[1;32m    681\u001b[0m     \u001b[38;5;28mself\u001b[39m,\n\u001b[1;32m    682\u001b[0m     instance_type\u001b[38;5;241m=\u001b[39m\u001b[38;5;28;01mNone\u001b[39;00m,\n\u001b[0;32m   (...)\u001b[0m\n\u001b[1;32m    686\u001b[0m     model_reference_arn\u001b[38;5;241m=\u001b[39m\u001b[38;5;28;01mNone\u001b[39;00m,\n\u001b[1;32m    687\u001b[0m ):  \u001b[38;5;66;03m# pylint: disable=unused-argument\u001b[39;00m\n\u001b[1;32m    688\u001b[0m \u001b[38;5;250m    \u001b[39m\u001b[38;5;124;03m\"\"\"Return a dict created by ``sagemaker.container_def()``.\u001b[39;00m\n\u001b[1;32m    689\u001b[0m \n\u001b[1;32m    690\u001b[0m \u001b[38;5;124;03m    It is used for deploying this model to a specified instance type.\u001b[39;00m\n\u001b[0;32m   (...)\u001b[0m\n\u001b[1;32m    711\u001b[0m \u001b[38;5;124;03m        dict: A container definition object usable with the CreateModel API.\u001b[39;00m\n\u001b[1;32m    712\u001b[0m \u001b[38;5;124;03m    \"\"\"\u001b[39;00m\n\u001b[0;32m--> 713\u001b[0m     deploy_key_prefix \u001b[38;5;241m=\u001b[39m \u001b[43mfw_utils\u001b[49m\u001b[38;5;241;43m.\u001b[39;49m\u001b[43mmodel_code_key_prefix\u001b[49m\u001b[43m(\u001b[49m\n\u001b[1;32m    714\u001b[0m \u001b[43m        \u001b[49m\u001b[38;5;28;43mself\u001b[39;49m\u001b[38;5;241;43m.\u001b[39;49m\u001b[43mkey_prefix\u001b[49m\u001b[43m,\u001b[49m\u001b[43m \u001b[49m\u001b[38;5;28;43mself\u001b[39;49m\u001b[38;5;241;43m.\u001b[39;49m\u001b[43mname\u001b[49m\u001b[43m,\u001b[49m\u001b[43m \u001b[49m\u001b[38;5;28;43mself\u001b[39;49m\u001b[38;5;241;43m.\u001b[39;49m\u001b[43mimage_uri\u001b[49m\n\u001b[1;32m    715\u001b[0m \u001b[43m    \u001b[49m\u001b[43m)\u001b[49m\n\u001b[1;32m    716\u001b[0m     deploy_env \u001b[38;5;241m=\u001b[39m copy\u001b[38;5;241m.\u001b[39mdeepcopy(\u001b[38;5;28mself\u001b[39m\u001b[38;5;241m.\u001b[39menv)\n\u001b[1;32m    717\u001b[0m     \u001b[38;5;28;01mif\u001b[39;00m \u001b[38;5;28mself\u001b[39m\u001b[38;5;241m.\u001b[39msource_dir \u001b[38;5;129;01mor\u001b[39;00m \u001b[38;5;28mself\u001b[39m\u001b[38;5;241m.\u001b[39mdependencies \u001b[38;5;129;01mor\u001b[39;00m \u001b[38;5;28mself\u001b[39m\u001b[38;5;241m.\u001b[39mentry_point \u001b[38;5;129;01mor\u001b[39;00m \u001b[38;5;28mself\u001b[39m\u001b[38;5;241m.\u001b[39mgit_config:\n",
      "File \u001b[0;32m~/anaconda3/envs/python3/lib/python3.10/site-packages/sagemaker/fw_utils.py:597\u001b[0m, in \u001b[0;36mmodel_code_key_prefix\u001b[0;34m(code_location_key_prefix, model_name, image)\u001b[0m\n\u001b[1;32m    595\u001b[0m name_from_image \u001b[38;5;241m=\u001b[39m \u001b[38;5;124mf\u001b[39m\u001b[38;5;124m\"\u001b[39m\u001b[38;5;124m/model_code/\u001b[39m\u001b[38;5;132;01m{\u001b[39;00m\u001b[38;5;28mint\u001b[39m(time\u001b[38;5;241m.\u001b[39mtime())\u001b[38;5;132;01m}\u001b[39;00m\u001b[38;5;124m\"\u001b[39m\n\u001b[1;32m    596\u001b[0m \u001b[38;5;28;01mif\u001b[39;00m \u001b[38;5;129;01mnot\u001b[39;00m is_pipeline_variable(image):\n\u001b[0;32m--> 597\u001b[0m     name_from_image \u001b[38;5;241m=\u001b[39m \u001b[43msagemaker\u001b[49m\u001b[38;5;241;43m.\u001b[39;49m\u001b[43mutils\u001b[49m\u001b[38;5;241;43m.\u001b[39;49m\u001b[43mname_from_image\u001b[49m\u001b[43m(\u001b[49m\u001b[43mimage\u001b[49m\u001b[43m)\u001b[49m\n\u001b[1;32m    598\u001b[0m \u001b[38;5;28;01mreturn\u001b[39;00m s3_path_join(code_location_key_prefix, model_name \u001b[38;5;129;01mor\u001b[39;00m name_from_image)\n",
      "File \u001b[0;32m~/anaconda3/envs/python3/lib/python3.10/site-packages/sagemaker/utils.py:87\u001b[0m, in \u001b[0;36mname_from_image\u001b[0;34m(image, max_length)\u001b[0m\n\u001b[1;32m     76\u001b[0m \u001b[38;5;28;01mdef\u001b[39;00m \u001b[38;5;21mname_from_image\u001b[39m(image, max_length\u001b[38;5;241m=\u001b[39m\u001b[38;5;241m63\u001b[39m):\n\u001b[1;32m     77\u001b[0m \u001b[38;5;250m    \u001b[39m\u001b[38;5;124;03m\"\"\"Create a training job name based on the image name and a timestamp.\u001b[39;00m\n\u001b[1;32m     78\u001b[0m \n\u001b[1;32m     79\u001b[0m \u001b[38;5;124;03m    Args:\u001b[39;00m\n\u001b[0;32m   (...)\u001b[0m\n\u001b[1;32m     85\u001b[0m \u001b[38;5;124;03m        max_length (int): Maximum length for the resulting string (default: 63).\u001b[39;00m\n\u001b[1;32m     86\u001b[0m \u001b[38;5;124;03m    \"\"\"\u001b[39;00m\n\u001b[0;32m---> 87\u001b[0m     \u001b[38;5;28;01mreturn\u001b[39;00m name_from_base(\u001b[43mbase_name_from_image\u001b[49m\u001b[43m(\u001b[49m\u001b[43mimage\u001b[49m\u001b[43m)\u001b[49m, max_length\u001b[38;5;241m=\u001b[39mmax_length)\n",
      "File \u001b[0;32m~/anaconda3/envs/python3/lib/python3.10/site-packages/sagemaker/utils.py:157\u001b[0m, in \u001b[0;36mbase_name_from_image\u001b[0;34m(image, default_base_name)\u001b[0m\n\u001b[1;32m    154\u001b[0m \u001b[38;5;28;01melse\u001b[39;00m:\n\u001b[1;32m    155\u001b[0m     image_str \u001b[38;5;241m=\u001b[39m image\n\u001b[0;32m--> 157\u001b[0m m \u001b[38;5;241m=\u001b[39m \u001b[43mre\u001b[49m\u001b[38;5;241;43m.\u001b[39;49m\u001b[43mmatch\u001b[49m\u001b[43m(\u001b[49m\u001b[38;5;124;43m\"\u001b[39;49m\u001b[38;5;124;43m^(.+/)?([^:/]+)(:[^:]+)?$\u001b[39;49m\u001b[38;5;124;43m\"\u001b[39;49m\u001b[43m,\u001b[49m\u001b[43m \u001b[49m\u001b[43mimage_str\u001b[49m\u001b[43m)\u001b[49m\n\u001b[1;32m    158\u001b[0m base_name \u001b[38;5;241m=\u001b[39m m\u001b[38;5;241m.\u001b[39mgroup(\u001b[38;5;241m2\u001b[39m) \u001b[38;5;28;01mif\u001b[39;00m m \u001b[38;5;28;01melse\u001b[39;00m image_str\n\u001b[1;32m    159\u001b[0m \u001b[38;5;28;01mreturn\u001b[39;00m base_name\n",
      "File \u001b[0;32m~/anaconda3/envs/python3/lib/python3.10/re.py:190\u001b[0m, in \u001b[0;36mmatch\u001b[0;34m(pattern, string, flags)\u001b[0m\n\u001b[1;32m    187\u001b[0m \u001b[38;5;28;01mdef\u001b[39;00m \u001b[38;5;21mmatch\u001b[39m(pattern, string, flags\u001b[38;5;241m=\u001b[39m\u001b[38;5;241m0\u001b[39m):\n\u001b[1;32m    188\u001b[0m \u001b[38;5;250m    \u001b[39m\u001b[38;5;124;03m\"\"\"Try to apply the pattern at the start of the string, returning\u001b[39;00m\n\u001b[1;32m    189\u001b[0m \u001b[38;5;124;03m    a Match object, or None if no match was found.\"\"\"\u001b[39;00m\n\u001b[0;32m--> 190\u001b[0m     \u001b[38;5;28;01mreturn\u001b[39;00m \u001b[43m_compile\u001b[49m\u001b[43m(\u001b[49m\u001b[43mpattern\u001b[49m\u001b[43m,\u001b[49m\u001b[43m \u001b[49m\u001b[43mflags\u001b[49m\u001b[43m)\u001b[49m\u001b[38;5;241;43m.\u001b[39;49m\u001b[43mmatch\u001b[49m\u001b[43m(\u001b[49m\u001b[43mstring\u001b[49m\u001b[43m)\u001b[49m\n",
      "\u001b[0;31mTypeError\u001b[0m: expected string or bytes-like object"
     ]
    }
   ],
   "source": [
    "import sagemaker\n",
    "from sagemaker.model import Model\n",
    "from sagemaker.serializers import CSVSerializer\n",
    "from sagemaker.deserializers import JSONDeserializer\n",
    "\n",
    "# S3 path to the pre-trained model\n",
    "model_artifact_path = 's3://sagemaker-eu-north-1-686583312671/claim_prop_prod_v1/output/linear-learner-2024-09-17-08-57-03-107/output/model.tar.gz'\n",
    "\n",
    "# Create a SageMaker session\n",
    "sagemaker_session = sagemaker.Session()\n",
    "\n",
    "# Create a Model object using the pre-trained model's S3 artifacts\n",
    "model = Model(\n",
    "    model_data=model_artifact_path,\n",
    "    role=role,\n",
    "    sagemaker_session=sagemaker_session\n",
    ")\n",
    "\n",
    "# Redeploy the model\n",
    "linear_classifier_predictor = model.deploy(\n",
    "    initial_instance_count=1,\n",
    "    instance_type='ml.m5.large',\n",
    "    endpoint_name='linear-classifier-endpoint-v2'  # Specify a new endpoint name\n",
    ")\n",
    "\n",
    "# Set the serializer and deserializer\n",
    "linear_classifier_predictor.serializer = CSVSerializer()  # Serialize input data to CSV\n",
    "linear_classifier_predictor.deserializer = JSONDeserializer()  # Deserialize output from JSON\n",
    "\n",
    "print(\"Model redeployed successfully!\")\n"
   ]
  },
  {
   "cell_type": "code",
   "execution_count": 16,
   "id": "9cfd7dc0-08d3-40c8-8f6c-f149636c6994",
   "metadata": {
    "tags": []
   },
   "outputs": [
    {
     "name": "stdout",
     "output_type": "stream",
     "text": [
      "-------!"
     ]
    }
   ],
   "source": [
    "import sagemaker\n",
    "from sagemaker.model import Model\n",
    "from sagemaker.serializers import CSVSerializer\n",
    "from sagemaker.deserializers import JSONDeserializer\n",
    "\n",
    "# S3 path to the pre-trained model\n",
    "model_artifact_path = 's3://sagemaker-eu-north-1-686583312671/claim_prop_prod_v1/output/linear-learner-2024-09-17-08-57-03-107/output/model.tar.gz'\n",
    "\n",
    "\n",
    "# Define the container image URI for the Linear Learner algorithm\n",
    "image_uri = sagemaker.image_uris.retrieve(\n",
    "    region=sagemaker_session.boto_session.region_name,\n",
    "    framework='linear-learner'\n",
    ")\n",
    "\n",
    "\n",
    "# Create a SageMaker session\n",
    "sagemaker_session = sagemaker.Session()\n",
    "\n",
    "# Create a Model object using the pre-trained model's S3 artifacts and the image URI\n",
    "model = Model(\n",
    "    model_data=model_artifact_path,\n",
    "    role=role,\n",
    "    image_uri=image_uri,  # Specifying the image URI for the algorithm\n",
    "    sagemaker_session=sagemaker_session\n",
    ")\n",
    "\n",
    "# Redeploy the model\n",
    "linear_classifier_predictor = model.deploy(\n",
    "    initial_instance_count=1,\n",
    "    instance_type='ml.m5.large',\n",
    "    endpoint_name='linear-classifier-endpoint-v3'  # Specify a new endpoint name\n",
    ")\n",
    "\n"
   ]
  },
  {
   "cell_type": "code",
   "execution_count": 20,
   "id": "e44d8138",
   "metadata": {},
   "outputs": [
    {
     "ename": "ClientError",
     "evalue": "An error occurred (ValidationException) when calling the DeleteEndpointConfig operation: Could not find endpoint configuration \"linear-classifier-endpoint-v3\".",
     "output_type": "error",
     "traceback": [
      "\u001b[0;31m---------------------------------------------------------------------------\u001b[0m",
      "\u001b[0;31mClientError\u001b[0m                               Traceback (most recent call last)",
      "Cell \u001b[0;32mIn[20], line 5\u001b[0m\n\u001b[1;32m      2\u001b[0m \u001b[38;5;28;01mimport\u001b[39;00m \u001b[38;5;21;01mboto3\u001b[39;00m\n\u001b[1;32m      4\u001b[0m client \u001b[38;5;241m=\u001b[39m boto3\u001b[38;5;241m.\u001b[39mclient(\u001b[38;5;124m'\u001b[39m\u001b[38;5;124msagemaker\u001b[39m\u001b[38;5;124m'\u001b[39m)\n\u001b[0;32m----> 5\u001b[0m \u001b[43mclient\u001b[49m\u001b[38;5;241;43m.\u001b[39;49m\u001b[43mdelete_endpoint_config\u001b[49m\u001b[43m(\u001b[49m\u001b[43mEndpointConfigName\u001b[49m\u001b[38;5;241;43m=\u001b[39;49m\u001b[38;5;124;43m'\u001b[39;49m\u001b[38;5;124;43mlinear-classifier-endpoint-v3\u001b[39;49m\u001b[38;5;124;43m'\u001b[39;49m\u001b[43m)\u001b[49m\n",
      "File \u001b[0;32m~/anaconda3/envs/python3/lib/python3.10/site-packages/botocore/client.py:569\u001b[0m, in \u001b[0;36mClientCreator._create_api_method.<locals>._api_call\u001b[0;34m(self, *args, **kwargs)\u001b[0m\n\u001b[1;32m    565\u001b[0m     \u001b[38;5;28;01mraise\u001b[39;00m \u001b[38;5;167;01mTypeError\u001b[39;00m(\n\u001b[1;32m    566\u001b[0m         \u001b[38;5;124mf\u001b[39m\u001b[38;5;124m\"\u001b[39m\u001b[38;5;132;01m{\u001b[39;00mpy_operation_name\u001b[38;5;132;01m}\u001b[39;00m\u001b[38;5;124m() only accepts keyword arguments.\u001b[39m\u001b[38;5;124m\"\u001b[39m\n\u001b[1;32m    567\u001b[0m     )\n\u001b[1;32m    568\u001b[0m \u001b[38;5;66;03m# The \"self\" in this scope is referring to the BaseClient.\u001b[39;00m\n\u001b[0;32m--> 569\u001b[0m \u001b[38;5;28;01mreturn\u001b[39;00m \u001b[38;5;28;43mself\u001b[39;49m\u001b[38;5;241;43m.\u001b[39;49m\u001b[43m_make_api_call\u001b[49m\u001b[43m(\u001b[49m\u001b[43moperation_name\u001b[49m\u001b[43m,\u001b[49m\u001b[43m \u001b[49m\u001b[43mkwargs\u001b[49m\u001b[43m)\u001b[49m\n",
      "File \u001b[0;32m~/anaconda3/envs/python3/lib/python3.10/site-packages/botocore/client.py:1023\u001b[0m, in \u001b[0;36mBaseClient._make_api_call\u001b[0;34m(self, operation_name, api_params)\u001b[0m\n\u001b[1;32m   1019\u001b[0m     error_code \u001b[38;5;241m=\u001b[39m error_info\u001b[38;5;241m.\u001b[39mget(\u001b[38;5;124m\"\u001b[39m\u001b[38;5;124mQueryErrorCode\u001b[39m\u001b[38;5;124m\"\u001b[39m) \u001b[38;5;129;01mor\u001b[39;00m error_info\u001b[38;5;241m.\u001b[39mget(\n\u001b[1;32m   1020\u001b[0m         \u001b[38;5;124m\"\u001b[39m\u001b[38;5;124mCode\u001b[39m\u001b[38;5;124m\"\u001b[39m\n\u001b[1;32m   1021\u001b[0m     )\n\u001b[1;32m   1022\u001b[0m     error_class \u001b[38;5;241m=\u001b[39m \u001b[38;5;28mself\u001b[39m\u001b[38;5;241m.\u001b[39mexceptions\u001b[38;5;241m.\u001b[39mfrom_code(error_code)\n\u001b[0;32m-> 1023\u001b[0m     \u001b[38;5;28;01mraise\u001b[39;00m error_class(parsed_response, operation_name)\n\u001b[1;32m   1024\u001b[0m \u001b[38;5;28;01melse\u001b[39;00m:\n\u001b[1;32m   1025\u001b[0m     \u001b[38;5;28;01mreturn\u001b[39;00m parsed_response\n",
      "\u001b[0;31mClientError\u001b[0m: An error occurred (ValidationException) when calling the DeleteEndpointConfig operation: Could not find endpoint configuration \"linear-classifier-endpoint-v3\"."
     ]
    }
   ],
   "source": [
    "# Delete endpoint\n",
    "import boto3\n",
    "\n",
    "client = boto3.client('sagemaker')\n",
    "client.delete_endpoint_config(EndpointConfigName='linear-classifier-endpoint-v3')"
   ]
  },
  {
   "cell_type": "code",
   "execution_count": 17,
   "id": "0945ebfe",
   "metadata": {},
   "outputs": [
    {
     "name": "stdout",
     "output_type": "stream",
     "text": [
      "None\n"
     ]
    }
   ],
   "source": [
    "print(linear_classifier_predictor)"
   ]
  }
 ],
 "metadata": {
  "kernelspec": {
   "display_name": "conda_python3",
   "language": "python",
   "name": "conda_python3"
  },
  "language_info": {
   "codemirror_mode": {
    "name": "ipython",
    "version": 3
   },
   "file_extension": ".py",
   "mimetype": "text/x-python",
   "name": "python",
   "nbconvert_exporter": "python",
   "pygments_lexer": "ipython3",
   "version": "3.10.14"
  }
 },
 "nbformat": 4,
 "nbformat_minor": 5
}
